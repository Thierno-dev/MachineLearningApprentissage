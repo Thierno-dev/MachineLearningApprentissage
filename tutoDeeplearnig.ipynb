{
  "nbformat": 4,
  "nbformat_minor": 0,
  "metadata": {
    "colab": {
      "provenance": [],
      "authorship_tag": "ABX9TyMAkQt09XqLJ1jE5Hxoe2M1",
      "include_colab_link": true
    },
    "kernelspec": {
      "name": "python3",
      "display_name": "Python 3"
    },
    "language_info": {
      "name": "python"
    }
  },
  "cells": [
    {
      "cell_type": "markdown",
      "metadata": {
        "id": "view-in-github",
        "colab_type": "text"
      },
      "source": [
        "<a href=\"https://colab.research.google.com/github/Thierno-dev/MachineLearningApprentissage/blob/main/tutoDeeplearnig.ipynb\" target=\"_parent\"><img src=\"https://colab.research.google.com/assets/colab-badge.svg\" alt=\"Open In Colab\"/></a>"
      ]
    },
    {
      "cell_type": "markdown",
      "source": [
        "Mise en place du deep learning, import des paquet tensor flow"
      ],
      "metadata": {
        "id": "Wq0YRVmvCbUJ"
      }
    },
    {
      "cell_type": "code",
      "execution_count": 34,
      "metadata": {
        "colab": {
          "base_uri": "https://localhost:8080/"
        },
        "id": "_Bw4OX1UCYpS",
        "outputId": "dd6c2f3d-4cc5-4418-fdd7-afa66a90ab34"
      },
      "outputs": [
        {
          "output_type": "stream",
          "name": "stdout",
          "text": [
            "Epoch 1/6\n",
            "1875/1875 [==============================] - 10s 5ms/step - loss: 0.2648 - accuracy: 0.9217\n",
            "Epoch 2/6\n",
            "1875/1875 [==============================] - 9s 5ms/step - loss: 0.1085 - accuracy: 0.9672\n",
            "Epoch 3/6\n",
            "1875/1875 [==============================] - 7s 4ms/step - loss: 0.0744 - accuracy: 0.9763\n",
            "Epoch 4/6\n",
            "1875/1875 [==============================] - 9s 5ms/step - loss: 0.0547 - accuracy: 0.9825\n",
            "Epoch 5/6\n",
            "1875/1875 [==============================] - 8s 4ms/step - loss: 0.0411 - accuracy: 0.9871\n",
            "Epoch 6/6\n",
            "1875/1875 [==============================] - 9s 5ms/step - loss: 0.0330 - accuracy: 0.9894\n"
          ]
        },
        {
          "output_type": "execute_result",
          "data": {
            "text/plain": [
              "<keras.src.callbacks.History at 0x791be1db7ee0>"
            ]
          },
          "metadata": {},
          "execution_count": 34
        }
      ],
      "source": [
        "import tensorflow as tf\n",
        "mnist = tf.keras.datasets.mnist #28x28 images ecrit entre 0 - 9\n",
        "\n",
        "#Creation des variable d'entrainement\n",
        "(X_train,y_train),(X_test,y_test) = mnist.load_data()\n",
        "\n",
        "#Normalisation des données\n",
        "(X_train) = tf.keras.utils.normalize(X_train,axis=1)\n",
        "(X_test) = tf.keras.utils.normalize(X_test,axis=1)\n",
        "\n",
        "#Contrustion d'un modele de données\n",
        "#Reseau convolutif adapte au traitement au traitement  d'image\n",
        "\n",
        "model = tf.keras.models.Sequential()\n",
        "#applatir le model\n",
        "model.add(tf.keras.layers.Flatten())#C'est un reseau neuronal convolutif Flatten permet d'aplatir les données couche d'entree\n",
        "\n",
        "#choix de deux couche caché\n",
        "model.add(tf.keras.layers.Dense(128,activation=tf.nn.relu))#1ere couche cache , avec le dense on passe le nombre de nombre de neuronne que l'on souhaite pour entrainer le modele puis la fonction d'activation:pas a pas, sigmoide, relu etc..\n",
        "model.add(tf.keras.layers.Dense(128,activation=tf.nn.relu))#2e couche cache\n",
        "model.add(tf.keras.layers.Dense(10,activation=tf.nn.softmax))#couche de sortie, 10 concerne les valeur de sortie du model, et la focntion d'activation sera une probabilte de distribution avec softmax\n",
        "\n",
        "#definition de quelque parametre pour former notre modele\n",
        "model.compile(optimizer='adam',loss='sparse_categorical_crossentropy',\n",
        "              metrics=['accuracy'])#un modele deep minimise les pertes\n",
        "\n",
        "#Passer a l'entrainement du model sur les donne\n",
        "model.fit(X_train,y_train,epochs=6)"
      ]
    },
    {
      "cell_type": "markdown",
      "source": [
        "Importation de matplotlib pour la visualisation des"
      ],
      "metadata": {
        "id": "FxsMswFSD5Kb"
      }
    },
    {
      "cell_type": "code",
      "source": [],
      "metadata": {
        "id": "C0-Sf4rPUy24"
      },
      "execution_count": null,
      "outputs": []
    },
    {
      "cell_type": "markdown",
      "source": [
        "Evaluation du modele obtenu"
      ],
      "metadata": {
        "id": "uyRr2vnOPNpQ"
      }
    },
    {
      "cell_type": "code",
      "source": [
        "val_loss, val_acc = model.evaluate(X_test,y_test)\n",
        "\n",
        "val_loss, val_acc"
      ],
      "metadata": {
        "colab": {
          "base_uri": "https://localhost:8080/"
        },
        "id": "Vvx1m8L6PRxe",
        "outputId": "7c52e5b2-d671-42d6-c887-d2630fc233cf"
      },
      "execution_count": 36,
      "outputs": [
        {
          "output_type": "stream",
          "name": "stdout",
          "text": [
            "313/313 [==============================] - 1s 3ms/step - loss: 0.0828 - accuracy: 0.9768\n"
          ]
        },
        {
          "output_type": "execute_result",
          "data": {
            "text/plain": [
              "(0.08280392736196518, 0.9768000245094299)"
            ]
          },
          "metadata": {},
          "execution_count": 36
        }
      ]
    },
    {
      "cell_type": "code",
      "source": [
        "import matplotlib.pyplot as plt\n",
        "\n",
        "plt.imshow(X_train[0],cmap=plt.cm.binary)\n",
        "\n",
        "plt.show()\n"
      ],
      "metadata": {
        "colab": {
          "base_uri": "https://localhost:8080/",
          "height": 430
        },
        "id": "Y3BhIMZMD_aJ",
        "outputId": "a666d98f-80aa-4b40-e160-e52481f4bdb3"
      },
      "execution_count": 26,
      "outputs": [
        {
          "output_type": "display_data",
          "data": {
            "text/plain": [
              "<Figure size 640x480 with 1 Axes>"
            ],
            "image/png": "[encoded data removed]"
          },
          "metadata": {}
        }
      ]
    },
    {
      "cell_type": "markdown",
      "source": [
        "Enregistrement pour l'utiliser plutard"
      ],
      "metadata": {
        "id": "GkXrbnxIQjOT"
      }
    },
    {
      "cell_type": "code",
      "source": [
        "model.save('epic_num_reader.model')"
      ],
      "metadata": {
        "id": "nb4VYM38QnTJ"
      },
      "execution_count": 37,
      "outputs": []
    },
    {
      "cell_type": "markdown",
      "source": [
        "Creer un nouveau model"
      ],
      "metadata": {
        "id": "GQhKMpFjQxZs"
      }
    },
    {
      "cell_type": "code",
      "source": [
        "new_model = tf.keras.models.load_model('epic_num_reader.model')"
      ],
      "metadata": {
        "id": "D6JwN-8JQ0VD"
      },
      "execution_count": 38,
      "outputs": []
    },
    {
      "cell_type": "markdown",
      "source": [
        "Predire de nouvelle donné"
      ],
      "metadata": {
        "id": "kJtxFvpWQ_zK"
      }
    },
    {
      "cell_type": "code",
      "source": [
        "predictions = new_model.predict([X_test])\n",
        "\n",
        "predictions"
      ],
      "metadata": {
        "colab": {
          "base_uri": "https://localhost:8080/"
        },
        "id": "_1zXdCNzRClo",
        "outputId": "fb9b7fa2-b0fa-4349-f287-a3961032bff5"
      },
      "execution_count": 39,
      "outputs": [
        {
          "output_type": "stream",
          "name": "stdout",
          "text": [
            "313/313 [==============================] - 1s 2ms/step\n"
          ]
        },
        {
          "output_type": "execute_result",
          "data": {
            "text/plain": [
              "array([[8.87204699e-10, 8.78259865e-09, 2.20035226e-08, ...,\n",
              "        9.99999702e-01, 1.28913005e-10, 3.19304605e-09],\n",
              "       [2.32684878e-12, 3.06254356e-06, 9.99996603e-01, ...,\n",
              "        1.56157118e-11, 1.99080405e-10, 1.36100144e-14],\n",
              "       [8.60284066e-10, 9.99984562e-01, 4.52981332e-08, ...,\n",
              "        3.11301051e-06, 1.05659956e-05, 2.34347421e-08],\n",
              "       ...,\n",
              "       [1.81430045e-12, 9.16472089e-08, 1.39932519e-11, ...,\n",
              "        1.41223938e-06, 3.03312754e-06, 8.77487546e-05],\n",
              "       [1.73617153e-07, 7.95869859e-09, 1.11596676e-09, ...,\n",
              "        1.19817600e-09, 2.66506011e-03, 6.81914025e-10],\n",
              "       [2.64352962e-09, 5.40439950e-11, 2.60421418e-09, ...,\n",
              "        9.46080847e-14, 2.05353956e-09, 5.88366839e-14]], dtype=float32)"
            ]
          },
          "metadata": {},
          "execution_count": 39
        }
      ]
    },
    {
      "cell_type": "markdown",
      "source": [
        "Afficher les valeur utiliser un numpy pour voir on peut tf avec le arc max"
      ],
      "metadata": {
        "id": "Gum-tbsPRUO1"
      }
    },
    {
      "cell_type": "code",
      "source": [
        "import numpy as np\n",
        "\n",
        "np.argmax(predictions[1])"
      ],
      "metadata": {
        "colab": {
          "base_uri": "https://localhost:8080/"
        },
        "id": "0xOzPAOVRb-o",
        "outputId": "291ec192-cbe7-47b6-ca26-f2738b3d08db"
      },
      "execution_count": 42,
      "outputs": [
        {
          "output_type": "execute_result",
          "data": {
            "text/plain": [
              "2"
            ]
          },
          "metadata": {},
          "execution_count": 42
        }
      ]
    },
    {
      "cell_type": "markdown",
      "source": [
        "Pour le dessiner on a"
      ],
      "metadata": {
        "id": "S647wcYCR3pq"
      }
    },
    {
      "cell_type": "code",
      "source": [
        "plt.imshow(X_test[1])\n",
        "plt.show()"
      ],
      "metadata": {
        "colab": {
          "base_uri": "https://localhost:8080/",
          "height": 430
        },
        "id": "tPsx4eapR6SO",
        "outputId": "b5df2ec6-b4ac-4200-f720-43eb7ef2942b"
      },
      "execution_count": 45,
      "outputs": [
        {
          "output_type": "display_data",
          "data": {
            "text/plain": [
              "<Figure size 640x480 with 1 Axes>"
            ],
            "image/png": "[encoded data removed]"
          },
          "metadata": {}
        }
      ]
    }
  ]
}