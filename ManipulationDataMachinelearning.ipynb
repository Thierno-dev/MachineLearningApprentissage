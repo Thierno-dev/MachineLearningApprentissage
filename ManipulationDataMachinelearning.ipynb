{
  "nbformat": 4,
  "nbformat_minor": 0,
  "metadata": {
    "colab": {
      "provenance": [],
      "authorship_tag": "ABX9TyPO7DOTZW0gGY61fPQaOFFL",
      "include_colab_link": true
    },
    "kernelspec": {
      "name": "python3",
      "display_name": "Python 3"
    },
    "language_info": {
      "name": "python"
    }
  },
  "cells": [
    {
      "cell_type": "markdown",
      "metadata": {
        "id": "view-in-github",
        "colab_type": "text"
      },
      "source": [
        "<a href=\"https://colab.research.google.com/github/Thierno-dev/MachineLearningApprentissage/blob/main/ManipulationDataMachinelearning.ipynb\" target=\"_parent\"><img src=\"https://colab.research.google.com/assets/colab-badge.svg\" alt=\"Open In Colab\"/></a>"
      ]
    },
    {
      "cell_type": "code",
      "execution_count": 1,
      "metadata": {
        "id": "SX9dCdUxAHLi"
      },
      "outputs": [],
      "source": [
        "import numpy as np\n",
        "import tensorflow as tf\n",
        "import pandas as pd\n",
        "import matplotlib.pyplot as plt\n"
      ]
    },
    {
      "cell_type": "markdown",
      "source": [
        "Manipulation donnees avec tensorflow"
      ],
      "metadata": {
        "id": "BsLtGKRVA4nd"
      }
    },
    {
      "cell_type": "markdown",
      "source": [],
      "metadata": {
        "id": "5GjcMI4PA7nC"
      }
    },
    {
      "cell_type": "code",
      "source": [
        "x = tf.range(12,dtype=tf.float32) #creation d'un tableau de valeur\n",
        "\n",
        "\n",
        "\n",
        "#Redimensionner les données\n",
        "\n",
        "X = tf.reshape(x,(-1,3)) #creation d'une matrice de taille n avec cible(h,w) donc w=n/h\n",
        "\n",
        "tf.size(x), X\n"
      ],
      "metadata": {
        "colab": {
          "base_uri": "https://localhost:8080/"
        },
        "id": "KYD-mJrSBBuw",
        "outputId": "42b67a7f-98de-4bb3-c894-7503bae7484f"
      },
      "execution_count": 2,
      "outputs": [
        {
          "output_type": "execute_result",
          "data": {
            "text/plain": [
              "(<tf.Tensor: shape=(), dtype=int32, numpy=12>,\n",
              " <tf.Tensor: shape=(4, 3), dtype=float32, numpy=\n",
              " array([[ 0.,  1.,  2.],\n",
              "        [ 3.,  4.,  5.],\n",
              "        [ 6.,  7.,  8.],\n",
              "        [ 9., 10., 11.]], dtype=float32)>)"
            ]
          },
          "metadata": {},
          "execution_count": 2
        }
      ]
    },
    {
      "cell_type": "markdown",
      "source": [
        "Creation de matrices"
      ],
      "metadata": {
        "id": "Dx80oNjTCuf2"
      }
    },
    {
      "cell_type": "code",
      "source": [
        "X_zero = tf.zeros((3,2,4))#Creation d'une matrice avec zeros\n",
        "\n",
        "X_one = tf.ones((2,3))\n",
        "\n",
        "X_zero,X_one"
      ],
      "metadata": {
        "colab": {
          "base_uri": "https://localhost:8080/"
        },
        "id": "7PaE0EUKC0Ix",
        "outputId": "71a2e016-bd5b-4ee1-e9a6-440534b7ec69"
      },
      "execution_count": 3,
      "outputs": [
        {
          "output_type": "execute_result",
          "data": {
            "text/plain": [
              "(<tf.Tensor: shape=(3, 2, 4), dtype=float32, numpy=\n",
              " array([[[0., 0., 0., 0.],\n",
              "         [0., 0., 0., 0.]],\n",
              " \n",
              "        [[0., 0., 0., 0.],\n",
              "         [0., 0., 0., 0.]],\n",
              " \n",
              "        [[0., 0., 0., 0.],\n",
              "         [0., 0., 0., 0.]]], dtype=float32)>,\n",
              " <tf.Tensor: shape=(2, 3), dtype=float32, numpy=\n",
              " array([[1., 1., 1.],\n",
              "        [1., 1., 1.]], dtype=float32)>)"
            ]
          },
          "metadata": {},
          "execution_count": 3
        }
      ]
    },
    {
      "cell_type": "markdown",
      "source": [
        "Ajouter la normale des valeurs dans le tensorflow en normalisant la valeur en utilisant la distribution gaussienne comme Numpy np.random.randn"
      ],
      "metadata": {
        "id": "IEFh31dbEE8c"
      }
    },
    {
      "cell_type": "code",
      "source": [
        "X_normal = tf.random.normal((3,10))\n",
        "\n",
        "X_normal, X_normal[-1], X_normal[1:3]"
      ],
      "metadata": {
        "colab": {
          "base_uri": "https://localhost:8080/"
        },
        "id": "bCt7gjmkFqvq",
        "outputId": "11b3cbba-0b44-443c-c57e-9707b7059968"
      },
      "execution_count": 4,
      "outputs": [
        {
          "output_type": "execute_result",
          "data": {
            "text/plain": [
              "(<tf.Tensor: shape=(3, 10), dtype=float32, numpy=\n",
              " array([[-0.7457589 ,  0.3146578 , -0.50892115, -0.71319056,  0.83624095,\n",
              "          0.7787241 ,  0.21381699, -1.2289894 ,  1.2928206 , -0.59886724],\n",
              "        [ 0.9830839 , -0.00971271, -0.06985939,  0.0317108 ,  0.9937969 ,\n",
              "         -2.6846187 , -0.53704894,  0.3886762 , -0.9624007 ,  0.614162  ],\n",
              "        [-0.29644206,  1.5651565 ,  0.0477482 , -0.54312813, -0.20631482,\n",
              "          0.7444759 , -0.21405405, -0.76050586, -0.16913134, -1.0667329 ]],\n",
              "       dtype=float32)>,\n",
              " <tf.Tensor: shape=(10,), dtype=float32, numpy=\n",
              " array([-0.29644206,  1.5651565 ,  0.0477482 , -0.54312813, -0.20631482,\n",
              "         0.7444759 , -0.21405405, -0.76050586, -0.16913134, -1.0667329 ],\n",
              "       dtype=float32)>,\n",
              " <tf.Tensor: shape=(2, 10), dtype=float32, numpy=\n",
              " array([[ 0.9830839 , -0.00971271, -0.06985939,  0.0317108 ,  0.9937969 ,\n",
              "         -2.6846187 , -0.53704894,  0.3886762 , -0.9624007 ,  0.614162  ],\n",
              "        [-0.29644206,  1.5651565 ,  0.0477482 , -0.54312813, -0.20631482,\n",
              "          0.7444759 , -0.21405405, -0.76050586, -0.16913134, -1.0667329 ]],\n",
              "       dtype=float32)>)"
            ]
          },
          "metadata": {},
          "execution_count": 4
        }
      ]
    },
    {
      "cell_type": "markdown",
      "source": [
        "Attributions de valeurs"
      ],
      "metadata": {
        "id": "L6n6mAjWGlub"
      }
    },
    {
      "cell_type": "code",
      "source": [
        "X_vars = tf.Variable(X_normal)\n",
        "\n",
        "X_vars[1,2].assign(9)"
      ],
      "metadata": {
        "colab": {
          "base_uri": "https://localhost:8080/"
        },
        "id": "O5LbhRdDHJKK",
        "outputId": "ed6b73b1-b11c-4d3c-8176-f3672ad3911e"
      },
      "execution_count": 5,
      "outputs": [
        {
          "output_type": "execute_result",
          "data": {
            "text/plain": [
              "<tf.Variable 'UnreadVariable' shape=(3, 10) dtype=float32, numpy=\n",
              "array([[-0.7457589 ,  0.3146578 , -0.50892115, -0.71319056,  0.83624095,\n",
              "         0.7787241 ,  0.21381699, -1.2289894 ,  1.2928206 , -0.59886724],\n",
              "       [ 0.9830839 , -0.00971271,  9.        ,  0.0317108 ,  0.9937969 ,\n",
              "        -2.6846187 , -0.53704894,  0.3886762 , -0.9624007 ,  0.614162  ],\n",
              "       [-0.29644206,  1.5651565 ,  0.0477482 , -0.54312813, -0.20631482,\n",
              "         0.7444759 , -0.21405405, -0.76050586, -0.16913134, -1.0667329 ]],\n",
              "      dtype=float32)>"
            ]
          },
          "metadata": {},
          "execution_count": 5
        }
      ]
    },
    {
      "cell_type": "markdown",
      "source": [],
      "metadata": {
        "id": "LAOtoOJfGoXK"
      }
    },
    {
      "cell_type": "markdown",
      "source": [
        "Operations données"
      ],
      "metadata": {
        "id": "sxfWMWAtJS9S"
      }
    },
    {
      "cell_type": "code",
      "source": [
        "X_unaire = tf.exp(X_normal) # f: R->R\n",
        "\n",
        "#Operations entre deux vecteurs\n",
        "\n",
        "x = tf.constant([1.0,6.7,4,8])\n",
        "y = tf.constant([1.0,6.7,4,8])\n",
        "\n",
        "x+y, x-y,x*y,x / y, x**y"
      ],
      "metadata": {
        "colab": {
          "base_uri": "https://localhost:8080/"
        },
        "id": "pxa7MoAhJWei",
        "outputId": "ee8d296d-5793-43d1-c13d-606af4769f05"
      },
      "execution_count": 6,
      "outputs": [
        {
          "output_type": "execute_result",
          "data": {
            "text/plain": [
              "(<tf.Tensor: shape=(4,), dtype=float32, numpy=array([ 2. , 13.4,  8. , 16. ], dtype=float32)>,\n",
              " <tf.Tensor: shape=(4,), dtype=float32, numpy=array([0., 0., 0., 0.], dtype=float32)>,\n",
              " <tf.Tensor: shape=(4,), dtype=float32, numpy=array([ 1.      , 44.889996, 16.      , 64.      ], dtype=float32)>,\n",
              " <tf.Tensor: shape=(4,), dtype=float32, numpy=array([1., 1., 1., 1.], dtype=float32)>,\n",
              " <tf.Tensor: shape=(4,), dtype=float32, numpy=\n",
              " array([1.0000000e+00, 3.4253184e+05, 2.5600000e+02, 1.6777216e+07],\n",
              "       dtype=float32)>)"
            ]
          },
          "metadata": {},
          "execution_count": 6
        }
      ]
    },
    {
      "cell_type": "markdown",
      "source": [
        "Lecture des données"
      ],
      "metadata": {
        "id": "c8BvIJolLukD"
      }
    },
    {
      "cell_type": "code",
      "source": [
        "!pip install ucimlrepo"
      ],
      "metadata": {
        "colab": {
          "base_uri": "https://localhost:8080/"
        },
        "id": "jieiOAayLxA9",
        "outputId": "8d8b7aa3-9cb5-488c-e62b-afda10aba46f"
      },
      "execution_count": 7,
      "outputs": [
        {
          "output_type": "stream",
          "name": "stdout",
          "text": [
            "Requirement already satisfied: ucimlrepo in /usr/local/lib/python3.10/dist-packages (0.0.3)\n"
          ]
        }
      ]
    },
    {
      "cell_type": "markdown",
      "source": [
        "Importation de données"
      ],
      "metadata": {
        "id": "vpcuuzFpOWTj"
      }
    },
    {
      "cell_type": "code",
      "source": [
        "from ucimlrepo import fetch_ucirepo"
      ],
      "metadata": {
        "id": "BvDmotydObza"
      },
      "execution_count": 8,
      "outputs": []
    },
    {
      "cell_type": "markdown",
      "source": [
        "Voir les données avec  L'imputation remplace les valeurs manquantes par des estimations de leurs valeurs, tandis que la suppression élimine simplement les lignes ou les colonnes contenant des valeurs manquantes."
      ],
      "metadata": {
        "id": "mNfuQajSOePI"
      }
    },
    {
      "cell_type": "code",
      "source": [
        "# fetch dataset\n",
        "abalone = fetch_ucirepo(id=1)\n",
        "\n",
        "# data (as pandas dataframes)\n",
        "X = abalone.data.features #seperation des données en 2 partie X et le Y puis traitement des données numerique\n",
        "y = abalone.data.targets\n",
        "\n",
        "pd.isna(X)\n",
        "# metadata\n",
        "#print(abalone.metadata)\n",
        "\n",
        "# variable information\n",
        "#print(abalone.variables)"
      ],
      "metadata": {
        "colab": {
          "base_uri": "https://localhost:8080/",
          "height": 423
        },
        "id": "jvJtGfZYOh_y",
        "outputId": "f6518377-7447-4c27-c7db-1da067d4159a"
      },
      "execution_count": 9,
      "outputs": [
        {
          "output_type": "execute_result",
          "data": {
            "text/plain": [
              "        Sex  Length  Diameter  Height  Whole_weight  Shucked_weight  \\\n",
              "0     False   False     False   False         False           False   \n",
              "1     False   False     False   False         False           False   \n",
              "2     False   False     False   False         False           False   \n",
              "3     False   False     False   False         False           False   \n",
              "4     False   False     False   False         False           False   \n",
              "...     ...     ...       ...     ...           ...             ...   \n",
              "4172  False   False     False   False         False           False   \n",
              "4173  False   False     False   False         False           False   \n",
              "4174  False   False     False   False         False           False   \n",
              "4175  False   False     False   False         False           False   \n",
              "4176  False   False     False   False         False           False   \n",
              "\n",
              "      Viscera_weight  Shell_weight  \n",
              "0              False         False  \n",
              "1              False         False  \n",
              "2              False         False  \n",
              "3              False         False  \n",
              "4              False         False  \n",
              "...              ...           ...  \n",
              "4172           False         False  \n",
              "4173           False         False  \n",
              "4174           False         False  \n",
              "4175           False         False  \n",
              "4176           False         False  \n",
              "\n",
              "[4177 rows x 8 columns]"
            ],
            "text/html": [
              "\n",
              "  <div id=\"df-3d770756-4fe3-4b90-b416-3e456f660a21\" class=\"colab-df-container\">\n",
              "    <div>\n",
              "<style scoped>\n",
              "    .dataframe tbody tr th:only-of-type {\n",
              "        vertical-align: middle;\n",
              "    }\n",
              "\n",
              "    .dataframe tbody tr th {\n",
              "        vertical-align: top;\n",
              "    }\n",
              "\n",
              "    .dataframe thead th {\n",
              "        text-align: right;\n",
              "    }\n",
              "</style>\n",
              "<table border=\"1\" class=\"dataframe\">\n",
              "  <thead>\n",
              "    <tr style=\"text-align: right;\">\n",
              "      <th></th>\n",
              "      <th>Sex</th>\n",
              "      <th>Length</th>\n",
              "      <th>Diameter</th>\n",
              "      <th>Height</th>\n",
              "      <th>Whole_weight</th>\n",
              "      <th>Shucked_weight</th>\n",
              "      <th>Viscera_weight</th>\n",
              "      <th>Shell_weight</th>\n",
              "    </tr>\n",
              "  </thead>\n",
              "  <tbody>\n",
              "    <tr>\n",
              "      <th>0</th>\n",
              "      <td>False</td>\n",
              "      <td>False</td>\n",
              "      <td>False</td>\n",
              "      <td>False</td>\n",
              "      <td>False</td>\n",
              "      <td>False</td>\n",
              "      <td>False</td>\n",
              "      <td>False</td>\n",
              "    </tr>\n",
              "    <tr>\n",
              "      <th>1</th>\n",
              "      <td>False</td>\n",
              "      <td>False</td>\n",
              "      <td>False</td>\n",
              "      <td>False</td>\n",
              "      <td>False</td>\n",
              "      <td>False</td>\n",
              "      <td>False</td>\n",
              "      <td>False</td>\n",
              "    </tr>\n",
              "    <tr>\n",
              "      <th>2</th>\n",
              "      <td>False</td>\n",
              "      <td>False</td>\n",
              "      <td>False</td>\n",
              "      <td>False</td>\n",
              "      <td>False</td>\n",
              "      <td>False</td>\n",
              "      <td>False</td>\n",
              "      <td>False</td>\n",
              "    </tr>\n",
              "    <tr>\n",
              "      <th>3</th>\n",
              "      <td>False</td>\n",
              "      <td>False</td>\n",
              "      <td>False</td>\n",
              "      <td>False</td>\n",
              "      <td>False</td>\n",
              "      <td>False</td>\n",
              "      <td>False</td>\n",
              "      <td>False</td>\n",
              "    </tr>\n",
              "    <tr>\n",
              "      <th>4</th>\n",
              "      <td>False</td>\n",
              "      <td>False</td>\n",
              "      <td>False</td>\n",
              "      <td>False</td>\n",
              "      <td>False</td>\n",
              "      <td>False</td>\n",
              "      <td>False</td>\n",
              "      <td>False</td>\n",
              "    </tr>\n",
              "    <tr>\n",
              "      <th>...</th>\n",
              "      <td>...</td>\n",
              "      <td>...</td>\n",
              "      <td>...</td>\n",
              "      <td>...</td>\n",
              "      <td>...</td>\n",
              "      <td>...</td>\n",
              "      <td>...</td>\n",
              "      <td>...</td>\n",
              "    </tr>\n",
              "    <tr>\n",
              "      <th>4172</th>\n",
              "      <td>False</td>\n",
              "      <td>False</td>\n",
              "      <td>False</td>\n",
              "      <td>False</td>\n",
              "      <td>False</td>\n",
              "      <td>False</td>\n",
              "      <td>False</td>\n",
              "      <td>False</td>\n",
              "    </tr>\n",
              "    <tr>\n",
              "      <th>4173</th>\n",
              "      <td>False</td>\n",
              "      <td>False</td>\n",
              "      <td>False</td>\n",
              "      <td>False</td>\n",
              "      <td>False</td>\n",
              "      <td>False</td>\n",
              "      <td>False</td>\n",
              "      <td>False</td>\n",
              "    </tr>\n",
              "    <tr>\n",
              "      <th>4174</th>\n",
              "      <td>False</td>\n",
              "      <td>False</td>\n",
              "      <td>False</td>\n",
              "      <td>False</td>\n",
              "      <td>False</td>\n",
              "      <td>False</td>\n",
              "      <td>False</td>\n",
              "      <td>False</td>\n",
              "    </tr>\n",
              "    <tr>\n",
              "      <th>4175</th>\n",
              "      <td>False</td>\n",
              "      <td>False</td>\n",
              "      <td>False</td>\n",
              "      <td>False</td>\n",
              "      <td>False</td>\n",
              "      <td>False</td>\n",
              "      <td>False</td>\n",
              "      <td>False</td>\n",
              "    </tr>\n",
              "    <tr>\n",
              "      <th>4176</th>\n",
              "      <td>False</td>\n",
              "      <td>False</td>\n",
              "      <td>False</td>\n",
              "      <td>False</td>\n",
              "      <td>False</td>\n",
              "      <td>False</td>\n",
              "      <td>False</td>\n",
              "      <td>False</td>\n",
              "    </tr>\n",
              "  </tbody>\n",
              "</table>\n",
              "<p>4177 rows × 8 columns</p>\n",
              "</div>\n",
              "    <div class=\"colab-df-buttons\">\n",
              "\n",
              "  <div class=\"colab-df-container\">\n",
              "    <button class=\"colab-df-convert\" onclick=\"convertToInteractive('df-3d770756-4fe3-4b90-b416-3e456f660a21')\"\n",
              "            title=\"Convert this dataframe to an interactive table.\"\n",
              "            style=\"display:none;\">\n",
              "\n",
              "  <svg xmlns=\"http://www.w3.org/2000/svg\" height=\"24px\" viewBox=\"0 -960 960 960\">\n",
              "    <path d=\"M120-120v-720h720v720H120Zm60-500h600v-160H180v160Zm220 220h160v-160H400v160Zm0 220h160v-160H400v160ZM180-400h160v-160H180v160Zm440 0h160v-160H620v160ZM180-180h160v-160H180v160Zm440 0h160v-160H620v160Z\"/>\n",
              "  </svg>\n",
              "    </button>\n",
              "\n",
              "  <style>\n",
              "    .colab-df-container {\n",
              "      display:flex;\n",
              "      gap: 12px;\n",
              "    }\n",
              "\n",
              "    .colab-df-convert {\n",
              "      background-color: #E8F0FE;\n",
              "      border: none;\n",
              "      border-radius: 50%;\n",
              "      cursor: pointer;\n",
              "      display: none;\n",
              "      fill: #1967D2;\n",
              "      height: 32px;\n",
              "      padding: 0 0 0 0;\n",
              "      width: 32px;\n",
              "    }\n",
              "\n",
              "    .colab-df-convert:hover {\n",
              "      background-color: #E2EBFA;\n",
              "      box-shadow: 0px 1px 2px rgba(60, 64, 67, 0.3), 0px 1px 3px 1px rgba(60, 64, 67, 0.15);\n",
              "      fill: #174EA6;\n",
              "    }\n",
              "\n",
              "    .colab-df-buttons div {\n",
              "      margin-bottom: 4px;\n",
              "    }\n",
              "\n",
              "    [theme=dark] .colab-df-convert {\n",
              "      background-color: #3B4455;\n",
              "      fill: #D2E3FC;\n",
              "    }\n",
              "\n",
              "    [theme=dark] .colab-df-convert:hover {\n",
              "      background-color: #434B5C;\n",
              "      box-shadow: 0px 1px 3px 1px rgba(0, 0, 0, 0.15);\n",
              "      filter: drop-shadow(0px 1px 2px rgba(0, 0, 0, 0.3));\n",
              "      fill: #FFFFFF;\n",
              "    }\n",
              "  </style>\n",
              "\n",
              "    <script>\n",
              "      const buttonEl =\n",
              "        document.querySelector('#df-3d770756-4fe3-4b90-b416-3e456f660a21 button.colab-df-convert');\n",
              "      buttonEl.style.display =\n",
              "        google.colab.kernel.accessAllowed ? 'block' : 'none';\n",
              "\n",
              "      async function convertToInteractive(key) {\n",
              "        const element = document.querySelector('#df-3d770756-4fe3-4b90-b416-3e456f660a21');\n",
              "        const dataTable =\n",
              "          await google.colab.kernel.invokeFunction('convertToInteractive',\n",
              "                                                    [key], {});\n",
              "        if (!dataTable) return;\n",
              "\n",
              "        const docLinkHtml = 'Like what you see? Visit the ' +\n",
              "          '<a target=\"_blank\" href=https://colab.research.google.com/notebooks/data_table.ipynb>data table notebook</a>'\n",
              "          + ' to learn more about interactive tables.';\n",
              "        element.innerHTML = '';\n",
              "        dataTable['output_type'] = 'display_data';\n",
              "        await google.colab.output.renderOutput(dataTable, element);\n",
              "        const docLink = document.createElement('div');\n",
              "        docLink.innerHTML = docLinkHtml;\n",
              "        element.appendChild(docLink);\n",
              "      }\n",
              "    </script>\n",
              "  </div>\n",
              "\n",
              "\n",
              "<div id=\"df-401e30d1-77a1-4f12-90b5-5562704f4929\">\n",
              "  <button class=\"colab-df-quickchart\" onclick=\"quickchart('df-401e30d1-77a1-4f12-90b5-5562704f4929')\"\n",
              "            title=\"Suggest charts\"\n",
              "            style=\"display:none;\">\n",
              "\n",
              "<svg xmlns=\"http://www.w3.org/2000/svg\" height=\"24px\"viewBox=\"0 0 24 24\"\n",
              "     width=\"24px\">\n",
              "    <g>\n",
              "        <path d=\"M19 3H5c-1.1 0-2 .9-2 2v14c0 1.1.9 2 2 2h14c1.1 0 2-.9 2-2V5c0-1.1-.9-2-2-2zM9 17H7v-7h2v7zm4 0h-2V7h2v10zm4 0h-2v-4h2v4z\"/>\n",
              "    </g>\n",
              "</svg>\n",
              "  </button>\n",
              "\n",
              "<style>\n",
              "  .colab-df-quickchart {\n",
              "      --bg-color: #E8F0FE;\n",
              "      --fill-color: #1967D2;\n",
              "      --hover-bg-color: #E2EBFA;\n",
              "      --hover-fill-color: #174EA6;\n",
              "      --disabled-fill-color: #AAA;\n",
              "      --disabled-bg-color: #DDD;\n",
              "  }\n",
              "\n",
              "  [theme=dark] .colab-df-quickchart {\n",
              "      --bg-color: #3B4455;\n",
              "      --fill-color: #D2E3FC;\n",
              "      --hover-bg-color: #434B5C;\n",
              "      --hover-fill-color: #FFFFFF;\n",
              "      --disabled-bg-color: #3B4455;\n",
              "      --disabled-fill-color: #666;\n",
              "  }\n",
              "\n",
              "  .colab-df-quickchart {\n",
              "    background-color: var(--bg-color);\n",
              "    border: none;\n",
              "    border-radius: 50%;\n",
              "    cursor: pointer;\n",
              "    display: none;\n",
              "    fill: var(--fill-color);\n",
              "    height: 32px;\n",
              "    padding: 0;\n",
              "    width: 32px;\n",
              "  }\n",
              "\n",
              "  .colab-df-quickchart:hover {\n",
              "    background-color: var(--hover-bg-color);\n",
              "    box-shadow: 0 1px 2px rgba(60, 64, 67, 0.3), 0 1px 3px 1px rgba(60, 64, 67, 0.15);\n",
              "    fill: var(--button-hover-fill-color);\n",
              "  }\n",
              "\n",
              "  .colab-df-quickchart-complete:disabled,\n",
              "  .colab-df-quickchart-complete:disabled:hover {\n",
              "    background-color: var(--disabled-bg-color);\n",
              "    fill: var(--disabled-fill-color);\n",
              "    box-shadow: none;\n",
              "  }\n",
              "\n",
              "  .colab-df-spinner {\n",
              "    border: 2px solid var(--fill-color);\n",
              "    border-color: transparent;\n",
              "    border-bottom-color: var(--fill-color);\n",
              "    animation:\n",
              "      spin 1s steps(1) infinite;\n",
              "  }\n",
              "\n",
              "  @keyframes spin {\n",
              "    0% {\n",
              "      border-color: transparent;\n",
              "      border-bottom-color: var(--fill-color);\n",
              "      border-left-color: var(--fill-color);\n",
              "    }\n",
              "    20% {\n",
              "      border-color: transparent;\n",
              "      border-left-color: var(--fill-color);\n",
              "      border-top-color: var(--fill-color);\n",
              "    }\n",
              "    30% {\n",
              "      border-color: transparent;\n",
              "      border-left-color: var(--fill-color);\n",
              "      border-top-color: var(--fill-color);\n",
              "      border-right-color: var(--fill-color);\n",
              "    }\n",
              "    40% {\n",
              "      border-color: transparent;\n",
              "      border-right-color: var(--fill-color);\n",
              "      border-top-color: var(--fill-color);\n",
              "    }\n",
              "    60% {\n",
              "      border-color: transparent;\n",
              "      border-right-color: var(--fill-color);\n",
              "    }\n",
              "    80% {\n",
              "      border-color: transparent;\n",
              "      border-right-color: var(--fill-color);\n",
              "      border-bottom-color: var(--fill-color);\n",
              "    }\n",
              "    90% {\n",
              "      border-color: transparent;\n",
              "      border-bottom-color: var(--fill-color);\n",
              "    }\n",
              "  }\n",
              "</style>\n",
              "\n",
              "  <script>\n",
              "    async function quickchart(key) {\n",
              "      const quickchartButtonEl =\n",
              "        document.querySelector('#' + key + ' button');\n",
              "      quickchartButtonEl.disabled = true;  // To prevent multiple clicks.\n",
              "      quickchartButtonEl.classList.add('colab-df-spinner');\n",
              "      try {\n",
              "        const charts = await google.colab.kernel.invokeFunction(\n",
              "            'suggestCharts', [key], {});\n",
              "      } catch (error) {\n",
              "        console.error('Error during call to suggestCharts:', error);\n",
              "      }\n",
              "      quickchartButtonEl.classList.remove('colab-df-spinner');\n",
              "      quickchartButtonEl.classList.add('colab-df-quickchart-complete');\n",
              "    }\n",
              "    (() => {\n",
              "      let quickchartButtonEl =\n",
              "        document.querySelector('#df-401e30d1-77a1-4f12-90b5-5562704f4929 button');\n",
              "      quickchartButtonEl.style.display =\n",
              "        google.colab.kernel.accessAllowed ? 'block' : 'none';\n",
              "    })();\n",
              "  </script>\n",
              "</div>\n",
              "    </div>\n",
              "  </div>\n"
            ]
          },
          "metadata": {},
          "execution_count": 9
        }
      ]
    },
    {
      "cell_type": "markdown",
      "source": [
        "Conversion en mode tensor flow"
      ],
      "metadata": {
        "id": "quREkozfVanb"
      }
    },
    {
      "cell_type": "markdown",
      "source": [
        "Traitement des donnee sexe"
      ],
      "metadata": {
        "id": "1_yzxbWZW1iu"
      }
    },
    {
      "cell_type": "code",
      "source": [
        "X = pd.get_dummies(X, dummy_na=True)#ceci rend les données toute numerique\n"
      ],
      "metadata": {
        "id": "b6n5ERQiW0NJ"
      },
      "execution_count": 10,
      "outputs": []
    },
    {
      "cell_type": "markdown",
      "source": [
        "Eliminer les champs vide"
      ],
      "metadata": {
        "id": "pKLkCHipXZ_j"
      }
    },
    {
      "cell_type": "code",
      "source": [
        "X = X.fillna(X.mean())#Rempli les champs par les valeurs des champs moyenne du groupe\n",
        "\n",
        "X"
      ],
      "metadata": {
        "colab": {
          "base_uri": "https://localhost:8080/",
          "height": 423
        },
        "id": "Thu0qX2dXntv",
        "outputId": "6833844f-8025-41fc-c954-268edcc33719"
      },
      "execution_count": 11,
      "outputs": [
        {
          "output_type": "execute_result",
          "data": {
            "text/plain": [
              "      Length  Diameter  Height  Whole_weight  Shucked_weight  Viscera_weight  \\\n",
              "0      0.455     0.365   0.095        0.5140          0.2245          0.1010   \n",
              "1      0.350     0.265   0.090        0.2255          0.0995          0.0485   \n",
              "2      0.530     0.420   0.135        0.6770          0.2565          0.1415   \n",
              "3      0.440     0.365   0.125        0.5160          0.2155          0.1140   \n",
              "4      0.330     0.255   0.080        0.2050          0.0895          0.0395   \n",
              "...      ...       ...     ...           ...             ...             ...   \n",
              "4172   0.565     0.450   0.165        0.8870          0.3700          0.2390   \n",
              "4173   0.590     0.440   0.135        0.9660          0.4390          0.2145   \n",
              "4174   0.600     0.475   0.205        1.1760          0.5255          0.2875   \n",
              "4175   0.625     0.485   0.150        1.0945          0.5310          0.2610   \n",
              "4176   0.710     0.555   0.195        1.9485          0.9455          0.3765   \n",
              "\n",
              "      Shell_weight  Sex_F  Sex_I  Sex_M  Sex_nan  \n",
              "0           0.1500  False  False   True    False  \n",
              "1           0.0700  False  False   True    False  \n",
              "2           0.2100   True  False  False    False  \n",
              "3           0.1550  False  False   True    False  \n",
              "4           0.0550  False   True  False    False  \n",
              "...            ...    ...    ...    ...      ...  \n",
              "4172        0.2490   True  False  False    False  \n",
              "4173        0.2605  False  False   True    False  \n",
              "4174        0.3080  False  False   True    False  \n",
              "4175        0.2960   True  False  False    False  \n",
              "4176        0.4950  False  False   True    False  \n",
              "\n",
              "[4177 rows x 11 columns]"
            ],
            "text/html": [
              "\n",
              "  <div id=\"df-da22033d-2ea7-4798-bd30-3850fb3472da\" class=\"colab-df-container\">\n",
              "    <div>\n",
              "<style scoped>\n",
              "    .dataframe tbody tr th:only-of-type {\n",
              "        vertical-align: middle;\n",
              "    }\n",
              "\n",
              "    .dataframe tbody tr th {\n",
              "        vertical-align: top;\n",
              "    }\n",
              "\n",
              "    .dataframe thead th {\n",
              "        text-align: right;\n",
              "    }\n",
              "</style>\n",
              "<table border=\"1\" class=\"dataframe\">\n",
              "  <thead>\n",
              "    <tr style=\"text-align: right;\">\n",
              "      <th></th>\n",
              "      <th>Length</th>\n",
              "      <th>Diameter</th>\n",
              "      <th>Height</th>\n",
              "      <th>Whole_weight</th>\n",
              "      <th>Shucked_weight</th>\n",
              "      <th>Viscera_weight</th>\n",
              "      <th>Shell_weight</th>\n",
              "      <th>Sex_F</th>\n",
              "      <th>Sex_I</th>\n",
              "      <th>Sex_M</th>\n",
              "      <th>Sex_nan</th>\n",
              "    </tr>\n",
              "  </thead>\n",
              "  <tbody>\n",
              "    <tr>\n",
              "      <th>0</th>\n",
              "      <td>0.455</td>\n",
              "      <td>0.365</td>\n",
              "      <td>0.095</td>\n",
              "      <td>0.5140</td>\n",
              "      <td>0.2245</td>\n",
              "      <td>0.1010</td>\n",
              "      <td>0.1500</td>\n",
              "      <td>False</td>\n",
              "      <td>False</td>\n",
              "      <td>True</td>\n",
              "      <td>False</td>\n",
              "    </tr>\n",
              "    <tr>\n",
              "      <th>1</th>\n",
              "      <td>0.350</td>\n",
              "      <td>0.265</td>\n",
              "      <td>0.090</td>\n",
              "      <td>0.2255</td>\n",
              "      <td>0.0995</td>\n",
              "      <td>0.0485</td>\n",
              "      <td>0.0700</td>\n",
              "      <td>False</td>\n",
              "      <td>False</td>\n",
              "      <td>True</td>\n",
              "      <td>False</td>\n",
              "    </tr>\n",
              "    <tr>\n",
              "      <th>2</th>\n",
              "      <td>0.530</td>\n",
              "      <td>0.420</td>\n",
              "      <td>0.135</td>\n",
              "      <td>0.6770</td>\n",
              "      <td>0.2565</td>\n",
              "      <td>0.1415</td>\n",
              "      <td>0.2100</td>\n",
              "      <td>True</td>\n",
              "      <td>False</td>\n",
              "      <td>False</td>\n",
              "      <td>False</td>\n",
              "    </tr>\n",
              "    <tr>\n",
              "      <th>3</th>\n",
              "      <td>0.440</td>\n",
              "      <td>0.365</td>\n",
              "      <td>0.125</td>\n",
              "      <td>0.5160</td>\n",
              "      <td>0.2155</td>\n",
              "      <td>0.1140</td>\n",
              "      <td>0.1550</td>\n",
              "      <td>False</td>\n",
              "      <td>False</td>\n",
              "      <td>True</td>\n",
              "      <td>False</td>\n",
              "    </tr>\n",
              "    <tr>\n",
              "      <th>4</th>\n",
              "      <td>0.330</td>\n",
              "      <td>0.255</td>\n",
              "      <td>0.080</td>\n",
              "      <td>0.2050</td>\n",
              "      <td>0.0895</td>\n",
              "      <td>0.0395</td>\n",
              "      <td>0.0550</td>\n",
              "      <td>False</td>\n",
              "      <td>True</td>\n",
              "      <td>False</td>\n",
              "      <td>False</td>\n",
              "    </tr>\n",
              "    <tr>\n",
              "      <th>...</th>\n",
              "      <td>...</td>\n",
              "      <td>...</td>\n",
              "      <td>...</td>\n",
              "      <td>...</td>\n",
              "      <td>...</td>\n",
              "      <td>...</td>\n",
              "      <td>...</td>\n",
              "      <td>...</td>\n",
              "      <td>...</td>\n",
              "      <td>...</td>\n",
              "      <td>...</td>\n",
              "    </tr>\n",
              "    <tr>\n",
              "      <th>4172</th>\n",
              "      <td>0.565</td>\n",
              "      <td>0.450</td>\n",
              "      <td>0.165</td>\n",
              "      <td>0.8870</td>\n",
              "      <td>0.3700</td>\n",
              "      <td>0.2390</td>\n",
              "      <td>0.2490</td>\n",
              "      <td>True</td>\n",
              "      <td>False</td>\n",
              "      <td>False</td>\n",
              "      <td>False</td>\n",
              "    </tr>\n",
              "    <tr>\n",
              "      <th>4173</th>\n",
              "      <td>0.590</td>\n",
              "      <td>0.440</td>\n",
              "      <td>0.135</td>\n",
              "      <td>0.9660</td>\n",
              "      <td>0.4390</td>\n",
              "      <td>0.2145</td>\n",
              "      <td>0.2605</td>\n",
              "      <td>False</td>\n",
              "      <td>False</td>\n",
              "      <td>True</td>\n",
              "      <td>False</td>\n",
              "    </tr>\n",
              "    <tr>\n",
              "      <th>4174</th>\n",
              "      <td>0.600</td>\n",
              "      <td>0.475</td>\n",
              "      <td>0.205</td>\n",
              "      <td>1.1760</td>\n",
              "      <td>0.5255</td>\n",
              "      <td>0.2875</td>\n",
              "      <td>0.3080</td>\n",
              "      <td>False</td>\n",
              "      <td>False</td>\n",
              "      <td>True</td>\n",
              "      <td>False</td>\n",
              "    </tr>\n",
              "    <tr>\n",
              "      <th>4175</th>\n",
              "      <td>0.625</td>\n",
              "      <td>0.485</td>\n",
              "      <td>0.150</td>\n",
              "      <td>1.0945</td>\n",
              "      <td>0.5310</td>\n",
              "      <td>0.2610</td>\n",
              "      <td>0.2960</td>\n",
              "      <td>True</td>\n",
              "      <td>False</td>\n",
              "      <td>False</td>\n",
              "      <td>False</td>\n",
              "    </tr>\n",
              "    <tr>\n",
              "      <th>4176</th>\n",
              "      <td>0.710</td>\n",
              "      <td>0.555</td>\n",
              "      <td>0.195</td>\n",
              "      <td>1.9485</td>\n",
              "      <td>0.9455</td>\n",
              "      <td>0.3765</td>\n",
              "      <td>0.4950</td>\n",
              "      <td>False</td>\n",
              "      <td>False</td>\n",
              "      <td>True</td>\n",
              "      <td>False</td>\n",
              "    </tr>\n",
              "  </tbody>\n",
              "</table>\n",
              "<p>4177 rows × 11 columns</p>\n",
              "</div>\n",
              "    <div class=\"colab-df-buttons\">\n",
              "\n",
              "  <div class=\"colab-df-container\">\n",
              "    <button class=\"colab-df-convert\" onclick=\"convertToInteractive('df-da22033d-2ea7-4798-bd30-3850fb3472da')\"\n",
              "            title=\"Convert this dataframe to an interactive table.\"\n",
              "            style=\"display:none;\">\n",
              "\n",
              "  <svg xmlns=\"http://www.w3.org/2000/svg\" height=\"24px\" viewBox=\"0 -960 960 960\">\n",
              "    <path d=\"M120-120v-720h720v720H120Zm60-500h600v-160H180v160Zm220 220h160v-160H400v160Zm0 220h160v-160H400v160ZM180-400h160v-160H180v160Zm440 0h160v-160H620v160ZM180-180h160v-160H180v160Zm440 0h160v-160H620v160Z\"/>\n",
              "  </svg>\n",
              "    </button>\n",
              "\n",
              "  <style>\n",
              "    .colab-df-container {\n",
              "      display:flex;\n",
              "      gap: 12px;\n",
              "    }\n",
              "\n",
              "    .colab-df-convert {\n",
              "      background-color: #E8F0FE;\n",
              "      border: none;\n",
              "      border-radius: 50%;\n",
              "      cursor: pointer;\n",
              "      display: none;\n",
              "      fill: #1967D2;\n",
              "      height: 32px;\n",
              "      padding: 0 0 0 0;\n",
              "      width: 32px;\n",
              "    }\n",
              "\n",
              "    .colab-df-convert:hover {\n",
              "      background-color: #E2EBFA;\n",
              "      box-shadow: 0px 1px 2px rgba(60, 64, 67, 0.3), 0px 1px 3px 1px rgba(60, 64, 67, 0.15);\n",
              "      fill: #174EA6;\n",
              "    }\n",
              "\n",
              "    .colab-df-buttons div {\n",
              "      margin-bottom: 4px;\n",
              "    }\n",
              "\n",
              "    [theme=dark] .colab-df-convert {\n",
              "      background-color: #3B4455;\n",
              "      fill: #D2E3FC;\n",
              "    }\n",
              "\n",
              "    [theme=dark] .colab-df-convert:hover {\n",
              "      background-color: #434B5C;\n",
              "      box-shadow: 0px 1px 3px 1px rgba(0, 0, 0, 0.15);\n",
              "      filter: drop-shadow(0px 1px 2px rgba(0, 0, 0, 0.3));\n",
              "      fill: #FFFFFF;\n",
              "    }\n",
              "  </style>\n",
              "\n",
              "    <script>\n",
              "      const buttonEl =\n",
              "        document.querySelector('#df-da22033d-2ea7-4798-bd30-3850fb3472da button.colab-df-convert');\n",
              "      buttonEl.style.display =\n",
              "        google.colab.kernel.accessAllowed ? 'block' : 'none';\n",
              "\n",
              "      async function convertToInteractive(key) {\n",
              "        const element = document.querySelector('#df-da22033d-2ea7-4798-bd30-3850fb3472da');\n",
              "        const dataTable =\n",
              "          await google.colab.kernel.invokeFunction('convertToInteractive',\n",
              "                                                    [key], {});\n",
              "        if (!dataTable) return;\n",
              "\n",
              "        const docLinkHtml = 'Like what you see? Visit the ' +\n",
              "          '<a target=\"_blank\" href=https://colab.research.google.com/notebooks/data_table.ipynb>data table notebook</a>'\n",
              "          + ' to learn more about interactive tables.';\n",
              "        element.innerHTML = '';\n",
              "        dataTable['output_type'] = 'display_data';\n",
              "        await google.colab.output.renderOutput(dataTable, element);\n",
              "        const docLink = document.createElement('div');\n",
              "        docLink.innerHTML = docLinkHtml;\n",
              "        element.appendChild(docLink);\n",
              "      }\n",
              "    </script>\n",
              "  </div>\n",
              "\n",
              "\n",
              "<div id=\"df-e55877f9-1755-4393-9222-14a41966bed7\">\n",
              "  <button class=\"colab-df-quickchart\" onclick=\"quickchart('df-e55877f9-1755-4393-9222-14a41966bed7')\"\n",
              "            title=\"Suggest charts\"\n",
              "            style=\"display:none;\">\n",
              "\n",
              "<svg xmlns=\"http://www.w3.org/2000/svg\" height=\"24px\"viewBox=\"0 0 24 24\"\n",
              "     width=\"24px\">\n",
              "    <g>\n",
              "        <path d=\"M19 3H5c-1.1 0-2 .9-2 2v14c0 1.1.9 2 2 2h14c1.1 0 2-.9 2-2V5c0-1.1-.9-2-2-2zM9 17H7v-7h2v7zm4 0h-2V7h2v10zm4 0h-2v-4h2v4z\"/>\n",
              "    </g>\n",
              "</svg>\n",
              "  </button>\n",
              "\n",
              "<style>\n",
              "  .colab-df-quickchart {\n",
              "      --bg-color: #E8F0FE;\n",
              "      --fill-color: #1967D2;\n",
              "      --hover-bg-color: #E2EBFA;\n",
              "      --hover-fill-color: #174EA6;\n",
              "      --disabled-fill-color: #AAA;\n",
              "      --disabled-bg-color: #DDD;\n",
              "  }\n",
              "\n",
              "  [theme=dark] .colab-df-quickchart {\n",
              "      --bg-color: #3B4455;\n",
              "      --fill-color: #D2E3FC;\n",
              "      --hover-bg-color: #434B5C;\n",
              "      --hover-fill-color: #FFFFFF;\n",
              "      --disabled-bg-color: #3B4455;\n",
              "      --disabled-fill-color: #666;\n",
              "  }\n",
              "\n",
              "  .colab-df-quickchart {\n",
              "    background-color: var(--bg-color);\n",
              "    border: none;\n",
              "    border-radius: 50%;\n",
              "    cursor: pointer;\n",
              "    display: none;\n",
              "    fill: var(--fill-color);\n",
              "    height: 32px;\n",
              "    padding: 0;\n",
              "    width: 32px;\n",
              "  }\n",
              "\n",
              "  .colab-df-quickchart:hover {\n",
              "    background-color: var(--hover-bg-color);\n",
              "    box-shadow: 0 1px 2px rgba(60, 64, 67, 0.3), 0 1px 3px 1px rgba(60, 64, 67, 0.15);\n",
              "    fill: var(--button-hover-fill-color);\n",
              "  }\n",
              "\n",
              "  .colab-df-quickchart-complete:disabled,\n",
              "  .colab-df-quickchart-complete:disabled:hover {\n",
              "    background-color: var(--disabled-bg-color);\n",
              "    fill: var(--disabled-fill-color);\n",
              "    box-shadow: none;\n",
              "  }\n",
              "\n",
              "  .colab-df-spinner {\n",
              "    border: 2px solid var(--fill-color);\n",
              "    border-color: transparent;\n",
              "    border-bottom-color: var(--fill-color);\n",
              "    animation:\n",
              "      spin 1s steps(1) infinite;\n",
              "  }\n",
              "\n",
              "  @keyframes spin {\n",
              "    0% {\n",
              "      border-color: transparent;\n",
              "      border-bottom-color: var(--fill-color);\n",
              "      border-left-color: var(--fill-color);\n",
              "    }\n",
              "    20% {\n",
              "      border-color: transparent;\n",
              "      border-left-color: var(--fill-color);\n",
              "      border-top-color: var(--fill-color);\n",
              "    }\n",
              "    30% {\n",
              "      border-color: transparent;\n",
              "      border-left-color: var(--fill-color);\n",
              "      border-top-color: var(--fill-color);\n",
              "      border-right-color: var(--fill-color);\n",
              "    }\n",
              "    40% {\n",
              "      border-color: transparent;\n",
              "      border-right-color: var(--fill-color);\n",
              "      border-top-color: var(--fill-color);\n",
              "    }\n",
              "    60% {\n",
              "      border-color: transparent;\n",
              "      border-right-color: var(--fill-color);\n",
              "    }\n",
              "    80% {\n",
              "      border-color: transparent;\n",
              "      border-right-color: var(--fill-color);\n",
              "      border-bottom-color: var(--fill-color);\n",
              "    }\n",
              "    90% {\n",
              "      border-color: transparent;\n",
              "      border-bottom-color: var(--fill-color);\n",
              "    }\n",
              "  }\n",
              "</style>\n",
              "\n",
              "  <script>\n",
              "    async function quickchart(key) {\n",
              "      const quickchartButtonEl =\n",
              "        document.querySelector('#' + key + ' button');\n",
              "      quickchartButtonEl.disabled = true;  // To prevent multiple clicks.\n",
              "      quickchartButtonEl.classList.add('colab-df-spinner');\n",
              "      try {\n",
              "        const charts = await google.colab.kernel.invokeFunction(\n",
              "            'suggestCharts', [key], {});\n",
              "      } catch (error) {\n",
              "        console.error('Error during call to suggestCharts:', error);\n",
              "      }\n",
              "      quickchartButtonEl.classList.remove('colab-df-spinner');\n",
              "      quickchartButtonEl.classList.add('colab-df-quickchart-complete');\n",
              "    }\n",
              "    (() => {\n",
              "      let quickchartButtonEl =\n",
              "        document.querySelector('#df-e55877f9-1755-4393-9222-14a41966bed7 button');\n",
              "      quickchartButtonEl.style.display =\n",
              "        google.colab.kernel.accessAllowed ? 'block' : 'none';\n",
              "    })();\n",
              "  </script>\n",
              "</div>\n",
              "    </div>\n",
              "  </div>\n"
            ]
          },
          "metadata": {},
          "execution_count": 11
        }
      ]
    },
    {
      "cell_type": "code",
      "source": [
        "X = tf.constant(X.to_numpy(dtype=float))\n",
        "\n",
        "y = tf.constant(y.to_numpy(dtype=float))\n",
        "\n",
        "X"
      ],
      "metadata": {
        "colab": {
          "base_uri": "https://localhost:8080/"
        },
        "id": "HObLDXytVdZQ",
        "outputId": "e05ab2b3-d2a0-4fdf-ed50-31a020d98848"
      },
      "execution_count": 12,
      "outputs": [
        {
          "output_type": "execute_result",
          "data": {
            "text/plain": [
              "<tf.Tensor: shape=(4177, 11), dtype=float64, numpy=\n",
              "array([[0.455, 0.365, 0.095, ..., 0.   , 1.   , 0.   ],\n",
              "       [0.35 , 0.265, 0.09 , ..., 0.   , 1.   , 0.   ],\n",
              "       [0.53 , 0.42 , 0.135, ..., 0.   , 0.   , 0.   ],\n",
              "       ...,\n",
              "       [0.6  , 0.475, 0.205, ..., 0.   , 1.   , 0.   ],\n",
              "       [0.625, 0.485, 0.15 , ..., 0.   , 0.   , 0.   ],\n",
              "       [0.71 , 0.555, 0.195, ..., 0.   , 1.   , 0.   ]])>"
            ]
          },
          "metadata": {},
          "execution_count": 12
        }
      ]
    },
    {
      "cell_type": "markdown",
      "source": [
        "Algebre lineaire , vecteurs , matrices,tenseurs"
      ],
      "metadata": {
        "id": "5z-3EAFR7jpj"
      }
    },
    {
      "cell_type": "code",
      "source": [
        "x = tf.range(3,dtype=tf.float32)#Vecteurs\n",
        "\n",
        "#len(x),x.shape\n",
        "\n",
        "A = tf.reshape(tf.range(6),(3,-1))#Creation de la matrice A\n",
        "\n",
        "\n",
        "#Faire une transpose\n",
        "\n",
        "A == tf.transpose(A)\n",
        "\n"
      ],
      "metadata": {
        "colab": {
          "base_uri": "https://localhost:8080/"
        },
        "id": "w5y7AeMT7u8Y",
        "outputId": "ada21f2b-6e13-4b96-a8b8-e35cde877f7c"
      },
      "execution_count": 13,
      "outputs": [
        {
          "output_type": "execute_result",
          "data": {
            "text/plain": [
              "<tf.Tensor: shape=(), dtype=bool, numpy=False>"
            ]
          },
          "metadata": {},
          "execution_count": 13
        }
      ]
    },
    {
      "cell_type": "markdown",
      "source": [
        "Tenseurs base des tenseurs Reductions"
      ],
      "metadata": {
        "id": "KTDJcwPY-Kih"
      }
    },
    {
      "cell_type": "code",
      "source": [
        "x = tf.range(3,dtype=tf.float32)#Vecteur\n",
        "\n",
        "x, tf.reduce_sum(x)"
      ],
      "metadata": {
        "colab": {
          "base_uri": "https://localhost:8080/"
        },
        "id": "OYJbgKSw-MnK",
        "outputId": "c128e622-5fd5-40d1-d659-2d289eb2ff93"
      },
      "execution_count": 14,
      "outputs": [
        {
          "output_type": "execute_result",
          "data": {
            "text/plain": [
              "(<tf.Tensor: shape=(3,), dtype=float32, numpy=array([0., 1., 2.], dtype=float32)>,\n",
              " <tf.Tensor: shape=(), dtype=float32, numpy=3.0>)"
            ]
          },
          "metadata": {},
          "execution_count": 14
        }
      ]
    },
    {
      "cell_type": "markdown",
      "source": [
        "Calcul somme matrice"
      ],
      "metadata": {
        "id": "OmQ4LeUcA7NC"
      }
    },
    {
      "cell_type": "code",
      "source": [
        "A.shape, tf.reduce_sum(A)"
      ],
      "metadata": {
        "colab": {
          "base_uri": "https://localhost:8080/"
        },
        "id": "OCXEGdL3A-r9",
        "outputId": "548028e2-fffa-4911-ecbb-8afae8589ad7"
      },
      "execution_count": 15,
      "outputs": [
        {
          "output_type": "execute_result",
          "data": {
            "text/plain": [
              "(TensorShape([3, 2]), <tf.Tensor: shape=(), dtype=int32, numpy=15>)"
            ]
          },
          "metadata": {},
          "execution_count": 15
        }
      ]
    },
    {
      "cell_type": "markdown",
      "source": [
        "Produit matriciel"
      ],
      "metadata": {
        "id": "yB8BBCaKCG-j"
      }
    },
    {
      "cell_type": "code",
      "source": [
        "y = tf.ones(3,dtype=tf.float32)\n",
        "\n",
        "tf.tensordot(x,y,axes=1)"
      ],
      "metadata": {
        "colab": {
          "base_uri": "https://localhost:8080/"
        },
        "id": "6GxSrNhICJgv",
        "outputId": "996f69af-dd83-4f84-d878-a644af0b273b"
      },
      "execution_count": 16,
      "outputs": [
        {
          "output_type": "execute_result",
          "data": {
            "text/plain": [
              "<tf.Tensor: shape=(), dtype=float32, numpy=3.0>"
            ]
          },
          "metadata": {},
          "execution_count": 16
        }
      ]
    },
    {
      "cell_type": "markdown",
      "source": [
        "Produit matriciels vecteurs  m*n et n*k -> m * k"
      ],
      "metadata": {
        "id": "ww33KnBTC9i5"
      }
    },
    {
      "cell_type": "code",
      "source": [
        "A_M = tf.reshape(tf.range(6,dtype=tf.float32),(2,3))#matrice A\n",
        "\n",
        "x_m = tf.range(3,dtype=tf.float32)#matrice x\n",
        "\n",
        "tf.linalg.matvec(A_M,x_m)# calcul Ax"
      ],
      "metadata": {
        "colab": {
          "base_uri": "https://localhost:8080/"
        },
        "id": "e58GXqJzDAKi",
        "outputId": "9cd6769d-d45f-4a56-8edf-a64ef28c2f17"
      },
      "execution_count": 17,
      "outputs": [
        {
          "output_type": "execute_result",
          "data": {
            "text/plain": [
              "<tf.Tensor: shape=(2,), dtype=float32, numpy=array([ 5., 14.], dtype=float32)>"
            ]
          },
          "metadata": {},
          "execution_count": 17
        }
      ]
    },
    {
      "cell_type": "markdown",
      "source": [
        "Multiplication matrice a matrice  n * m et m*k -> n* k"
      ],
      "metadata": {
        "id": "PWSafOlZHu9D"
      }
    },
    {
      "cell_type": "code",
      "source": [
        "A_M1 = tf.reshape(tf.range(18,dtype=tf.float32),(6,3))\n",
        "\n",
        "B_M1 = tf.reshape(tf.range(15,dtype=tf.float32),(3,5))\n",
        "\n",
        "tf.matmul(A_M1,B_M1)#mutliplication matrice a matrice"
      ],
      "metadata": {
        "colab": {
          "base_uri": "https://localhost:8080/"
        },
        "id": "lAXkCrrRIJAq",
        "outputId": "ba86d58f-7269-4d10-97ed-7d680755eba8"
      },
      "execution_count": 18,
      "outputs": [
        {
          "output_type": "execute_result",
          "data": {
            "text/plain": [
              "<tf.Tensor: shape=(6, 5), dtype=float32, numpy=\n",
              "array([[ 25.,  28.,  31.,  34.,  37.],\n",
              "       [ 70.,  82.,  94., 106., 118.],\n",
              "       [115., 136., 157., 178., 199.],\n",
              "       [160., 190., 220., 250., 280.],\n",
              "       [205., 244., 283., 322., 361.],\n",
              "       [250., 298., 346., 394., 442.]], dtype=float32)>"
            ]
          },
          "metadata": {},
          "execution_count": 18
        }
      ]
    },
    {
      "cell_type": "markdown",
      "source": [
        "Calcul la norme d'un vecteur en indiquant sa taille ||X||2 = somme |Xi|"
      ],
      "metadata": {
        "id": "sLb3lzFKI4YY"
      }
    },
    {
      "cell_type": "markdown",
      "source": [
        "Permet :\n",
        "\n",
        "Même si nous ne voulons pas aller trop loin, nous pouvons déjà avoir une certaine intuition quant à l’utilité de ces concepts. En deep learning, on cherche souvent à résoudre des problèmes d’optimisation : maximiser la probabilité attribuée aux données observées ; maximiser les revenus associés à un modèle de recommandation ; minimiser la distance entre les prédictions et les observations de vérité terrain ; minimiser la distance entre les représentations de photos d'une même personne tout en maximisant la distance entre les représentations de photos de personnes différentes. Ces distances, qui constituent les objectifs des algorithmes de deep learning, sont souvent exprimées sous forme de normes."
      ],
      "metadata": {
        "id": "HoVCEm8_KFYX"
      }
    },
    {
      "cell_type": "code",
      "source": [
        "u = tf.constant([2.4,-4.7])\n",
        "\n",
        "tf.norm(u)#valeur des norme de u"
      ],
      "metadata": {
        "colab": {
          "base_uri": "https://localhost:8080/"
        },
        "id": "Wzl40xbAJkN3",
        "outputId": "5e92d589-ade4-496a-f283-3ae43f0069b7"
      },
      "execution_count": 19,
      "outputs": [
        {
          "output_type": "execute_result",
          "data": {
            "text/plain": [
              "<tf.Tensor: shape=(), dtype=float32, numpy=5.27731>"
            ]
          },
          "metadata": {},
          "execution_count": 19
        }
      ]
    },
    {
      "cell_type": "markdown",
      "source": [
        "La norme de Frobenius se comporte comme s'il s'agissait d'un\n",
        "norme d'un vecteur en forme de matrice. L'invocation de la fonction suivante calculera la norme de Frobenius d'une matrice."
      ],
      "metadata": {
        "id": "lfQqp5NWKX9i"
      }
    },
    {
      "cell_type": "code",
      "source": [
        "tf.norm(tf.ones((4, 9)))"
      ],
      "metadata": {
        "colab": {
          "base_uri": "https://localhost:8080/"
        },
        "id": "GnktBa4NKbSw",
        "outputId": "6a3d2211-c48a-40ad-f605-f80402044e54"
      },
      "execution_count": 20,
      "outputs": [
        {
          "output_type": "execute_result",
          "data": {
            "text/plain": [
              "<tf.Tensor: shape=(), dtype=float32, numpy=6.0>"
            ]
          },
          "metadata": {},
          "execution_count": 20
        }
      ]
    },
    {
      "cell_type": "markdown",
      "source": [
        "# Calcul de valeur\n",
        "\n",
        "\n",
        "2PiR/n\n",
        "\n",
        "Cette procédure limitative est à la base du calcul différentiel et du calcul intégral . Le premier peut nous indiquer comment augmenter ou diminuer la valeur d’une fonction en manipulant ses arguments. Cela s'avère pratique pour les problèmes d'optimisation auxquels nous sommes confrontés dans le deep learning, où nous mettons à jour nos paramètres à plusieurs reprises afin de diminuer la fonction de perte. L'optimisation explique comment adapter nos modèles aux données d'entraînement, et le calcul est sa condition préalable clé. Cependant, n’oubliez pas que notre objectif ultime est d’être performant sur des données inédites . Ce problème s’appelle la généralisation et sera au centre des autres chapitres.\n",
        "\n"
      ],
      "metadata": {
        "id": "piQZJMhcMgXq"
      }
    },
    {
      "cell_type": "code",
      "source": [
        "!pip install d2l==1.0.3"
      ],
      "metadata": {
        "id": "fGG1n52wNsfa"
      },
      "execution_count": null,
      "outputs": []
    },
    {
      "cell_type": "code",
      "source": [
        "from matplotlib_inline import backend_inline\n",
        "from d2l import tensorflow as d2l\n",
        "from tensorflow_probability import distributions as tfd"
      ],
      "metadata": {
        "id": "90sQeHDqM1oy"
      },
      "execution_count": 39,
      "outputs": []
    },
    {
      "cell_type": "markdown",
      "source": [
        "# Dérivés et différenciation\n",
        "une dérivée est le taux de changement d'une fonction par rapport aux changements de ses arguments. Les dérivés peuvent nous indiquer la rapidité avec laquelle une fonction de perte augmenterait ou diminuerait si nous augmentions ou diminuions chaque paramètre d’une quantité infinitésimale\n",
        "\n",
        "\n",
        "f(x) = 3x**2 - 4x et la derive de f(x) est son taux de changement de f(x)\n",
        "\n",
        "\n",
        "\n"
      ],
      "metadata": {
        "id": "3yxkV5zoORzq"
      }
    },
    {
      "cell_type": "markdown",
      "source": [
        "y'=dy/dx=df/dx: (f(x+h) - f(x))/h approches 2 comme h approche 0 f'(1) = 2"
      ],
      "metadata": {
        "id": "bpwwUyeYPfNS"
      }
    },
    {
      "cell_type": "markdown",
      "source": [
        "# Visualisation de l'utilitaire\n",
        "\n"
      ],
      "metadata": {
        "id": "SjuiBtBhQMrb"
      }
    },
    {
      "cell_type": "code",
      "source": [
        "def use_svg_display():  #save\n",
        "    \"\"\"Use the svg format to display a plot in Jupyter.\"\"\"\n",
        "    backend_inline.set_matplotlib_formats('svg')#production de graphique format svg"
      ],
      "metadata": {
        "id": "7fWCSnp5QWYd"
      },
      "execution_count": 25,
      "outputs": []
    },
    {
      "cell_type": "markdown",
      "source": [],
      "metadata": {
        "id": "FmiP6hUOQm_M"
      }
    },
    {
      "cell_type": "code",
      "source": [
        "def set_figsize(figsize=(3.5, 2.5)):  #save\n",
        "    \"\"\"Set the figure size for matplotlib.\"\"\"\n",
        "    use_svg_display()\n",
        "    d2l.plt.rcParams['figure.figsize'] = figsize"
      ],
      "metadata": {
        "id": "kn6sYSYRRY-G"
      },
      "execution_count": 26,
      "outputs": []
    },
    {
      "cell_type": "code",
      "source": [
        "#save\n",
        "def plot(X, Y=None, xlabel=None, ylabel=None, legend=[], xlim=None,\n",
        "         ylim=None, xscale='linear', yscale='linear',\n",
        "         fmts=('-', 'm--', 'g-.', 'r:'), figsize=(3.5, 2.5), axes=None):\n",
        "    \"\"\"Plot data points.\"\"\"\n",
        "\n",
        "    def has_one_axis(X):  # True if X (tensor or list) has 1 axis\n",
        "        return (hasattr(X, \"ndim\") and X.ndim == 1 or isinstance(X, list)\n",
        "                and not hasattr(X[0], \"__len__\"))\n",
        "\n",
        "    if has_one_axis(X): X = [X]\n",
        "    if Y is None:\n",
        "        X, Y = [[]] * len(X), X\n",
        "    elif has_one_axis(Y):\n",
        "        Y = [Y]\n",
        "    if len(X) != len(Y):\n",
        "        X = X * len(Y)\n",
        "\n",
        "    set_figsize(figsize)\n",
        "    if axes is None:\n",
        "        axes = d2l.plt.gca()\n",
        "    axes.cla()\n",
        "    for x, y, fmt in zip(X, Y, fmts):\n",
        "        axes.plot(x,y,fmt) if len(x) else axes.plot(y,fmt)\n",
        "    set_axes(axes, xlabel, ylabel, xlim, ylim, xscale, yscale, legend)"
      ],
      "metadata": {
        "id": "cSN14iuPRflY"
      },
      "execution_count": 27,
      "outputs": []
    },
    {
      "cell_type": "markdown",
      "source": [
        "u = f(x) et tangente y = 2x - 3 à x=1 où le coefficient 2 est la pente de la lgine tangente"
      ],
      "metadata": {
        "id": "A3Wzy35iRl6I"
      }
    },
    {
      "cell_type": "code",
      "source": [
        "x = np.arange(0,3,0.1)\n",
        "\n"
      ],
      "metadata": {
        "id": "babMrrUpR1vX"
      },
      "execution_count": 31,
      "outputs": []
    },
    {
      "cell_type": "markdown",
      "source": [
        "# Dérivées partielles et gradients\n",
        "\n",
        "Alors que nous venons juste d'effleurer la surface d'un sujet profond, un certain nombre de concepts apparaissent déjà : premièrement, les règles de composition pour la différenciation peuvent être appliquées de manière routinière, ce qui nous permet de calculer automatiquement les gradients . Cette tâche ne nécessite aucune créativité et nous pouvons ainsi concentrer nos pouvoirs cognitifs ailleurs. Deuxièmement, le calcul des dérivées de fonctions à valeurs vectorielles nous oblige à multiplier des matrices lorsque nous traçons le graphique de dépendance des variables de la sortie à l'entrée. En particulier, ce graphe est parcouru vers l'avant lorsque nous évaluons une fonction et vers l'arrière lorsque nous calculons des gradients. Les chapitres suivants présenteront formellement la rétropropagation, une procédure de calcul pour appliquer la règle de la chaîne.\n",
        "\n",
        "Du point de vue de l'optimisation, les gradients nous permettent de déterminer comment déplacer les paramètres d'un modèle afin de réduire la perte, et chaque étape des algorithmes d'optimisation utilisés tout au long de ce livre nécessitera le calcul du gradient.\n",
        "\n",
        "\n",
        "le calcul des dérivées est l'étape cruciale dans tous les algorithmes d'optimisation que nous utiliserons pour entraîner les réseaux profonds"
      ],
      "metadata": {
        "id": "UmsqJIxbSuWE"
      }
    },
    {
      "cell_type": "code",
      "source": [
        "#Fonction simple avec y=2x*x(produit vecteur vecteur)\n",
        "x = tf.range(4,dtype=tf.float32)\n",
        "\n",
        "\n",
        "\n",
        "#Eviter d'allouer de la memoire a chaque on fait ceci\n",
        "\n",
        "x = tf.Variable(x)\n",
        "\n",
        "#Calcul de la fonction x et attribuer le resultat a y\n",
        "\n",
        "with tf.GradientTape() as t:\n",
        "  y = 2*tf.tensordot(x, x, axes=1)\n",
        "\n",
        "\n",
        "\n",
        "\n",
        "#Calcul le gradient de y par rapport à x en appelant gradient methode\n",
        "\n",
        "x_grad = t.gradient(y,x)\n",
        "\n",
        "with tf.GradientTape() as t:\n",
        "    y = tf.reduce_sum(x)\n",
        "\n",
        "t.gradient(y,x)"
      ],
      "metadata": {
        "colab": {
          "base_uri": "https://localhost:8080/"
        },
        "id": "W3JCKX1DVtEZ",
        "outputId": "ec50fa64-6390-4af1-d2b5-e46a4d07ca17"
      },
      "execution_count": 38,
      "outputs": [
        {
          "output_type": "execute_result",
          "data": {
            "text/plain": [
              "<tf.Tensor: shape=(4,), dtype=float32, numpy=array([1., 1., 1., 1.], dtype=float32)>"
            ]
          },
          "metadata": {},
          "execution_count": 38
        }
      ]
    },
    {
      "cell_type": "markdown",
      "source": [
        "Calcul en arrière pour les variables non scalaires"
      ],
      "metadata": {
        "id": "D0iLZkylY3x2"
      }
    },
    {
      "cell_type": "markdown",
      "source": [
        "# Probabilite\n",
        "\n"
      ],
      "metadata": {
        "id": "nObibD-xdhGW"
      }
    },
    {
      "cell_type": "code",
      "source": [
        "fair_probs = tf.ones(2) / 2\n",
        "\n",
        "\n",
        "tfd.Multinomial(100, fair_probs).sample()"
      ],
      "metadata": {
        "colab": {
          "base_uri": "https://localhost:8080/"
        },
        "id": "_j1T0lK2drT-",
        "outputId": "33548f74-0964-4e72-ef3c-738cc8ba5348"
      },
      "execution_count": 44,
      "outputs": [
        {
          "output_type": "execute_result",
          "data": {
            "text/plain": [
              "<tf.Tensor: shape=(2,), dtype=float32, numpy=array([38., 62.], dtype=float32)>"
            ]
          },
          "metadata": {},
          "execution_count": 44
        }
      ]
    },
    {
      "cell_type": "code",
      "source": [
        "counts = tfd.Multinomial(1, fair_probs).sample(10000)\n",
        "cum_counts = tf.cumsum(counts, axis=0)\n",
        "estimates = cum_counts / tf.reduce_sum(cum_counts, axis=1, keepdims=True)\n",
        "estimates = estimates.numpy()\n",
        "\n",
        "d2l.set_figsize((4.5, 3.5))\n",
        "d2l.plt.plot(estimates[:, 0], label=(\"P(coin=heads)\"))\n",
        "d2l.plt.plot(estimates[:, 1], label=(\"P(coin=tails)\"))\n",
        "d2l.plt.axhline(y=0.5, color='black', linestyle='dashed')\n",
        "d2l.plt.gca().set_xlabel('Samples')\n",
        "d2l.plt.gca().set_ylabel('Estimated probability')\n",
        "d2l.plt.legend();"
      ],
      "metadata": {
        "colab": {
          "base_uri": "https://localhost:8080/",
          "height": 340
        },
        "id": "ED8TgOP-emYd",
        "outputId": "16fbd74c-a95d-409a-94ef-6af80ab7cba0"
      },
      "execution_count": 45,
      "outputs": [
        {
          "output_type": "display_data",
          "data": {
            "text/plain": [
              "<Figure size 450x350 with 1 Axes>"
            ],
            "image/svg+xml": "<?xml version=\"1.0\" encoding=\"utf-8\" standalone=\"no\"?>\n<!DOCTYPE svg PUBLIC \"-//W3C//DTD SVG 1.1//EN\"\n  \"http://www.w3.org/Graphics/SVG/1.1/DTD/svg11.dtd\">\n<svg xmlns:xlink=\"http://www.w3.org/1999/xlink\" width=\"306.596693pt\" height=\"238.79625pt\" viewBox=\"0 0 306.596693 238.79625\" xmlns=\"http://www.w3.org/2000/svg\" version=\"1.1\">\n <metadata>\n  <rdf:RDF xmlns:dc=\"http://purl.org/dc/elements/1.1/\" xmlns:cc=\"http://creativecommons.org/ns#\" xmlns:rdf=\"http://www.w3.org/1999/02/22-rdf-syntax-ns#\">\n   <cc:Work>\n    <dc:type rdf:resource=\"http://purl.org/dc/dcmitype/StillImage\"/>\n    <dc:date>2023-12-31T15:24:59.424092</dc:date>\n    <dc:format>image/svg+xml</dc:format>\n    <dc:creator>\n     <cc:Agent>\n      <dc:title>Matplotlib v3.7.2, https://matplotlib.org/</dc:title>\n     </cc:Agent>\n    </dc:creator>\n   </cc:Work>\n  </rdf:RDF>\n </metadata>\n <defs>\n  <style type=\"text/css\">*{stroke-linejoin: round; stroke-linecap: butt}</style>\n </defs>\n <g id=\"figure_1\">\n  <g id=\"patch_1\">\n   <path d=\"M 0 238.79625 \nL 306.596693 238.79625 \nL 306.596693 0 \nL 0 0 \nz\n\" style=\"fill: #ffffff\"/>\n  </g>\n  <g id=\"axes_1\">\n   <g id=\"patch_2\">\n    <path d=\"M 43.78125 201.24 \nL 294.88125 201.24 \nL 294.88125 7.2 \nL 43.78125 7.2 \nz\n\" style=\"fill: #ffffff\"/>\n   </g>\n   <g id=\"matplotlib.axis_1\">\n    <g id=\"xtick_1\">\n     <g id=\"line2d_1\">\n      <defs>\n       <path id=\"m491354008d\" d=\"M 0 0 \nL 0 3.5 \n\" style=\"stroke: #000000; stroke-width: 0.8\"/>\n      </defs>\n      <g>\n       <use xlink:href=\"#m491354008d\" x=\"55.194886\" y=\"201.24\" style=\"stroke: #000000; stroke-width: 0.8\"/>\n      </g>\n     </g>\n     <g id=\"text_1\">\n      <!-- 0 -->\n      <g transform=\"translate(52.013636 215.838437) scale(0.1 -0.1)\">\n       <defs>\n        <path id=\"DejaVuSans-30\" d=\"M 2034 4250 \nQ 1547 4250 1301 3770 \nQ 1056 3291 1056 2328 \nQ 1056 1369 1301 889 \nQ 1547 409 2034 409 \nQ 2525 409 2770 889 \nQ 3016 1369 3016 2328 \nQ 3016 3291 2770 3770 \nQ 2525 4250 2034 4250 \nz\nM 2034 4750 \nQ 2819 4750 3233 4129 \nQ 3647 3509 3647 2328 \nQ 3647 1150 3233 529 \nQ 2819 -91 2034 -91 \nQ 1250 -91 836 529 \nQ 422 1150 422 2328 \nQ 422 3509 836 4129 \nQ 1250 4750 2034 4750 \nz\n\" transform=\"scale(0.015625)\"/>\n       </defs>\n       <use xlink:href=\"#DejaVuSans-30\"/>\n      </g>\n     </g>\n    </g>\n    <g id=\"xtick_2\">\n     <g id=\"line2d_2\">\n      <g>\n       <use xlink:href=\"#m491354008d\" x=\"100.853998\" y=\"201.24\" style=\"stroke: #000000; stroke-width: 0.8\"/>\n      </g>\n     </g>\n     <g id=\"text_2\">\n      <!-- 2000 -->\n      <g transform=\"translate(88.128998 215.838437) scale(0.1 -0.1)\">\n       <defs>\n        <path id=\"DejaVuSans-32\" d=\"M 1228 531 \nL 3431 531 \nL 3431 0 \nL 469 0 \nL 469 531 \nQ 828 903 1448 1529 \nQ 2069 2156 2228 2338 \nQ 2531 2678 2651 2914 \nQ 2772 3150 2772 3378 \nQ 2772 3750 2511 3984 \nQ 2250 4219 1831 4219 \nQ 1534 4219 1204 4116 \nQ 875 4013 500 3803 \nL 500 4441 \nQ 881 4594 1212 4672 \nQ 1544 4750 1819 4750 \nQ 2544 4750 2975 4387 \nQ 3406 4025 3406 3419 \nQ 3406 3131 3298 2873 \nQ 3191 2616 2906 2266 \nQ 2828 2175 2409 1742 \nQ 1991 1309 1228 531 \nz\n\" transform=\"scale(0.015625)\"/>\n       </defs>\n       <use xlink:href=\"#DejaVuSans-32\"/>\n       <use xlink:href=\"#DejaVuSans-30\" x=\"63.623047\"/>\n       <use xlink:href=\"#DejaVuSans-30\" x=\"127.246094\"/>\n       <use xlink:href=\"#DejaVuSans-30\" x=\"190.869141\"/>\n      </g>\n     </g>\n    </g>\n    <g id=\"xtick_3\">\n     <g id=\"line2d_3\">\n      <g>\n       <use xlink:href=\"#m491354008d\" x=\"146.513109\" y=\"201.24\" style=\"stroke: #000000; stroke-width: 0.8\"/>\n      </g>\n     </g>\n     <g id=\"text_3\">\n      <!-- 4000 -->\n      <g transform=\"translate(133.788109 215.838437) scale(0.1 -0.1)\">\n       <defs>\n        <path id=\"DejaVuSans-34\" d=\"M 2419 4116 \nL 825 1625 \nL 2419 1625 \nL 2419 4116 \nz\nM 2253 4666 \nL 3047 4666 \nL 3047 1625 \nL 3713 1625 \nL 3713 1100 \nL 3047 1100 \nL 3047 0 \nL 2419 0 \nL 2419 1100 \nL 313 1100 \nL 313 1709 \nL 2253 4666 \nz\n\" transform=\"scale(0.015625)\"/>\n       </defs>\n       <use xlink:href=\"#DejaVuSans-34\"/>\n       <use xlink:href=\"#DejaVuSans-30\" x=\"63.623047\"/>\n       <use xlink:href=\"#DejaVuSans-30\" x=\"127.246094\"/>\n       <use xlink:href=\"#DejaVuSans-30\" x=\"190.869141\"/>\n      </g>\n     </g>\n    </g>\n    <g id=\"xtick_4\">\n     <g id=\"line2d_4\">\n      <g>\n       <use xlink:href=\"#m491354008d\" x=\"192.17222\" y=\"201.24\" style=\"stroke: #000000; stroke-width: 0.8\"/>\n      </g>\n     </g>\n     <g id=\"text_4\">\n      <!-- 6000 -->\n      <g transform=\"translate(179.44722 215.838437) scale(0.1 -0.1)\">\n       <defs>\n        <path id=\"DejaVuSans-36\" d=\"M 2113 2584 \nQ 1688 2584 1439 2293 \nQ 1191 2003 1191 1497 \nQ 1191 994 1439 701 \nQ 1688 409 2113 409 \nQ 2538 409 2786 701 \nQ 3034 994 3034 1497 \nQ 3034 2003 2786 2293 \nQ 2538 2584 2113 2584 \nz\nM 3366 4563 \nL 3366 3988 \nQ 3128 4100 2886 4159 \nQ 2644 4219 2406 4219 \nQ 1781 4219 1451 3797 \nQ 1122 3375 1075 2522 \nQ 1259 2794 1537 2939 \nQ 1816 3084 2150 3084 \nQ 2853 3084 3261 2657 \nQ 3669 2231 3669 1497 \nQ 3669 778 3244 343 \nQ 2819 -91 2113 -91 \nQ 1303 -91 875 529 \nQ 447 1150 447 2328 \nQ 447 3434 972 4092 \nQ 1497 4750 2381 4750 \nQ 2619 4750 2861 4703 \nQ 3103 4656 3366 4563 \nz\n\" transform=\"scale(0.015625)\"/>\n       </defs>\n       <use xlink:href=\"#DejaVuSans-36\"/>\n       <use xlink:href=\"#DejaVuSans-30\" x=\"63.623047\"/>\n       <use xlink:href=\"#DejaVuSans-30\" x=\"127.246094\"/>\n       <use xlink:href=\"#DejaVuSans-30\" x=\"190.869141\"/>\n      </g>\n     </g>\n    </g>\n    <g id=\"xtick_5\">\n     <g id=\"line2d_5\">\n      <g>\n       <use xlink:href=\"#m491354008d\" x=\"237.831332\" y=\"201.24\" style=\"stroke: #000000; stroke-width: 0.8\"/>\n      </g>\n     </g>\n     <g id=\"text_5\">\n      <!-- 8000 -->\n      <g transform=\"translate(225.106332 215.838437) scale(0.1 -0.1)\">\n       <defs>\n        <path id=\"DejaVuSans-38\" d=\"M 2034 2216 \nQ 1584 2216 1326 1975 \nQ 1069 1734 1069 1313 \nQ 1069 891 1326 650 \nQ 1584 409 2034 409 \nQ 2484 409 2743 651 \nQ 3003 894 3003 1313 \nQ 3003 1734 2745 1975 \nQ 2488 2216 2034 2216 \nz\nM 1403 2484 \nQ 997 2584 770 2862 \nQ 544 3141 544 3541 \nQ 544 4100 942 4425 \nQ 1341 4750 2034 4750 \nQ 2731 4750 3128 4425 \nQ 3525 4100 3525 3541 \nQ 3525 3141 3298 2862 \nQ 3072 2584 2669 2484 \nQ 3125 2378 3379 2068 \nQ 3634 1759 3634 1313 \nQ 3634 634 3220 271 \nQ 2806 -91 2034 -91 \nQ 1263 -91 848 271 \nQ 434 634 434 1313 \nQ 434 1759 690 2068 \nQ 947 2378 1403 2484 \nz\nM 1172 3481 \nQ 1172 3119 1398 2916 \nQ 1625 2713 2034 2713 \nQ 2441 2713 2670 2916 \nQ 2900 3119 2900 3481 \nQ 2900 3844 2670 4047 \nQ 2441 4250 2034 4250 \nQ 1625 4250 1398 4047 \nQ 1172 3844 1172 3481 \nz\n\" transform=\"scale(0.015625)\"/>\n       </defs>\n       <use xlink:href=\"#DejaVuSans-38\"/>\n       <use xlink:href=\"#DejaVuSans-30\" x=\"63.623047\"/>\n       <use xlink:href=\"#DejaVuSans-30\" x=\"127.246094\"/>\n       <use xlink:href=\"#DejaVuSans-30\" x=\"190.869141\"/>\n      </g>\n     </g>\n    </g>\n    <g id=\"xtick_6\">\n     <g id=\"line2d_6\">\n      <g>\n       <use xlink:href=\"#m491354008d\" x=\"283.490443\" y=\"201.24\" style=\"stroke: #000000; stroke-width: 0.8\"/>\n      </g>\n     </g>\n     <g id=\"text_6\">\n      <!-- 10000 -->\n      <g transform=\"translate(267.584193 215.838437) scale(0.1 -0.1)\">\n       <defs>\n        <path id=\"DejaVuSans-31\" d=\"M 794 531 \nL 1825 531 \nL 1825 4091 \nL 703 3866 \nL 703 4441 \nL 1819 4666 \nL 2450 4666 \nL 2450 531 \nL 3481 531 \nL 3481 0 \nL 794 0 \nL 794 531 \nz\n\" transform=\"scale(0.015625)\"/>\n       </defs>\n       <use xlink:href=\"#DejaVuSans-31\"/>\n       <use xlink:href=\"#DejaVuSans-30\" x=\"63.623047\"/>\n       <use xlink:href=\"#DejaVuSans-30\" x=\"127.246094\"/>\n       <use xlink:href=\"#DejaVuSans-30\" x=\"190.869141\"/>\n       <use xlink:href=\"#DejaVuSans-30\" x=\"254.492188\"/>\n      </g>\n     </g>\n    </g>\n    <g id=\"text_7\">\n     <!-- Samples -->\n     <g transform=\"translate(147.978125 229.516562) scale(0.1 -0.1)\">\n      <defs>\n       <path id=\"DejaVuSans-53\" d=\"M 3425 4513 \nL 3425 3897 \nQ 3066 4069 2747 4153 \nQ 2428 4238 2131 4238 \nQ 1616 4238 1336 4038 \nQ 1056 3838 1056 3469 \nQ 1056 3159 1242 3001 \nQ 1428 2844 1947 2747 \nL 2328 2669 \nQ 3034 2534 3370 2195 \nQ 3706 1856 3706 1288 \nQ 3706 609 3251 259 \nQ 2797 -91 1919 -91 \nQ 1588 -91 1214 -16 \nQ 841 59 441 206 \nL 441 856 \nQ 825 641 1194 531 \nQ 1563 422 1919 422 \nQ 2459 422 2753 634 \nQ 3047 847 3047 1241 \nQ 3047 1584 2836 1778 \nQ 2625 1972 2144 2069 \nL 1759 2144 \nQ 1053 2284 737 2584 \nQ 422 2884 422 3419 \nQ 422 4038 858 4394 \nQ 1294 4750 2059 4750 \nQ 2388 4750 2728 4690 \nQ 3069 4631 3425 4513 \nz\n\" transform=\"scale(0.015625)\"/>\n       <path id=\"DejaVuSans-61\" d=\"M 2194 1759 \nQ 1497 1759 1228 1600 \nQ 959 1441 959 1056 \nQ 959 750 1161 570 \nQ 1363 391 1709 391 \nQ 2188 391 2477 730 \nQ 2766 1069 2766 1631 \nL 2766 1759 \nL 2194 1759 \nz\nM 3341 1997 \nL 3341 0 \nL 2766 0 \nL 2766 531 \nQ 2569 213 2275 61 \nQ 1981 -91 1556 -91 \nQ 1019 -91 701 211 \nQ 384 513 384 1019 \nQ 384 1609 779 1909 \nQ 1175 2209 1959 2209 \nL 2766 2209 \nL 2766 2266 \nQ 2766 2663 2505 2880 \nQ 2244 3097 1772 3097 \nQ 1472 3097 1187 3025 \nQ 903 2953 641 2809 \nL 641 3341 \nQ 956 3463 1253 3523 \nQ 1550 3584 1831 3584 \nQ 2591 3584 2966 3190 \nQ 3341 2797 3341 1997 \nz\n\" transform=\"scale(0.015625)\"/>\n       <path id=\"DejaVuSans-6d\" d=\"M 3328 2828 \nQ 3544 3216 3844 3400 \nQ 4144 3584 4550 3584 \nQ 5097 3584 5394 3201 \nQ 5691 2819 5691 2113 \nL 5691 0 \nL 5113 0 \nL 5113 2094 \nQ 5113 2597 4934 2840 \nQ 4756 3084 4391 3084 \nQ 3944 3084 3684 2787 \nQ 3425 2491 3425 1978 \nL 3425 0 \nL 2847 0 \nL 2847 2094 \nQ 2847 2600 2669 2842 \nQ 2491 3084 2119 3084 \nQ 1678 3084 1418 2786 \nQ 1159 2488 1159 1978 \nL 1159 0 \nL 581 0 \nL 581 3500 \nL 1159 3500 \nL 1159 2956 \nQ 1356 3278 1631 3431 \nQ 1906 3584 2284 3584 \nQ 2666 3584 2933 3390 \nQ 3200 3197 3328 2828 \nz\n\" transform=\"scale(0.015625)\"/>\n       <path id=\"DejaVuSans-70\" d=\"M 1159 525 \nL 1159 -1331 \nL 581 -1331 \nL 581 3500 \nL 1159 3500 \nL 1159 2969 \nQ 1341 3281 1617 3432 \nQ 1894 3584 2278 3584 \nQ 2916 3584 3314 3078 \nQ 3713 2572 3713 1747 \nQ 3713 922 3314 415 \nQ 2916 -91 2278 -91 \nQ 1894 -91 1617 61 \nQ 1341 213 1159 525 \nz\nM 3116 1747 \nQ 3116 2381 2855 2742 \nQ 2594 3103 2138 3103 \nQ 1681 3103 1420 2742 \nQ 1159 2381 1159 1747 \nQ 1159 1113 1420 752 \nQ 1681 391 2138 391 \nQ 2594 391 2855 752 \nQ 3116 1113 3116 1747 \nz\n\" transform=\"scale(0.015625)\"/>\n       <path id=\"DejaVuSans-6c\" d=\"M 603 4863 \nL 1178 4863 \nL 1178 0 \nL 603 0 \nL 603 4863 \nz\n\" transform=\"scale(0.015625)\"/>\n       <path id=\"DejaVuSans-65\" d=\"M 3597 1894 \nL 3597 1613 \nL 953 1613 \nQ 991 1019 1311 708 \nQ 1631 397 2203 397 \nQ 2534 397 2845 478 \nQ 3156 559 3463 722 \nL 3463 178 \nQ 3153 47 2828 -22 \nQ 2503 -91 2169 -91 \nQ 1331 -91 842 396 \nQ 353 884 353 1716 \nQ 353 2575 817 3079 \nQ 1281 3584 2069 3584 \nQ 2775 3584 3186 3129 \nQ 3597 2675 3597 1894 \nz\nM 3022 2063 \nQ 3016 2534 2758 2815 \nQ 2500 3097 2075 3097 \nQ 1594 3097 1305 2825 \nQ 1016 2553 972 2059 \nL 3022 2063 \nz\n\" transform=\"scale(0.015625)\"/>\n       <path id=\"DejaVuSans-73\" d=\"M 2834 3397 \nL 2834 2853 \nQ 2591 2978 2328 3040 \nQ 2066 3103 1784 3103 \nQ 1356 3103 1142 2972 \nQ 928 2841 928 2578 \nQ 928 2378 1081 2264 \nQ 1234 2150 1697 2047 \nL 1894 2003 \nQ 2506 1872 2764 1633 \nQ 3022 1394 3022 966 \nQ 3022 478 2636 193 \nQ 2250 -91 1575 -91 \nQ 1294 -91 989 -36 \nQ 684 19 347 128 \nL 347 722 \nQ 666 556 975 473 \nQ 1284 391 1588 391 \nQ 1994 391 2212 530 \nQ 2431 669 2431 922 \nQ 2431 1156 2273 1281 \nQ 2116 1406 1581 1522 \nL 1381 1569 \nQ 847 1681 609 1914 \nQ 372 2147 372 2553 \nQ 372 3047 722 3315 \nQ 1072 3584 1716 3584 \nQ 2034 3584 2315 3537 \nQ 2597 3491 2834 3397 \nz\n\" transform=\"scale(0.015625)\"/>\n      </defs>\n      <use xlink:href=\"#DejaVuSans-53\"/>\n      <use xlink:href=\"#DejaVuSans-61\" x=\"63.476562\"/>\n      <use xlink:href=\"#DejaVuSans-6d\" x=\"124.755859\"/>\n      <use xlink:href=\"#DejaVuSans-70\" x=\"222.167969\"/>\n      <use xlink:href=\"#DejaVuSans-6c\" x=\"285.644531\"/>\n      <use xlink:href=\"#DejaVuSans-65\" x=\"313.427734\"/>\n      <use xlink:href=\"#DejaVuSans-73\" x=\"374.951172\"/>\n     </g>\n    </g>\n   </g>\n   <g id=\"matplotlib.axis_2\">\n    <g id=\"ytick_1\">\n     <g id=\"line2d_7\">\n      <defs>\n       <path id=\"m41072918e9\" d=\"M 0 0 \nL -3.5 0 \n\" style=\"stroke: #000000; stroke-width: 0.8\"/>\n      </defs>\n      <g>\n       <use xlink:href=\"#m41072918e9\" x=\"43.78125\" y=\"192.42\" style=\"stroke: #000000; stroke-width: 0.8\"/>\n      </g>\n     </g>\n     <g id=\"text_8\">\n      <!-- 0.0 -->\n      <g transform=\"translate(20.878125 196.219219) scale(0.1 -0.1)\">\n       <defs>\n        <path id=\"DejaVuSans-2e\" d=\"M 684 794 \nL 1344 794 \nL 1344 0 \nL 684 0 \nL 684 794 \nz\n\" transform=\"scale(0.015625)\"/>\n       </defs>\n       <use xlink:href=\"#DejaVuSans-30\"/>\n       <use xlink:href=\"#DejaVuSans-2e\" x=\"63.623047\"/>\n       <use xlink:href=\"#DejaVuSans-30\" x=\"95.410156\"/>\n      </g>\n     </g>\n    </g>\n    <g id=\"ytick_2\">\n     <g id=\"line2d_8\">\n      <g>\n       <use xlink:href=\"#m41072918e9\" x=\"43.78125\" y=\"157.14\" style=\"stroke: #000000; stroke-width: 0.8\"/>\n      </g>\n     </g>\n     <g id=\"text_9\">\n      <!-- 0.2 -->\n      <g transform=\"translate(20.878125 160.939219) scale(0.1 -0.1)\">\n       <use xlink:href=\"#DejaVuSans-30\"/>\n       <use xlink:href=\"#DejaVuSans-2e\" x=\"63.623047\"/>\n       <use xlink:href=\"#DejaVuSans-32\" x=\"95.410156\"/>\n      </g>\n     </g>\n    </g>\n    <g id=\"ytick_3\">\n     <g id=\"line2d_9\">\n      <g>\n       <use xlink:href=\"#m41072918e9\" x=\"43.78125\" y=\"121.86\" style=\"stroke: #000000; stroke-width: 0.8\"/>\n      </g>\n     </g>\n     <g id=\"text_10\">\n      <!-- 0.4 -->\n      <g transform=\"translate(20.878125 125.659219) scale(0.1 -0.1)\">\n       <use xlink:href=\"#DejaVuSans-30\"/>\n       <use xlink:href=\"#DejaVuSans-2e\" x=\"63.623047\"/>\n       <use xlink:href=\"#DejaVuSans-34\" x=\"95.410156\"/>\n      </g>\n     </g>\n    </g>\n    <g id=\"ytick_4\">\n     <g id=\"line2d_10\">\n      <g>\n       <use xlink:href=\"#m41072918e9\" x=\"43.78125\" y=\"86.58\" style=\"stroke: #000000; stroke-width: 0.8\"/>\n      </g>\n     </g>\n     <g id=\"text_11\">\n      <!-- 0.6 -->\n      <g transform=\"translate(20.878125 90.379219) scale(0.1 -0.1)\">\n       <use xlink:href=\"#DejaVuSans-30\"/>\n       <use xlink:href=\"#DejaVuSans-2e\" x=\"63.623047\"/>\n       <use xlink:href=\"#DejaVuSans-36\" x=\"95.410156\"/>\n      </g>\n     </g>\n    </g>\n    <g id=\"ytick_5\">\n     <g id=\"line2d_11\">\n      <g>\n       <use xlink:href=\"#m41072918e9\" x=\"43.78125\" y=\"51.3\" style=\"stroke: #000000; stroke-width: 0.8\"/>\n      </g>\n     </g>\n     <g id=\"text_12\">\n      <!-- 0.8 -->\n      <g transform=\"translate(20.878125 55.099219) scale(0.1 -0.1)\">\n       <use xlink:href=\"#DejaVuSans-30\"/>\n       <use xlink:href=\"#DejaVuSans-2e\" x=\"63.623047\"/>\n       <use xlink:href=\"#DejaVuSans-38\" x=\"95.410156\"/>\n      </g>\n     </g>\n    </g>\n    <g id=\"ytick_6\">\n     <g id=\"line2d_12\">\n      <g>\n       <use xlink:href=\"#m41072918e9\" x=\"43.78125\" y=\"16.02\" style=\"stroke: #000000; stroke-width: 0.8\"/>\n      </g>\n     </g>\n     <g id=\"text_13\">\n      <!-- 1.0 -->\n      <g transform=\"translate(20.878125 19.819219) scale(0.1 -0.1)\">\n       <use xlink:href=\"#DejaVuSans-31\"/>\n       <use xlink:href=\"#DejaVuSans-2e\" x=\"63.623047\"/>\n       <use xlink:href=\"#DejaVuSans-30\" x=\"95.410156\"/>\n      </g>\n     </g>\n    </g>\n    <g id=\"text_14\">\n     <!-- Estimated probability -->\n     <g transform=\"translate(14.798438 157.743437) rotate(-90) scale(0.1 -0.1)\">\n      <defs>\n       <path id=\"DejaVuSans-45\" d=\"M 628 4666 \nL 3578 4666 \nL 3578 4134 \nL 1259 4134 \nL 1259 2753 \nL 3481 2753 \nL 3481 2222 \nL 1259 2222 \nL 1259 531 \nL 3634 531 \nL 3634 0 \nL 628 0 \nL 628 4666 \nz\n\" transform=\"scale(0.015625)\"/>\n       <path id=\"DejaVuSans-74\" d=\"M 1172 4494 \nL 1172 3500 \nL 2356 3500 \nL 2356 3053 \nL 1172 3053 \nL 1172 1153 \nQ 1172 725 1289 603 \nQ 1406 481 1766 481 \nL 2356 481 \nL 2356 0 \nL 1766 0 \nQ 1100 0 847 248 \nQ 594 497 594 1153 \nL 594 3053 \nL 172 3053 \nL 172 3500 \nL 594 3500 \nL 594 4494 \nL 1172 4494 \nz\n\" transform=\"scale(0.015625)\"/>\n       <path id=\"DejaVuSans-69\" d=\"M 603 3500 \nL 1178 3500 \nL 1178 0 \nL 603 0 \nL 603 3500 \nz\nM 603 4863 \nL 1178 4863 \nL 1178 4134 \nL 603 4134 \nL 603 4863 \nz\n\" transform=\"scale(0.015625)\"/>\n       <path id=\"DejaVuSans-64\" d=\"M 2906 2969 \nL 2906 4863 \nL 3481 4863 \nL 3481 0 \nL 2906 0 \nL 2906 525 \nQ 2725 213 2448 61 \nQ 2172 -91 1784 -91 \nQ 1150 -91 751 415 \nQ 353 922 353 1747 \nQ 353 2572 751 3078 \nQ 1150 3584 1784 3584 \nQ 2172 3584 2448 3432 \nQ 2725 3281 2906 2969 \nz\nM 947 1747 \nQ 947 1113 1208 752 \nQ 1469 391 1925 391 \nQ 2381 391 2643 752 \nQ 2906 1113 2906 1747 \nQ 2906 2381 2643 2742 \nQ 2381 3103 1925 3103 \nQ 1469 3103 1208 2742 \nQ 947 2381 947 1747 \nz\n\" transform=\"scale(0.015625)\"/>\n       <path id=\"DejaVuSans-20\" transform=\"scale(0.015625)\"/>\n       <path id=\"DejaVuSans-72\" d=\"M 2631 2963 \nQ 2534 3019 2420 3045 \nQ 2306 3072 2169 3072 \nQ 1681 3072 1420 2755 \nQ 1159 2438 1159 1844 \nL 1159 0 \nL 581 0 \nL 581 3500 \nL 1159 3500 \nL 1159 2956 \nQ 1341 3275 1631 3429 \nQ 1922 3584 2338 3584 \nQ 2397 3584 2469 3576 \nQ 2541 3569 2628 3553 \nL 2631 2963 \nz\n\" transform=\"scale(0.015625)\"/>\n       <path id=\"DejaVuSans-6f\" d=\"M 1959 3097 \nQ 1497 3097 1228 2736 \nQ 959 2375 959 1747 \nQ 959 1119 1226 758 \nQ 1494 397 1959 397 \nQ 2419 397 2687 759 \nQ 2956 1122 2956 1747 \nQ 2956 2369 2687 2733 \nQ 2419 3097 1959 3097 \nz\nM 1959 3584 \nQ 2709 3584 3137 3096 \nQ 3566 2609 3566 1747 \nQ 3566 888 3137 398 \nQ 2709 -91 1959 -91 \nQ 1206 -91 779 398 \nQ 353 888 353 1747 \nQ 353 2609 779 3096 \nQ 1206 3584 1959 3584 \nz\n\" transform=\"scale(0.015625)\"/>\n       <path id=\"DejaVuSans-62\" d=\"M 3116 1747 \nQ 3116 2381 2855 2742 \nQ 2594 3103 2138 3103 \nQ 1681 3103 1420 2742 \nQ 1159 2381 1159 1747 \nQ 1159 1113 1420 752 \nQ 1681 391 2138 391 \nQ 2594 391 2855 752 \nQ 3116 1113 3116 1747 \nz\nM 1159 2969 \nQ 1341 3281 1617 3432 \nQ 1894 3584 2278 3584 \nQ 2916 3584 3314 3078 \nQ 3713 2572 3713 1747 \nQ 3713 922 3314 415 \nQ 2916 -91 2278 -91 \nQ 1894 -91 1617 61 \nQ 1341 213 1159 525 \nL 1159 0 \nL 581 0 \nL 581 4863 \nL 1159 4863 \nL 1159 2969 \nz\n\" transform=\"scale(0.015625)\"/>\n       <path id=\"DejaVuSans-79\" d=\"M 2059 -325 \nQ 1816 -950 1584 -1140 \nQ 1353 -1331 966 -1331 \nL 506 -1331 \nL 506 -850 \nL 844 -850 \nQ 1081 -850 1212 -737 \nQ 1344 -625 1503 -206 \nL 1606 56 \nL 191 3500 \nL 800 3500 \nL 1894 763 \nL 2988 3500 \nL 3597 3500 \nL 2059 -325 \nz\n\" transform=\"scale(0.015625)\"/>\n      </defs>\n      <use xlink:href=\"#DejaVuSans-45\"/>\n      <use xlink:href=\"#DejaVuSans-73\" x=\"63.183594\"/>\n      <use xlink:href=\"#DejaVuSans-74\" x=\"115.283203\"/>\n      <use xlink:href=\"#DejaVuSans-69\" x=\"154.492188\"/>\n      <use xlink:href=\"#DejaVuSans-6d\" x=\"182.275391\"/>\n      <use xlink:href=\"#DejaVuSans-61\" x=\"279.6875\"/>\n      <use xlink:href=\"#DejaVuSans-74\" x=\"340.966797\"/>\n      <use xlink:href=\"#DejaVuSans-65\" x=\"380.175781\"/>\n      <use xlink:href=\"#DejaVuSans-64\" x=\"441.699219\"/>\n      <use xlink:href=\"#DejaVuSans-20\" x=\"505.175781\"/>\n      <use xlink:href=\"#DejaVuSans-70\" x=\"536.962891\"/>\n      <use xlink:href=\"#DejaVuSans-72\" x=\"600.439453\"/>\n      <use xlink:href=\"#DejaVuSans-6f\" x=\"639.302734\"/>\n      <use xlink:href=\"#DejaVuSans-62\" x=\"700.484375\"/>\n      <use xlink:href=\"#DejaVuSans-61\" x=\"763.960938\"/>\n      <use xlink:href=\"#DejaVuSans-62\" x=\"825.240234\"/>\n      <use xlink:href=\"#DejaVuSans-69\" x=\"888.716797\"/>\n      <use xlink:href=\"#DejaVuSans-6c\" x=\"916.5\"/>\n      <use xlink:href=\"#DejaVuSans-69\" x=\"944.283203\"/>\n      <use xlink:href=\"#DejaVuSans-74\" x=\"972.066406\"/>\n      <use xlink:href=\"#DejaVuSans-79\" x=\"1011.275391\"/>\n     </g>\n    </g>\n   </g>\n   <g id=\"line2d_13\">\n    <path d=\"M 55.194886 192.42 \nL 55.240545 192.42 \nL 55.354693 82.17 \nL 55.400352 86.579996 \nL 55.53733 60.12 \nL 55.582989 65.020002 \nL 55.674307 64.129087 \nL 55.719966 74.819996 \nL 55.742796 72.467999 \nL 55.765625 77.08154 \nL 55.993921 99.319998 \nL 56.01675 97.068653 \nL 56.062409 101.958456 \nL 56.085239 99.810004 \nL 56.336364 116.325882 \nL 56.450512 110.520002 \nL 56.473341 111.956844 \nL 56.610319 116.819999 \nL 56.655978 116.432307 \nL 56.792955 112.915776 \nL 56.815785 114.019999 \nL 56.884273 112.451997 \nL 56.907103 113.504212 \nL 56.975592 109.802278 \nL 57.021251 111.842223 \nL 57.04408 112.82488 \nL 57.089739 110.520002 \nL 57.135399 112.42465 \nL 57.203887 111.157077 \nL 57.226717 112.06 \nL 57.249546 112.943076 \nL 57.295205 110.858709 \nL 57.340865 112.575787 \nL 57.409353 113.220001 \nL 57.455012 111.275999 \nL 57.477842 112.079404 \nL 57.523501 110.214174 \nL 57.546331 111.004615 \nL 57.660478 108.265871 \nL 57.683308 109.03091 \nL 57.774626 110.409471 \nL 57.728967 108.944998 \nL 57.820285 110.302757 \nL 57.888774 109.408235 \nL 57.911603 110.1 \nL 58.09424 113.866875 \nL 57.957263 110.003605 \nL 58.117069 113.108371 \nL 58.139899 112.361538 \nL 58.185558 113.574547 \nL 58.391024 116.105108 \nL 58.550831 113.755135 \nL 58.642149 114.664739 \nL 58.59649 113.628002 \nL 58.664979 114.019999 \nL 58.756297 111.523184 \nL 58.801956 112.540754 \nL 58.847615 113.533042 \nL 58.893274 112.336567 \nL 59.053081 110.445882 \nL 59.09874 111.399068 \nL 59.144399 110.302757 \nL 59.167229 110.771998 \nL 59.327036 108.096923 \nL 59.349865 108.557705 \nL 59.441184 108.464922 \nL 59.532502 110.223143 \nL 59.62382 109.195384 \nL 59.64665 109.619997 \nL 59.692309 110.456365 \nL 59.737968 109.512 \nL 59.760798 109.92448 \nL 59.874945 109.357866 \nL 59.920604 110.15654 \nL 59.966264 109.26 \nL 59.989093 109.654121 \nL 60.057582 109.990094 \nL 60.240218 106.603782 \nL 60.263048 106.98861 \nL 60.308707 106.18 \nL 60.354366 106.939823 \nL 60.377196 106.541054 \nL 60.422855 107.287824 \nL 60.514173 107.235384 \nL 60.582662 108.313669 \nL 60.742468 106.38885 \nL 60.765298 106.74 \nL 60.833787 107.776453 \nL 60.902275 107.382547 \nL 60.947934 106.660318 \nL 61.016423 106.97625 \nL 61.039253 107.308716 \nL 61.084912 106.603782 \nL 61.1534 106.239847 \nL 61.17623 106.567529 \nL 61.221889 107.21547 \nL 61.267548 106.532359 \nL 61.313207 107.170927 \nL 61.336037 106.833335 \nL 61.381696 107.462645 \nL 61.427355 107.438977 \nL 61.632821 109.518235 \nL 61.746969 108.507499 \nL 61.769798 108.797856 \nL 61.792628 109.08621 \nL 61.838287 108.448767 \nL 61.861117 108.735359 \nL 61.975264 107.77168 \nL 61.998094 108.054782 \nL 62.066583 108.892847 \nL 62.157901 108.831764 \nL 62.18073 108.529448 \nL 62.22639 109.072425 \nL 62.317708 110.137572 \nL 62.363367 109.54 \nL 62.500344 108.891028 \nL 62.591662 109.376308 \nL 62.546003 108.862103 \nL 62.614492 109.089937 \nL 62.751469 108.470605 \nL 63.071083 110.847747 \nL 63.20806 109.7325 \nL 63.23089 109.966742 \nL 63.322208 110.39647 \nL 63.276549 109.934369 \nL 63.367867 110.362062 \nL 63.436356 109.580222 \nL 63.504845 109.777806 \nL 63.596163 109.717559 \nL 63.687481 110.604453 \nL 63.710311 110.351553 \nL 63.75597 110.788084 \nL 63.847288 111.183158 \nL 63.801629 110.753335 \nL 63.892947 111.146699 \nL 64.029924 110.584949 \nL 64.052754 110.795323 \nL 64.121243 110.520002 \nL 64.144072 110.728395 \nL 64.212561 110.901817 \nL 64.28105 110.188419 \nL 64.303879 110.393999 \nL 64.349538 109.92448 \nL 64.372368 109.691463 \nL 64.418027 110.1 \nL 64.440856 110.302757 \nL 64.486516 109.840587 \nL 64.577834 108.92971 \nL 64.623493 109.333042 \nL 64.828959 110.266808 \nL 65.034425 109.120002 \nL 65.080084 109.503873 \nL 65.125743 109.075043 \nL 65.148573 109.265767 \nL 65.217061 109.03091 \nL 65.239891 109.219998 \nL 65.28555 109.197424 \nL 65.445357 110.1 \nL 65.582334 109.63579 \nL 65.696482 110.15102 \nL 65.627993 109.612138 \nL 65.742141 110.125402 \nL 65.947607 109.078476 \nL 66.107414 109.928144 \nL 66.130244 109.7325 \nL 66.221562 108.958014 \nL 66.267221 109.301484 \nL 66.29005 109.472156 \nL 66.33571 109.089937 \nL 66.381369 109.429369 \nL 66.427028 109.050424 \nL 66.495516 109.199033 \nL 66.564005 109.699359 \nL 66.609664 109.325388 \nL 66.655323 108.954392 \nL 66.723812 109.10063 \nL 66.769471 109.428659 \nL 66.81513 109.062353 \nL 66.83796 109.225481 \nL 67.043426 108.290769 \nL 67.203233 109.408235 \nL 67.294551 109.369153 \nL 67.36304 109.175055 \nL 67.385869 109.330656 \nL 67.477187 109.619997 \nL 67.431528 109.311619 \nL 67.522846 109.600036 \nL 67.614165 109.236879 \nL 67.636994 109.38923 \nL 67.682653 109.692262 \nL 67.728312 109.351637 \nL 67.819631 108.996176 \nL 67.84246 109.146488 \nL 67.888119 109.445492 \nL 67.956608 109.26 \nL 68.093585 108.894913 \nL 68.162074 109.335292 \nL 68.207733 109.008441 \nL 68.230563 108.845875 \nL 68.276222 109.137072 \nL 68.299051 108.975132 \nL 68.36754 109.408235 \nL 68.436029 109.22964 \nL 68.458858 109.069487 \nL 68.504517 109.354933 \nL 68.595836 109.920001 \nL 68.664324 109.741826 \nL 68.778472 109.251546 \nL 68.801302 109.390855 \nL 68.824131 109.529701 \nL 68.86979 109.218 \nL 68.938279 108.754327 \nL 68.983938 109.03091 \nL 69.029597 109.305668 \nL 69.075256 108.999309 \nL 69.189404 108.529448 \nL 69.212234 108.665855 \nL 69.235063 108.80182 \nL 69.303552 108.637124 \nL 69.463359 108.16505 \nL 69.486188 108.299427 \nL 69.531847 108.006011 \nL 69.691654 107.270944 \nL 69.714484 107.404617 \nL 69.782972 107.803123 \nL 69.851461 107.649236 \nL 69.988438 107.073927 \nL 70.011268 107.20523 \nL 70.056927 107.466625 \nL 70.125416 107.317101 \nL 70.148245 107.177929 \nL 70.193904 107.437022 \nL 70.308052 107.811855 \nL 70.239564 107.427275 \nL 70.330882 107.673614 \nL 70.39937 107.790317 \nL 70.490689 107.243249 \nL 70.536348 107.496375 \nL 70.604836 107.351362 \nL 70.673325 107.207627 \nL 70.696155 107.332941 \nL 70.741814 107.582465 \nL 70.787473 107.314736 \nL 70.855962 106.916072 \nL 70.901621 107.164266 \nL 71.084257 107.636645 \nL 71.107087 107.505385 \nL 71.152746 107.748002 \nL 71.266894 108.0983 \nL 71.198405 107.73795 \nL 71.312553 108.087329 \nL 71.335382 107.957288 \nL 71.381041 108.19521 \nL 71.4267 108.431797 \nL 71.518019 108.408266 \nL 71.540848 108.279414 \nL 71.586507 108.513461 \nL 71.677826 108.733693 \nL 71.632166 108.501554 \nL 71.700655 108.605634 \nL 71.814803 107.970615 \nL 71.860462 108.201671 \nL 71.906121 108.190805 \nL 72.180076 109.310736 \nL 72.317053 109.035179 \nL 72.385542 108.899045 \nL 72.45403 109.230039 \nL 72.522519 108.862103 \nL 72.568178 109.081415 \nL 72.591008 109.190642 \nL 72.659496 109.056034 \nL 72.705156 108.813748 \nL 72.773644 108.910274 \nL 72.796474 109.018445 \nL 72.864962 108.886065 \nL 72.910622 108.647029 \nL 72.956281 108.862103 \nL 73.00194 109.076084 \nL 73.093258 109.051339 \nL 73.161747 109.144874 \nL 73.207406 108.909113 \nL 73.275894 109.225045 \nL 73.321554 108.990567 \nL 73.50419 108.284008 \nL 73.52702 108.388657 \nL 73.732486 108.884946 \nL 73.960781 108.185248 \nL 74.143418 108.571626 \nL 74.303224 108.219524 \nL 74.55435 109.310458 \nL 74.622838 109.189013 \nL 74.736986 109.057106 \nL 74.988111 109.707098 \nL 75.0566 109.586935 \nL 75.079429 109.681926 \nL 75.170748 110.059725 \nL 75.216407 109.845513 \nL 75.353384 109.607785 \nL 75.421873 109.887869 \nL 75.490361 109.769663 \nL 75.55885 109.849787 \nL 75.604509 109.640111 \nL 75.627339 109.7325 \nL 75.672998 109.523787 \nL 75.764316 109.304701 \nL 75.787146 109.396743 \nL 75.946952 109.841538 \nL 75.969782 109.738551 \nL 76.129589 109.408235 \nL 76.357884 109.922587 \nL 76.494862 109.697088 \nL 76.517691 109.78556 \nL 76.60901 109.761851 \nL 76.791646 109.342495 \nL 76.882964 109.691925 \nL 76.928623 109.49534 \nL 77.11126 109.084306 \nL 77.134089 109.170933 \nL 77.179748 108.977676 \nL 77.202578 109.064145 \nL 77.225408 108.967824 \nL 77.271067 109.140248 \nL 77.430874 109.376308 \nL 77.453703 109.280655 \nL 77.499362 109.450676 \nL 77.522192 109.355238 \nL 77.681999 109.58714 \nL 77.704828 109.492339 \nL 77.750487 109.660041 \nL 77.864635 110.076337 \nL 77.910294 109.88747 \nL 78.184249 109.120002 \nL 78.207078 109.202555 \nL 78.252738 109.018219 \nL 78.412544 108.725302 \nL 78.481033 108.79845 \nL 78.503863 108.70767 \nL 78.61801 108.42818 \nL 78.64084 108.509881 \nL 78.686499 108.672815 \nL 78.754988 108.574502 \nL 78.823476 108.476756 \nL 78.846306 108.557705 \nL 79.006113 108.782069 \nL 79.051772 108.604704 \nL 79.097431 108.764657 \nL 79.211579 108.994357 \nL 79.234408 108.906148 \nL 79.394215 108.625843 \nL 79.417045 108.704747 \nL 79.462704 108.530526 \nL 79.576852 108.427859 \nL 79.64534 108.662911 \nL 79.713829 108.568466 \nL 79.736659 108.482454 \nL 79.782318 108.638181 \nL 79.805147 108.715829 \nL 79.850807 108.544331 \nL 79.873636 108.621847 \nL 79.987784 108.358176 \nL 80.010613 108.43544 \nL 80.033443 108.512562 \nL 80.079102 108.343004 \nL 80.147591 108.251078 \nL 80.17042 108.327947 \nL 80.444375 108.920815 \nL 80.649841 108.487743 \nL 80.672671 108.562883 \nL 80.71833 108.397478 \nL 80.741159 108.472497 \nL 80.763989 108.390029 \nL 80.809648 108.539678 \nL 80.878137 108.763164 \nL 80.946625 108.672968 \nL 81.083603 108.183171 \nL 81.129262 108.331344 \nL 81.289069 108.691678 \nL 81.311898 108.610744 \nL 81.426046 108.361567 \nL 81.448875 108.434594 \nL 81.517364 108.34721 \nL 81.585853 108.565202 \nL 81.608682 108.485283 \nL 81.654341 108.630001 \nL 81.677171 108.702171 \nL 81.72283 108.542785 \nL 81.836978 108.29774 \nL 81.859807 108.3697 \nL 81.928296 108.283824 \nL 81.996785 108.498636 \nL 82.065273 108.263122 \nL 82.110933 108.405763 \nL 82.24791 108.682057 \nL 82.270739 108.603994 \nL 82.293569 108.526062 \nL 82.339228 108.667059 \nL 82.384887 108.807582 \nL 82.453376 108.722258 \nL 82.704501 108.169256 \nL 82.818649 108.517109 \nL 82.887137 108.433837 \nL 83.115433 107.967061 \nL 83.183922 108.029779 \nL 83.206751 107.954854 \nL 83.27524 107.730806 \nL 83.320899 107.868175 \nL 83.343729 107.936696 \nL 83.389388 107.787961 \nL 83.503535 107.56037 \nL 83.526365 107.628697 \nL 83.731831 107.956689 \nL 83.891638 107.725564 \nL 83.914467 107.792835 \nL 83.960127 107.647281 \nL 84.097104 107.352597 \nL 84.119933 107.419684 \nL 84.188422 107.34274 \nL 84.256911 107.543079 \nL 84.348229 107.394649 \nL 84.371059 107.461126 \nL 84.530865 107.786405 \nL 84.553695 107.715103 \nL 84.599354 107.572829 \nL 84.645013 107.704278 \nL 84.896138 108.149032 \nL 84.964627 108.207585 \nL 85.078775 107.855726 \nL 85.192923 107.908975 \nL 85.261411 107.69982 \nL 85.30707 107.828184 \nL 85.444048 108.077918 \nL 85.466877 108.008545 \nL 85.512536 107.870115 \nL 85.558195 107.997158 \nL 85.718002 108.306998 \nL 85.740832 108.238072 \nL 85.809321 108.031924 \nL 85.877809 108.088995 \nL 85.946298 108.276675 \nL 85.991957 108.14 \nL 86.060446 108.196498 \nL 86.128934 107.992569 \nL 86.151764 108.054782 \nL 86.197423 107.919337 \nL 86.220253 107.981471 \nL 86.243082 107.913901 \nL 86.288741 108.037901 \nL 86.608355 108.639606 \nL 86.950798 107.895002 \nL 87.133435 108.126 \nL 87.247583 107.798223 \nL 87.316071 107.853239 \nL 87.36173 107.973191 \nL 87.407389 107.842946 \nL 87.475878 107.897599 \nL 87.544367 107.703216 \nL 87.612855 107.882069 \nL 87.681344 107.812418 \nL 87.841151 107.486665 \nL 87.863981 107.545976 \nL 87.932469 107.723414 \nL 88.000958 107.654772 \nL 88.252083 107.202606 \nL 88.457549 107.486665 \nL 88.480379 107.423973 \nL 88.526038 107.540329 \nL 88.548867 107.477728 \nL 88.571697 107.535787 \nL 88.617356 107.410852 \nL 88.708674 107.282084 \nL 88.731504 107.340001 \nL 88.799992 107.513282 \nL 88.845651 107.389219 \nL 88.93697 107.261381 \nL 88.959799 107.31892 \nL 89.165265 107.59636 \nL 89.256583 107.469164 \nL 89.279413 107.526025 \nL 89.347902 107.696151 \nL 89.393561 107.573838 \nL 89.530538 107.443257 \nL 89.599027 107.378357 \nL 89.713175 107.659393 \nL 89.872981 107.353423 \nL 89.895811 107.409348 \nL 89.918641 107.465205 \nL 89.9643 107.345195 \nL 90.009959 107.225506 \nL 90.055618 107.337015 \nL 90.261084 107.605686 \nL 90.375232 107.423111 \nL 90.398061 107.478201 \nL 90.649186 107.965947 \nL 90.672016 107.906815 \nL 90.740505 107.843109 \nL 90.763334 107.897357 \nL 90.923141 108.049887 \nL 91.060118 107.81084 \nL 91.082948 107.864626 \nL 91.174266 108.079101 \nL 91.219925 107.962493 \nL 91.265584 107.846184 \nL 91.311243 107.95304 \nL 91.334073 108.006364 \nL 91.379732 107.890365 \nL 91.402562 107.832479 \nL 91.448221 107.938941 \nL 91.608028 108.088422 \nL 91.745005 107.963823 \nL 91.859153 108.116826 \nL 91.881982 108.05955 \nL 92.01896 107.935986 \nL 92.133107 108.087944 \nL 92.155937 108.031109 \nL 92.338573 107.687324 \nL 92.361403 107.739338 \nL 92.52121 107.993841 \nL 92.544039 107.937653 \nL 92.681017 107.816713 \nL 92.863653 108.012972 \nL 92.909312 107.901668 \nL 92.954971 108.003809 \nL 93.091949 108.096339 \nL 93.320244 107.650882 \nL 93.343074 107.701581 \nL 93.52571 107.895002 \nL 93.731176 107.614318 \nL 93.754006 107.664498 \nL 93.799665 107.556169 \nL 93.822495 107.606296 \nL 93.845324 107.552232 \nL 93.890983 107.652312 \nL 93.913813 107.598316 \nL 94.142108 107.888541 \nL 94.210597 107.830528 \nL 94.233427 107.879966 \nL 94.256256 107.929347 \nL 94.301915 107.822101 \nL 94.461722 107.6537 \nL 94.530211 107.801204 \nL 94.57587 107.694858 \nL 94.735677 107.528138 \nL 94.941143 107.764204 \nL 95.032461 107.655051 \nL 95.055291 107.703574 \nL 95.123779 107.647202 \nL 95.169438 107.743975 \nL 95.237927 107.587181 \nL 95.283586 107.683744 \nL 95.534711 108.011405 \nL 95.694518 107.847383 \nL 95.808666 107.985845 \nL 95.831495 107.934204 \nL 95.854325 107.882626 \nL 95.899984 107.977397 \nL 95.922814 108.024706 \nL 95.968473 107.921734 \nL 95.991302 107.870335 \nL 96.036961 107.964806 \nL 96.10545 107.909348 \nL 96.151109 108.003509 \nL 96.310916 107.744085 \nL 96.333746 107.791047 \nL 96.356575 107.837962 \nL 96.402234 107.736278 \nL 96.562041 107.576756 \nL 96.63053 107.61978 \nL 96.653359 107.569365 \nL 96.699019 107.468706 \nL 96.744678 107.56201 \nL 96.813166 107.701581 \nL 96.858825 107.60116 \nL 97.018632 107.443893 \nL 97.109951 107.532901 \nL 97.13278 107.483111 \nL 97.246928 107.330691 \nL 97.269757 107.376833 \nL 97.383905 107.5114 \nL 97.406735 107.461946 \nL 97.429564 107.412544 \nL 97.475223 107.504297 \nL 97.543712 107.546507 \nL 97.566542 107.497221 \nL 97.612201 107.398808 \nL 97.680689 107.441054 \nL 97.703519 107.486665 \nL 97.749178 107.388577 \nL 97.908985 107.141156 \nL 97.931815 107.186682 \nL 97.954644 107.232167 \nL 98.000303 107.134926 \nL 98.023133 107.180363 \nL 98.18294 106.935286 \nL 98.205769 106.980634 \nL 98.411235 107.293497 \nL 98.434065 107.245331 \nL 98.616701 107.047221 \nL 98.68519 106.996495 \nL 98.730849 107.08604 \nL 98.913485 106.79787 \nL 98.936315 106.842535 \nL 99.21027 107.192008 \nL 99.347247 107.091628 \nL 99.415736 107.04167 \nL 99.461395 107.12969 \nL 99.598372 107.030072 \nL 99.73535 107.111805 \nL 99.849497 107.059344 \nL 99.963645 107.097064 \nL 100.123452 106.952451 \nL 100.169111 107.039178 \nL 100.21477 106.946915 \nL 100.306088 106.852171 \nL 100.328918 106.895432 \nL 100.351748 106.938646 \nL 100.397407 106.846856 \nL 100.420236 106.80103 \nL 100.465895 106.887336 \nL 100.488725 106.841562 \nL 100.625702 106.922259 \nL 100.71702 106.82842 \nL 100.73985 106.871302 \nL 100.808339 106.911445 \nL 100.831168 106.865997 \nL 100.922486 106.772694 \nL 100.945316 106.815413 \nL 101.082293 106.895385 \nL 101.150782 106.935192 \nL 101.26493 106.710045 \nL 101.356248 106.792319 \nL 101.379078 106.74747 \nL 101.607373 106.474867 \nL 101.74435 106.641176 \nL 101.76718 106.596775 \nL 101.812839 106.508108 \nL 101.881328 106.547857 \nL 102.018305 106.627019 \nL 102.063964 106.538794 \nL 102.109623 106.622335 \nL 102.29226 106.86942 \nL 102.315089 106.825423 \nL 102.566214 106.514222 \nL 102.589044 106.55558 \nL 102.634703 106.468485 \nL 102.77168 106.292807 \nL 102.79451 106.334092 \nL 102.862999 106.373278 \nL 102.885828 106.330049 \nL 102.908658 106.286856 \nL 102.954317 106.369162 \nL 103.159783 106.653683 \nL 103.182612 106.610585 \nL 103.251101 106.5653 \nL 103.273931 106.606048 \nL 103.31959 106.687423 \nL 103.388078 106.642159 \nL 103.547885 106.509285 \nL 103.753351 106.706843 \nL 103.981647 106.365182 \nL 104.004476 106.405415 \nL 104.187113 106.643752 \nL 104.209942 106.601564 \nL 104.369749 106.471045 \nL 104.552386 106.625826 \nL 104.643704 106.539982 \nL 104.666534 106.579594 \nL 104.689363 106.61917 \nL 104.735022 106.535708 \nL 104.757852 106.575247 \nL 104.82634 106.53145 \nL 104.84917 106.57092 \nL 104.872 106.610354 \nL 104.917659 106.527207 \nL 104.940488 106.566604 \nL 105.123125 106.396783 \nL 105.191613 106.514569 \nL 105.260102 106.471229 \nL 105.282932 106.430024 \nL 105.328591 106.508302 \nL 105.465568 106.582144 \nL 105.671034 106.373163 \nL 105.762352 106.448881 \nL 105.785182 106.408091 \nL 105.922159 106.322836 \nL 105.990648 106.35962 \nL 106.013477 106.319056 \nL 106.036307 106.278529 \nL 106.081966 106.355783 \nL 106.173284 106.430923 \nL 106.196114 106.390469 \nL 106.218943 106.350052 \nL 106.264602 106.426969 \nL 106.287432 106.465378 \nL 106.333091 106.38466 \nL 106.447239 106.340568 \nL 106.561387 106.453407 \nL 106.584216 106.413248 \nL 106.652705 106.371217 \nL 106.675534 106.409363 \nL 106.766853 106.483541 \nL 106.789682 106.443529 \nL 106.881 106.439602 \nL 106.90383 106.477548 \nL 106.949489 106.397776 \nL 107.063637 106.354184 \nL 107.154955 106.427905 \nL 107.177785 106.388219 \nL 107.474569 106.02943 \nL 107.543058 106.142406 \nL 107.588717 106.063901 \nL 107.748524 105.943403 \nL 107.817012 106.055905 \nL 107.862671 105.977884 \nL 107.976819 105.935953 \nL 108.113796 106.007582 \nL 108.250774 105.851224 \nL 108.273603 105.888445 \nL 108.387751 105.9227 \nL 108.570388 105.690629 \nL 108.593217 105.727692 \nL 108.684535 105.800377 \nL 108.707365 105.76209 \nL 108.867172 105.644998 \nL 108.95849 105.642579 \nL 109.163956 105.450699 \nL 109.255274 105.448617 \nL 109.323763 105.409883 \nL 109.346592 105.446546 \nL 109.392252 105.519789 \nL 109.437911 105.444485 \nL 109.529229 105.44243 \nL 109.552058 105.478941 \nL 109.597718 105.403895 \nL 109.689036 105.32804 \nL 109.711865 105.364498 \nL 109.826013 105.472632 \nL 109.848843 105.43528 \nL 110.031479 105.211011 \nL 110.054309 105.24729 \nL 110.191286 105.317925 \nL 110.282604 105.316106 \nL 110.48807 105.494039 \nL 110.5109 105.457129 \nL 110.556559 105.52882 \nL 110.670707 105.634972 \nL 110.693536 105.598125 \nL 111.01315 105.229648 \nL 111.104468 105.299998 \nL 111.127298 105.263572 \nL 111.309934 105.116703 \nL 111.355593 105.187654 \nL 111.401252 105.115247 \nL 111.424082 105.079089 \nL 111.469741 105.149928 \nL 111.629548 105.254293 \nL 111.812184 105.108755 \nL 111.926332 105.213403 \nL 111.949162 105.177539 \nL 112.154628 104.926732 \nL 112.177457 104.96177 \nL 112.200287 104.996783 \nL 112.245946 104.925601 \nL 112.360094 104.818561 \nL 112.382923 104.853521 \nL 112.451412 104.887913 \nL 112.474242 104.852512 \nL 112.56556 104.781335 \nL 112.588389 104.816185 \nL 112.748196 104.919445 \nL 112.885174 104.848006 \nL 113.09064 105.019604 \nL 113.181958 105.018348 \nL 113.204787 105.052729 \nL 113.250446 104.982736 \nL 113.273276 104.947781 \nL 113.318935 105.016466 \nL 113.478742 105.186954 \nL 113.501572 105.152052 \nL 113.59289 105.081665 \nL 113.615719 105.115783 \nL 113.752697 105.182433 \nL 113.935333 105.042378 \nL 114.140799 105.210243 \nL 114.437583 104.899505 \nL 114.483242 104.96688 \nL 114.528902 104.898464 \nL 114.551731 104.864293 \nL 114.59739 104.931563 \nL 114.711538 104.964021 \nL 114.734368 104.929928 \nL 114.780027 104.996946 \nL 114.871345 105.063212 \nL 114.894174 105.029172 \nL 115.031152 104.960046 \nL 115.053981 104.993387 \nL 115.09964 104.925601 \nL 115.190959 104.924529 \nL 115.305106 104.956676 \nL 115.442084 104.888181 \nL 115.601891 104.986379 \nL 115.761698 104.884659 \nL 115.875845 104.98292 \nL 115.898675 104.949474 \nL 116.104141 104.781782 \nL 116.263948 104.945111 \nL 116.286777 104.911896 \nL 116.355266 104.878208 \nL 116.378096 104.91086 \nL 116.492243 104.942414 \nL 116.515073 104.90932 \nL 116.560732 104.974409 \nL 116.766198 105.135345 \nL 116.903175 105.068075 \nL 117.017323 105.164186 \nL 117.040153 105.131292 \nL 117.131471 105.064952 \nL 117.1543 105.097126 \nL 117.336937 105.224112 \nL 117.405426 105.125945 \nL 117.473914 105.221904 \nL 117.610892 105.155212 \nL 117.633721 105.187107 \nL 117.70221 105.28265 \nL 117.747869 105.217519 \nL 117.884846 105.151127 \nL 117.907676 105.18288 \nL 117.930505 105.214617 \nL 117.976164 105.149771 \nL 118.18163 104.923041 \nL 118.20446 104.954731 \nL 118.295778 105.01747 \nL 118.318608 104.985291 \nL 118.455585 104.920003 \nL 118.478415 104.951556 \nL 118.615392 105.076928 \nL 118.638222 105.044891 \nL 118.683881 104.980891 \nL 118.752369 105.075083 \nL 118.866517 105.168386 \nL 118.889347 105.136444 \nL 119.094813 104.913 \nL 119.140472 104.97546 \nL 119.186131 105.037831 \nL 119.23179 104.974382 \nL 119.460086 104.846419 \nL 119.665552 105.000531 \nL 119.939506 104.748515 \nL 119.962336 104.779406 \nL 120.190631 104.901319 \nL 120.350438 104.99233 \nL 120.373268 104.961176 \nL 120.555904 104.83592 \nL 120.578734 104.86649 \nL 120.624393 104.927568 \nL 120.692882 104.834632 \nL 120.875518 104.771631 \nL 121.012495 104.831651 \nL 121.035325 104.800866 \nL 121.28645 104.64638 \nL 121.491916 104.736145 \nL 121.628893 104.735083 \nL 121.7887 104.764071 \nL 121.857189 104.672928 \nL 121.925678 104.762956 \nL 122.382269 105.238616 \nL 122.633394 105.085581 \nL 122.884519 105.231056 \nL 123.089985 105.139057 \nL 123.226962 105.137211 \nL 123.36394 105.076313 \nL 123.386769 105.105542 \nL 123.478087 105.163313 \nL 123.523747 105.103766 \nL 123.84336 104.865081 \nL 124.140145 105.066671 \nL 124.436929 104.859551 \nL 124.551077 104.887524 \nL 124.573906 104.858289 \nL 124.779372 104.711768 \nL 124.802202 104.740524 \nL 124.939179 104.739504 \nL 125.098986 104.709518 \nL 125.235963 104.766042 \nL 125.258793 104.737133 \nL 125.4186 104.707294 \nL 125.783873 104.989933 \nL 125.943679 104.959741 \nL 126.080657 105.015104 \nL 126.103486 104.986463 \nL 126.126316 104.957838 \nL 126.194805 105.042178 \nL 126.377441 105.096626 \nL 126.468759 104.982536 \nL 126.537248 105.06645 \nL 126.697055 105.09271 \nL 126.993839 104.836782 \nL 127.016669 104.864613 \nL 127.176475 104.891146 \nL 127.290623 104.862164 \nL 127.313453 104.889874 \nL 127.47326 104.916244 \nL 127.678726 104.830957 \nL 127.907021 104.995143 \nL 127.929851 104.967222 \nL 128.066828 104.910571 \nL 128.089658 104.937971 \nL 128.295124 105.018563 \nL 128.47776 104.961639 \nL 128.683226 105.041737 \nL 128.934351 104.902449 \nL 129.00284 104.929092 \nL 129.048499 104.874139 \nL 129.208306 104.84553 \nL 129.299624 104.953417 \nL 129.368113 104.871322 \nL 129.52792 104.842844 \nL 129.642067 104.923004 \nL 129.687727 104.86853 \nL 129.870363 104.813031 \nL 130.121488 105.052834 \nL 130.167147 104.998628 \nL 130.372613 104.916175 \nL 130.53242 104.994854 \nL 130.55525 104.967911 \nL 130.737886 104.912811 \nL 130.852034 104.938371 \nL 130.874863 104.911554 \nL 131.171648 104.723396 \nL 131.308625 104.828276 \nL 131.354284 104.775048 \nL 131.468432 104.800608 \nL 131.58258 104.931505 \nL 131.651068 104.851881 \nL 131.788046 104.79819 \nL 131.810875 104.824291 \nL 131.993512 104.927699 \nL 132.016341 104.901282 \nL 132.107659 104.900472 \nL 132.130489 104.926437 \nL 132.221807 104.925601 \nL 132.244637 104.899263 \nL 132.427273 104.84553 \nL 132.541421 104.818582 \nL 132.815376 104.660868 \nL 132.975183 104.685845 \nL 133.134989 104.607408 \nL 133.157819 104.633116 \nL 133.271967 104.60673 \nL 133.477433 104.528572 \nL 133.568751 104.579582 \nL 133.61441 104.528031 \nL 133.751387 104.527495 \nL 133.774217 104.553023 \nL 133.842706 104.475949 \nL 133.865535 104.450289 \nL 133.934024 104.526785 \nL 134.093831 104.551672 \nL 134.230808 104.551099 \nL 134.253638 104.576465 \nL 134.322126 104.499837 \nL 134.344956 104.474324 \nL 134.413445 104.550337 \nL 134.459104 104.600937 \nL 134.527592 104.524488 \nL 134.618911 104.422757 \nL 134.687399 104.498554 \nL 134.984183 104.674121 \nL 135.098331 104.648277 \nL 135.121161 104.673343 \nL 135.14399 104.698388 \nL 135.212479 104.622512 \nL 135.417945 104.496015 \nL 135.440775 104.521023 \nL 135.623411 104.570398 \nL 135.806047 104.519662 \nL 135.920195 104.494301 \nL 136.080002 104.468873 \nL 136.239809 104.493218 \nL 136.513764 104.343774 \nL 136.650741 104.392991 \nL 136.673571 104.368235 \nL 136.924696 104.24463 \nL 136.947525 104.269249 \nL 137.016014 104.195397 \nL 137.175821 104.121786 \nL 137.19865 104.146358 \nL 137.289969 104.195481 \nL 137.335628 104.146484 \nL 137.541094 104.073326 \nL 137.678071 104.073568 \nL 137.837878 104.000778 \nL 137.860707 104.025192 \nL 138.066173 104.09855 \nL 138.317299 103.977825 \nL 138.385787 104.050615 \nL 138.454276 103.978225 \nL 138.659742 103.906465 \nL 138.682571 103.930658 \nL 138.75106 103.858625 \nL 139.002185 103.691564 \nL 139.025015 103.715726 \nL 139.116333 103.764249 \nL 139.161992 103.716546 \nL 139.298969 103.669494 \nL 139.321799 103.693572 \nL 139.344629 103.717639 \nL 139.413117 103.646342 \nL 139.435947 103.622601 \nL 139.504436 103.694718 \nL 139.732731 103.791386 \nL 139.869708 103.79208 \nL 140.166493 103.959404 \nL 140.30347 103.912521 \nL 140.3263 103.936252 \nL 140.417618 103.983797 \nL 140.463277 103.936704 \nL 140.645913 103.79596 \nL 140.691572 103.843274 \nL 140.82855 103.890893 \nL 140.851379 103.867478 \nL 141.056845 103.797989 \nL 141.285141 103.892639 \nL 141.422118 103.84647 \nL 141.444948 103.869907 \nL 141.581925 103.963673 \nL 141.627584 103.917231 \nL 141.810221 103.824906 \nL 141.83305 103.848237 \nL 141.924368 103.848636 \nL 141.947198 103.825526 \nL 142.289641 103.619058 \nL 142.449448 103.689366 \nL 142.472278 103.666445 \nL 142.86038 103.370374 \nL 142.88321 103.393558 \nL 142.928869 103.439873 \nL 142.997358 103.371699 \nL 143.134335 103.373024 \nL 143.271312 103.420054 \nL 143.294142 103.397406 \nL 143.476778 103.353509 \nL 143.590926 103.33185 \nL 143.682244 103.37827 \nL 143.842051 103.402495 \nL 143.933369 103.448705 \nL 144.024688 103.404178 \nL 144.230154 103.338222 \nL 144.38996 103.362373 \nL 144.595426 103.296795 \nL 144.755233 103.320915 \nL 144.91504 103.300086 \nL 145.052018 103.301485 \nL 145.280313 103.214427 \nL 145.44012 103.238515 \nL 145.577097 103.239997 \nL 145.805393 103.331335 \nL 145.9652 103.310727 \nL 146.079348 103.289709 \nL 146.44462 103.072831 \nL 146.604427 103.096856 \nL 146.718575 103.120251 \nL 146.832723 103.099653 \nL 146.9697 103.101325 \nL 147.129507 103.125161 \nL 147.312144 103.083629 \nL 147.49478 103.129493 \nL 147.677416 103.088119 \nL 147.882882 103.155778 \nL 148.111178 103.071727 \nL 148.248155 103.07342 \nL 148.476451 102.989905 \nL 148.681917 103.057207 \nL 149.001531 102.889494 \nL 149.138508 102.891429 \nL 149.275485 102.893363 \nL 149.480951 102.960308 \nL 149.617929 102.962137 \nL 149.846224 103.050236 \nL 150.143008 102.905476 \nL 150.234327 102.864376 \nL 150.325645 102.907999 \nL 150.57677 103.01699 \nL 150.850725 102.894162 \nL 150.964872 102.874722 \nL 151.07902 102.897317 \nL 151.215998 102.899199 \nL 151.444293 102.81867 \nL 151.558441 102.799439 \nL 151.718248 102.780934 \nL 151.878055 102.804139 \nL 152.060691 102.765237 \nL 152.152009 102.725083 \nL 152.494453 102.544143 \nL 152.63143 102.546498 \nL 152.768407 102.548843 \nL 152.882555 102.53019 \nL 153.019532 102.532556 \nL 153.13368 102.513967 \nL 153.384805 102.415816 \nL 153.498953 102.397437 \nL 153.795737 102.259995 \nL 154.001203 102.325194 \nL 154.252328 102.228389 \nL 154.434965 102.272622 \nL 154.617601 102.235707 \nL 154.777408 102.259101 \nL 154.960045 102.222333 \nL 155.21117 102.327991 \nL 155.393806 102.291254 \nL 155.530784 102.293882 \nL 155.71342 102.257335 \nL 155.987375 102.382496 \nL 156.078693 102.42407 \nL 156.261329 102.467157 \nL 156.421136 102.45003 \nL 156.535284 102.432166 \nL 156.695091 102.415143 \nL 156.854898 102.43778 \nL 157.014705 102.42081 \nL 157.174512 102.443364 \nL 157.379978 102.387838 \nL 157.585444 102.450492 \nL 157.813739 102.375957 \nL 158.019205 102.43838 \nL 158.179012 102.421599 \nL 158.29316 102.404061 \nL 158.544285 102.311073 \nL 158.704092 102.333469 \nL 158.81824 102.354981 \nL 158.978046 102.37725 \nL 159.252001 102.26602 \nL 159.434638 102.308066 \nL 159.799911 102.12229 \nL 159.914058 102.105351 \nL 160.142354 102.033223 \nL 160.302161 102.055703 \nL 160.507627 102.002574 \nL 160.804411 102.142235 \nL 161.032707 102.070633 \nL 161.169684 102.073409 \nL 161.329491 102.057679 \nL 161.466468 102.060466 \nL 161.763252 101.934242 \nL 161.968718 101.995204 \nL 162.151355 101.961358 \nL 162.288332 101.96425 \nL 162.470969 101.930552 \nL 162.585116 101.914244 \nL 162.790582 101.862514 \nL 162.950389 101.884688 \nL 163.110196 101.869495 \nL 163.247173 101.872471 \nL 163.40698 101.85733 \nL 163.566787 101.879389 \nL 163.772253 101.828195 \nL 164.000549 101.90722 \nL 164.183185 101.874153 \nL 164.365822 101.914959 \nL 164.502799 101.91785 \nL 164.639776 101.920731 \nL 164.845242 101.869958 \nL 165.073538 101.948131 \nL 165.187686 101.968781 \nL 165.301833 101.952831 \nL 165.507299 101.90231 \nL 165.667106 101.923886 \nL 165.826913 101.909008 \nL 165.98672 101.93051 \nL 166.146527 101.915663 \nL 166.374823 101.992817 \nL 166.580289 101.942706 \nL 166.808584 102.019513 \nL 166.922732 102.039774 \nL 167.151027 102.116149 \nL 167.310834 102.101187 \nL 167.447812 102.103774 \nL 167.53913 102.141331 \nL 167.653278 102.125539 \nL 167.904403 102.040899 \nL 168.018551 102.025264 \nL 168.109869 102.062695 \nL 168.338164 102.138219 \nL 168.56646 102.07138 \nL 168.771926 102.12844 \nL 168.863244 102.165545 \nL 169.114369 102.22309 \nL 169.365494 102.139312 \nL 169.57096 102.160646 \nL 169.776426 102.111639 \nL 170.050381 102.186774 \nL 170.164529 102.206299 \nL 170.438483 102.28096 \nL 170.666779 102.215057 \nL 170.849415 102.218222 \nL 170.986393 102.220587 \nL 171.283177 102.312408 \nL 171.397325 102.331607 \nL 171.534302 102.299224 \nL 171.671279 102.301484 \nL 171.945234 102.374958 \nL 172.287677 102.225613 \nL 172.515973 102.263812 \nL 172.67578 102.28361 \nL 172.858416 102.286617 \nL 173.086712 102.25621 \nL 173.292178 102.27667 \nL 173.474814 102.279667 \nL 173.817258 102.404072 \nL 173.931405 102.456675 \nL 174.20536 102.528403 \nL 174.342337 102.564141 \nL 174.524974 102.566675 \nL 174.753269 102.536152 \nL 174.981565 102.572973 \nL 175.141372 102.591951 \nL 175.552304 102.764774 \nL 175.73494 102.766982 \nL 176.054554 102.870768 \nL 176.328509 102.807336 \nL 176.533975 102.826324 \nL 176.716611 102.828417 \nL 176.944907 102.864092 \nL 177.104714 102.882386 \nL 177.28735 102.884384 \nL 177.652623 102.756846 \nL 177.766771 102.708943 \nL 177.926578 102.727312 \nL 178.086385 102.712865 \nL 178.291851 102.699028 \nL 178.542976 102.751084 \nL 178.679953 102.785319 \nL 178.931078 102.837049 \nL 179.136544 102.823097 \nL 179.36484 102.858088 \nL 179.593135 102.828217 \nL 179.775772 102.830257 \nL 179.935579 102.848184 \nL 180.095386 102.833811 \nL 180.278022 102.83584 \nL 180.574806 102.919397 \nL 180.803102 102.889704 \nL 180.962909 102.875394 \nL 181.214034 102.830141 \nL 181.533648 102.92927 \nL 181.670625 102.962505 \nL 182.035898 103.093092 \nL 182.172875 103.126023 \nL 182.355512 103.127589 \nL 182.606637 103.082347 \nL 182.857762 103.13189 \nL 183.017569 103.148997 \nL 183.200205 103.150532 \nL 183.45133 103.105531 \nL 183.725285 103.170561 \nL 183.99924 103.110272 \nL 184.250365 103.159227 \nL 184.455831 103.145338 \nL 184.706956 103.194061 \nL 184.935251 103.164831 \nL 185.232036 103.244645 \nL 185.369013 103.276598 \nL 185.52882 103.262309 \nL 185.734286 103.248398 \nL 185.985411 103.296438 \nL 186.122388 103.328159 \nL 186.327854 103.344909 \nL 186.55615 103.315774 \nL 186.830104 103.378838 \nL 187.03557 103.364875 \nL 187.263866 103.396839 \nL 187.537821 103.337696 \nL 187.834605 103.415565 \nL 188.131389 103.341639 \nL 188.336855 103.358115 \nL 188.473832 103.389205 \nL 188.656469 103.390341 \nL 189.11306 103.212776 \nL 189.272867 103.19896 \nL 189.478333 103.185523 \nL 189.660969 103.186932 \nL 189.843606 103.18833 \nL 190.049072 103.204838 \nL 190.300197 103.162013 \nL 190.460004 103.148387 \nL 190.66547 103.135149 \nL 190.848106 103.136611 \nL 191.007913 103.152708 \nL 191.16772 103.139155 \nL 191.510163 103.038481 \nL 191.66997 103.025118 \nL 191.806948 103.055788 \nL 192.103732 103.131837 \nL 192.263539 103.147798 \nL 192.400516 103.119515 \nL 192.628812 103.092051 \nL 192.788618 103.07873 \nL 193.039744 103.036988 \nL 193.22238 103.038555 \nL 193.656142 102.882313 \nL 193.838778 102.884079 \nL 194.135562 102.814475 \nL 194.295369 102.801626 \nL 194.478006 102.803477 \nL 194.660642 102.805338 \nL 194.957426 102.736312 \nL 195.185722 102.767497 \nL 195.391188 102.755269 \nL 195.687972 102.830004 \nL 195.893438 102.817724 \nL 196.053245 102.805023 \nL 196.190222 102.834957 \nL 196.487006 102.909114 \nL 196.715302 102.882775 \nL 196.920768 102.898915 \nL 197.217552 102.830803 \nL 197.491507 102.890072 \nL 197.765462 102.836134 \nL 198.130734 102.952359 \nL 198.313371 102.953968 \nL 198.564496 102.998317 \nL 198.724303 103.013699 \nL 198.975428 103.057817 \nL 199.135235 103.073094 \nL 199.317871 103.074545 \nL 199.523337 103.062222 \nL 199.683144 103.049574 \nL 199.979929 102.982451 \nL 200.208224 103.012164 \nL 200.505008 102.945356 \nL 200.733304 102.975017 \nL 200.961599 102.949341 \nL 201.144236 102.950939 \nL 201.304043 102.966101 \nL 201.509509 102.98162 \nL 201.714975 102.969623 \nL 201.874782 102.957258 \nL 202.034589 102.972336 \nL 202.262884 103.00165 \nL 202.742305 102.828227 \nL 202.947771 102.843789 \nL 203.176066 102.818702 \nL 203.51851 102.916957 \nL 203.769635 102.878507 \nL 203.99793 102.907621 \nL 204.180567 102.909229 \nL 204.454521 102.965586 \nL 204.659987 102.953841 \nL 204.842624 102.955387 \nL 205.002431 102.97017 \nL 205.185067 102.971695 \nL 205.367704 102.973219 \nL 205.57317 102.988307 \nL 205.824295 102.950266 \nL 206.029761 102.965344 \nL 206.440693 102.83564 \nL 206.623329 102.837301 \nL 206.942943 102.76061 \nL 207.148409 102.775835 \nL 207.331045 102.77757 \nL 207.559341 102.806158 \nL 207.696318 102.833832 \nL 207.856125 102.822098 \nL 208.084421 102.797841 \nL 208.312716 102.826261 \nL 208.518182 102.815001 \nL 208.677989 102.80334 \nL 208.883455 102.792132 \nL 209.043262 102.780535 \nL 209.385705 102.692331 \nL 209.614001 102.720667 \nL 209.728149 102.760852 \nL 209.956444 102.78903 \nL 210.116251 102.803498 \nL 210.367376 102.844714 \nL 210.527183 102.859087 \nL 210.732649 102.873828 \nL 211.006604 102.824516 \nL 211.21207 102.839257 \nL 211.440365 102.815505 \nL 211.623002 102.817135 \nL 211.874127 102.78084 \nL 212.148082 102.834662 \nL 212.353548 102.823664 \nL 212.536184 102.825283 \nL 212.673161 102.852063 \nL 212.855798 102.853651 \nL 213.129753 102.805023 \nL 213.26673 102.755311 \nL 213.495025 102.73198 \nL 213.860298 102.811541 \nL 214.157083 102.750843 \nL 214.408208 102.765804 \nL 214.682162 102.743062 \nL 214.887628 102.732348 \nL 215.184413 102.697357 \nL 215.458367 102.725083 \nL 215.777981 102.677916 \nL 216.006277 102.680103 \nL 216.234572 102.682279 \nL 216.8738 102.912499 \nL 217.239073 102.840908 \nL 217.490198 102.855438 \nL 217.832641 102.796422 \nL 218.015277 102.77329 \nL 218.334891 102.726754 \nL 218.608846 102.753902 \nL 219.042607 102.647193 \nL 219.293733 102.661871 \nL 219.681835 102.57987 \nL 220.024278 102.644344 \nL 220.275404 102.634544 \nL 220.686336 102.735807 \nL 220.937461 102.725913 \nL 221.120097 102.703287 \nL 221.416881 102.669651 \nL 221.645177 102.671786 \nL 221.827813 102.69764 \nL 222.124598 102.736533 \nL 222.398552 102.714884 \nL 222.695336 102.753608 \nL 222.923632 102.755606 \nL 223.357394 102.86713 \nL 223.631348 102.845418 \nL 223.905303 102.871525 \nL 224.156428 102.86161 \nL 224.54453 102.947943 \nL 224.818485 102.926262 \nL 225.09244 102.952043 \nL 225.343565 102.942086 \nL 225.59469 102.955776 \nL 225.754497 102.992376 \nL 226.028452 103.017915 \nL 226.370895 102.961517 \nL 226.530702 102.92743 \nL 226.873145 102.871378 \nL 227.12427 102.885057 \nL 227.443884 102.840782 \nL 227.763498 102.889999 \nL 228.037452 102.868813 \nL 228.357066 102.917809 \nL 228.585362 102.919523 \nL 228.882146 102.956522 \nL 229.110442 102.958184 \nL 229.270248 102.924643 \nL 229.498544 102.926336 \nL 229.68118 102.904614 \nL 230.000794 102.860948 \nL 230.20626 102.851043 \nL 230.594363 102.773722 \nL 230.959636 102.84545 \nL 231.279249 102.802215 \nL 231.461886 102.78084 \nL 231.804329 102.726628 \nL 232.146772 102.786412 \nL 232.352238 102.799439 \nL 232.603364 102.812793 \nL 232.945807 102.758875 \nL 233.242591 102.795234 \nL 233.493716 102.78595 \nL 233.676353 102.764848 \nL 233.973137 102.733484 \nL 234.406898 102.838184 \nL 234.635194 102.839951 \nL 234.909149 102.86446 \nL 235.091785 102.888211 \nL 235.34291 102.901249 \nL 235.479888 102.946923 \nL 235.753842 102.971148 \nL 236.004967 102.961748 \nL 236.324581 103.008431 \nL 236.621365 102.97712 \nL 236.940979 103.023614 \nL 237.260593 102.981483 \nL 237.534548 103.005424 \nL 237.876991 102.952601 \nL 238.128116 102.965344 \nL 238.379241 102.95607 \nL 238.767344 103.035516 \nL 239.018469 103.026179 \nL 239.292423 103.049837 \nL 239.543549 103.04051 \nL 239.749015 103.030911 \nL 240.137117 102.957206 \nL 240.365413 102.958762 \nL 240.525219 102.992439 \nL 240.776345 103.004941 \nL 241.00464 103.006434 \nL 241.255765 103.018893 \nL 241.552549 102.988402 \nL 241.963481 103.077342 \nL 242.100459 103.12127 \nL 242.260266 103.089917 \nL 242.465732 103.101914 \nL 242.922323 103.211882 \nL 243.310425 103.13904 \nL 243.493062 103.118705 \nL 243.721357 103.12004 \nL 244.018141 103.153749 \nL 244.246437 103.155042 \nL 244.680199 103.253109 \nL 244.885665 103.264769 \nL 245.11396 103.265915 \nL 245.456403 103.214721 \nL 245.798847 103.269343 \nL 246.004313 103.280919 \nL 246.278267 103.303335 \nL 246.575052 103.273201 \nL 246.757688 103.253077 \nL 247.077302 103.212723 \nL 247.305597 103.213912 \nL 247.579552 103.194418 \nL 247.807848 103.195638 \nL 248.081802 103.176218 \nL 248.332927 103.187994 \nL 248.561223 103.189214 \nL 248.789519 103.190433 \nL 249.177621 103.11984 \nL 249.337428 103.089633 \nL 249.702701 103.029649 \nL 250.067974 103.09387 \nL 250.456076 103.023929 \nL 250.707201 103.035758 \nL 250.912667 103.047292 \nL 251.118133 103.03825 \nL 251.369258 103.029491 \nL 251.620383 103.041267 \nL 251.894338 103.022436 \nL 252.076975 103.003101 \nL 252.419418 102.954167 \nL 252.739032 102.996981 \nL 253.012986 102.978319 \nL 253.446748 103.072432 \nL 253.720703 103.053737 \nL 254.040316 103.075859 \nL 254.268612 103.077174 \nL 254.748033 103.170719 \nL 255.067646 103.152256 \nL 255.432919 103.194418 \nL 255.752533 103.175976 \nL 255.957999 103.146957 \nL 256.323272 103.108864 \nL 256.574397 103.100252 \nL 256.985329 103.042666 \nL 257.259284 103.044264 \nL 257.510409 103.055672 \nL 257.761534 103.047176 \nL 258.309443 102.931393 \nL 258.583398 102.933128 \nL 259.176966 102.798693 \nL 259.702046 102.910638 \nL 260.067319 102.87366 \nL 260.318444 102.86549 \nL 260.569569 102.876951 \nL 260.912013 102.908546 \nL 261.185967 102.910291 \nL 261.437092 102.902122 \nL 261.665388 102.923087 \nL 261.916513 102.914918 \nL 262.167638 102.926231 \nL 262.487252 102.947648 \nL 262.715548 102.968456 \nL 262.989502 102.970107 \nL 263.491752 102.876456 \nL 263.879855 102.927198 \nL 264.290787 102.871967 \nL 264.564742 102.873733 \nL 264.815867 102.884941 \nL 265.112651 102.896423 \nL 265.477924 102.860422 \nL 265.774708 102.871904 \nL 266.117151 102.84545 \nL 266.573742 102.924622 \nL 266.893356 102.907558 \nL 267.144481 102.899609 \nL 267.464095 102.882628 \nL 267.897857 102.951612 \nL 268.331618 102.888075 \nL 268.76538 102.956764 \nL 269.153482 102.912005 \nL 269.564414 102.970864 \nL 269.906858 102.944725 \nL 270.249301 102.974849 \nL 270.477596 102.994868 \nL 270.774381 103.005897 \nL 271.093994 102.989043 \nL 271.276631 102.952811 \nL 271.527756 102.963588 \nL 271.938688 103.021711 \nL 272.166984 103.04153 \nL 272.577916 103.099327 \nL 272.988848 103.045967 \nL 273.308461 103.066155 \nL 273.513927 103.094901 \nL 273.787882 103.09632 \nL 274.016178 103.115887 \nL 274.244473 103.098654 \nL 274.449939 103.127253 \nL 274.769553 103.147188 \nL 275.111996 103.121386 \nL 275.385951 103.122753 \nL 275.545758 103.169236 \nL 275.979519 103.23514 \nL 276.276304 103.227349 \nL 276.550258 103.228579 \nL 277.006849 103.158007 \nL 277.257974 103.150143 \nL 277.600418 103.124624 \nL 277.874372 103.125981 \nL 278.216816 103.100578 \nL 278.445111 103.083682 \nL 278.764725 103.06729 \nL 278.993021 103.050478 \nL 279.358294 103.016454 \nL 279.792055 103.081527 \nL 280.088839 103.074082 \nL 280.317135 103.057354 \nL 280.59109 103.058774 \nL 280.887874 103.069214 \nL 281.207488 103.053022 \nL 281.549931 103.081474 \nL 281.869545 103.065314 \nL 282.166329 103.075702 \nL 282.554431 103.033371 \nL 282.896875 103.061686 \nL 283.148 103.07179 \nL 283.376295 103.055293 \nL 283.467614 103.055756 \nL 283.467614 103.055756 \n\" clip-path=\"url(#p61d241fb96)\" style=\"fill: none; stroke: #1f77b4; stroke-width: 1.5; stroke-linecap: square\"/>\n   </g>\n   <g id=\"line2d_14\">\n    <path d=\"M 55.194886 16.02 \nL 55.240545 16.02 \nL 55.354693 126.27 \nL 55.400352 121.859999 \nL 55.53733 148.32 \nL 55.582989 143.419998 \nL 55.674307 144.310908 \nL 55.719966 133.619998 \nL 55.742796 135.972001 \nL 55.765625 131.35846 \nL 55.993921 109.120002 \nL 56.01675 111.371352 \nL 56.062409 106.481538 \nL 56.085239 108.630001 \nL 56.336364 92.114113 \nL 56.450512 97.920003 \nL 56.473341 96.483156 \nL 56.610319 91.619995 \nL 56.655978 92.007688 \nL 56.792955 95.524224 \nL 56.815785 94.419995 \nL 56.884273 95.987997 \nL 56.907103 94.935793 \nL 56.975592 98.637717 \nL 57.021251 96.597782 \nL 57.04408 95.61512 \nL 57.089739 97.920003 \nL 57.135399 96.015345 \nL 57.203887 97.282923 \nL 57.226717 96.38 \nL 57.249546 95.496918 \nL 57.295205 97.581286 \nL 57.340865 95.864213 \nL 57.409353 95.220004 \nL 57.455012 97.163996 \nL 57.477842 96.360591 \nL 57.523501 98.225821 \nL 57.546331 97.43538 \nL 57.660478 100.174124 \nL 57.683308 99.409095 \nL 57.774626 98.030529 \nL 57.728967 99.494997 \nL 57.820285 98.137238 \nL 57.888774 99.03176 \nL 57.911603 98.339995 \nL 58.09424 94.573125 \nL 57.957263 98.43639 \nL 58.117069 95.331624 \nL 58.139899 96.078462 \nL 58.185558 94.865453 \nL 58.391024 92.334892 \nL 58.550831 94.68486 \nL 58.642149 93.775261 \nL 58.59649 94.811998 \nL 58.664979 94.419995 \nL 58.756297 96.916816 \nL 58.801956 95.899246 \nL 58.847615 94.906953 \nL 58.893274 96.103433 \nL 59.053081 97.994118 \nL 59.09874 97.040927 \nL 59.144399 98.137238 \nL 59.167229 97.667997 \nL 59.327036 100.343077 \nL 59.349865 99.8823 \nL 59.441184 99.975078 \nL 59.532502 98.216863 \nL 59.62382 99.24461 \nL 59.64665 98.820003 \nL 59.692309 97.983635 \nL 59.737968 98.928005 \nL 59.760798 98.51552 \nL 59.874945 99.082134 \nL 59.920604 98.28346 \nL 59.966264 99.18 \nL 59.989093 98.785873 \nL 60.057582 98.449911 \nL 60.240218 101.836218 \nL 60.263048 101.451385 \nL 60.308707 102.259995 \nL 60.354366 101.500171 \nL 60.377196 101.898946 \nL 60.422855 101.15217 \nL 60.514173 101.204616 \nL 60.582662 100.126326 \nL 60.742468 102.05115 \nL 60.765298 101.699995 \nL 60.833787 100.663552 \nL 60.902275 101.057447 \nL 60.947934 101.779682 \nL 61.016423 101.46375 \nL 61.039253 101.131289 \nL 61.084912 101.836218 \nL 61.1534 102.200148 \nL 61.17623 101.872471 \nL 61.221889 101.22453 \nL 61.267548 101.907641 \nL 61.313207 101.269068 \nL 61.336037 101.60667 \nL 61.381696 100.97735 \nL 61.427355 101.001017 \nL 61.632821 98.92177 \nL 61.746969 99.932495 \nL 61.769798 99.642144 \nL 61.792628 99.35379 \nL 61.838287 99.991228 \nL 61.861117 99.704641 \nL 61.975264 100.668325 \nL 61.998094 100.385218 \nL 62.066583 99.547148 \nL 62.157901 99.608236 \nL 62.18073 99.910552 \nL 62.22639 99.367575 \nL 62.317708 98.302428 \nL 62.363367 98.899995 \nL 62.500344 99.548977 \nL 62.591662 99.063692 \nL 62.546003 99.577891 \nL 62.614492 99.350058 \nL 62.751469 99.9694 \nL 63.071083 97.592253 \nL 63.20806 98.7075 \nL 63.23089 98.473253 \nL 63.322208 98.043525 \nL 63.276549 98.505637 \nL 63.367867 98.077938 \nL 63.436356 98.859778 \nL 63.504845 98.662194 \nL 63.596163 98.722441 \nL 63.687481 97.835552 \nL 63.710311 98.088452 \nL 63.75597 97.65191 \nL 63.847288 97.256837 \nL 63.801629 97.686671 \nL 63.892947 97.293301 \nL 64.029924 97.855056 \nL 64.052754 97.644677 \nL 64.121243 97.920003 \nL 64.144072 97.7116 \nL 64.212561 97.538178 \nL 64.28105 98.251581 \nL 64.303879 98.045995 \nL 64.349538 98.51552 \nL 64.372368 98.748537 \nL 64.418027 98.339995 \nL 64.440856 98.137238 \nL 64.486516 98.599413 \nL 64.577834 99.510295 \nL 64.623493 99.106958 \nL 64.828959 98.173186 \nL 65.034425 99.319998 \nL 65.080084 98.936133 \nL 65.125743 99.364957 \nL 65.148573 99.174238 \nL 65.217061 99.409095 \nL 65.239891 99.219997 \nL 65.28555 99.242571 \nL 65.445357 98.339995 \nL 65.582334 98.80421 \nL 65.696482 98.28898 \nL 65.627993 98.827857 \nL 65.742141 98.314603 \nL 65.947607 99.361529 \nL 66.107414 98.511861 \nL 66.130244 98.7075 \nL 66.221562 99.48198 \nL 66.267221 99.138522 \nL 66.29005 98.967844 \nL 66.33571 99.350058 \nL 66.381369 99.010637 \nL 66.427028 99.389571 \nL 66.495516 99.240972 \nL 66.564005 98.740641 \nL 66.609664 99.114612 \nL 66.655323 99.485608 \nL 66.723812 99.339365 \nL 66.769471 99.011341 \nL 66.81513 99.377647 \nL 66.83796 99.214519 \nL 67.043426 100.149226 \nL 67.203233 99.03176 \nL 67.294551 99.070852 \nL 67.36304 99.264945 \nL 67.385869 99.109344 \nL 67.477187 98.820003 \nL 67.431528 99.128375 \nL 67.522846 98.839959 \nL 67.614165 99.203121 \nL 67.636994 99.05077 \nL 67.682653 98.747738 \nL 67.728312 99.088369 \nL 67.819631 99.443824 \nL 67.84246 99.293512 \nL 67.888119 98.994508 \nL 67.956608 99.18 \nL 68.093585 99.545087 \nL 68.162074 99.104708 \nL 68.207733 99.431554 \nL 68.230563 99.594125 \nL 68.276222 99.302923 \nL 68.299051 99.464874 \nL 68.36754 99.03176 \nL 68.436029 99.210365 \nL 68.458858 99.370519 \nL 68.504517 99.085067 \nL 68.595836 98.519999 \nL 68.664324 98.698174 \nL 68.778472 99.188454 \nL 68.801302 99.04915 \nL 68.824131 98.910299 \nL 68.86979 99.222005 \nL 68.938279 99.685673 \nL 68.983938 99.409095 \nL 69.029597 99.134337 \nL 69.075256 99.440691 \nL 69.189404 99.910552 \nL 69.212234 99.774151 \nL 69.235063 99.63818 \nL 69.303552 99.802876 \nL 69.463359 100.274955 \nL 69.486188 100.140573 \nL 69.531847 100.433994 \nL 69.691654 101.169056 \nL 69.714484 101.035389 \nL 69.782972 100.636877 \nL 69.851461 100.790764 \nL 69.988438 101.366073 \nL 70.011268 101.23477 \nL 70.056927 100.973375 \nL 70.125416 101.122899 \nL 70.148245 101.262076 \nL 70.193904 101.002984 \nL 70.308052 100.62814 \nL 70.239564 101.01273 \nL 70.330882 100.766381 \nL 70.39937 100.649683 \nL 70.490689 101.196751 \nL 70.536348 100.943631 \nL 70.604836 101.088643 \nL 70.673325 101.232373 \nL 70.696155 101.107054 \nL 70.741814 100.85754 \nL 70.787473 101.125264 \nL 70.855962 101.523934 \nL 70.901621 101.275734 \nL 71.084257 100.80336 \nL 71.107087 100.934609 \nL 71.152746 100.692003 \nL 71.266894 100.3417 \nL 71.198405 100.702055 \nL 71.312553 100.352677 \nL 71.335382 100.482717 \nL 71.381041 100.24479 \nL 71.4267 100.008198 \nL 71.518019 100.031729 \nL 71.540848 100.160581 \nL 71.586507 99.926534 \nL 71.677826 99.706302 \nL 71.632166 99.938446 \nL 71.700655 99.834366 \nL 71.814803 100.469385 \nL 71.860462 100.238334 \nL 71.906121 100.249195 \nL 72.180076 99.129258 \nL 72.317053 99.404816 \nL 72.385542 99.540955 \nL 72.45403 99.209955 \nL 72.522519 99.577891 \nL 72.568178 99.358585 \nL 72.591008 99.249363 \nL 72.659496 99.383966 \nL 72.705156 99.626246 \nL 72.773644 99.529726 \nL 72.796474 99.421555 \nL 72.864962 99.55394 \nL 72.910622 99.792971 \nL 72.956281 99.577891 \nL 73.00194 99.363916 \nL 73.093258 99.388666 \nL 73.161747 99.295131 \nL 73.207406 99.530882 \nL 73.275894 99.21496 \nL 73.321554 99.449439 \nL 73.50419 100.155986 \nL 73.52702 100.051349 \nL 73.732486 99.555054 \nL 73.960781 100.254747 \nL 74.143418 99.868379 \nL 74.303224 100.220481 \nL 74.55435 99.129542 \nL 74.622838 99.250982 \nL 74.736986 99.382894 \nL 74.988111 98.732902 \nL 75.0566 98.85307 \nL 75.079429 98.758074 \nL 75.170748 98.380275 \nL 75.216407 98.594482 \nL 75.353384 98.83222 \nL 75.421873 98.552131 \nL 75.490361 98.670332 \nL 75.55885 98.590213 \nL 75.604509 98.799889 \nL 75.627339 98.7075 \nL 75.672998 98.916219 \nL 75.764316 99.135304 \nL 75.787146 99.043252 \nL 75.946952 98.598457 \nL 75.969782 98.701444 \nL 76.129589 99.03176 \nL 76.357884 98.517413 \nL 76.494862 98.742912 \nL 76.517691 98.654435 \nL 76.60901 98.678144 \nL 76.791646 99.097505 \nL 76.882964 98.748075 \nL 76.928623 98.94466 \nL 77.11126 99.355694 \nL 77.134089 99.269067 \nL 77.179748 99.462319 \nL 77.202578 99.37586 \nL 77.225408 99.472171 \nL 77.271067 99.299747 \nL 77.430874 99.063692 \nL 77.453703 99.15934 \nL 77.499362 98.989324 \nL 77.522192 99.084762 \nL 77.681999 98.85286 \nL 77.704828 98.947656 \nL 77.750487 98.779964 \nL 77.864635 98.363663 \nL 77.910294 98.55253 \nL 78.184249 99.319998 \nL 78.207078 99.23744 \nL 78.252738 99.421776 \nL 78.412544 99.714692 \nL 78.481033 99.641545 \nL 78.503863 99.732325 \nL 78.61801 100.011825 \nL 78.64084 99.930119 \nL 78.686499 99.76718 \nL 78.754988 99.865498 \nL 78.823476 99.963239 \nL 78.846306 99.8823 \nL 79.006113 99.657926 \nL 79.051772 99.835302 \nL 79.097431 99.675348 \nL 79.211579 99.445643 \nL 79.234408 99.533847 \nL 79.394215 99.814157 \nL 79.417045 99.735258 \nL 79.462704 99.909469 \nL 79.576852 100.012141 \nL 79.64534 99.777095 \nL 79.713829 99.871534 \nL 79.736659 99.957551 \nL 79.782318 99.801814 \nL 79.805147 99.724166 \nL 79.850807 99.895674 \nL 79.873636 99.818153 \nL 79.987784 100.081819 \nL 80.010613 100.00456 \nL 80.033443 99.927438 \nL 80.079102 100.096991 \nL 80.147591 100.188917 \nL 80.17042 100.112058 \nL 80.444375 99.51919 \nL 80.649841 99.952262 \nL 80.672671 99.877117 \nL 80.71833 100.042517 \nL 80.741159 99.967497 \nL 80.763989 100.049971 \nL 80.809648 99.900322 \nL 80.878137 99.676841 \nL 80.946625 99.767032 \nL 81.083603 100.256829 \nL 81.129262 100.108651 \nL 81.289069 99.748317 \nL 81.311898 99.829256 \nL 81.426046 100.078433 \nL 81.448875 100.005401 \nL 81.517364 100.092785 \nL 81.585853 99.874793 \nL 81.608682 99.954712 \nL 81.654341 99.810004 \nL 81.677171 99.737834 \nL 81.72283 99.897209 \nL 81.836978 100.142265 \nL 81.859807 100.070295 \nL 81.928296 100.156176 \nL 81.996785 99.941359 \nL 82.065273 100.176878 \nL 82.110933 100.034242 \nL 82.24791 99.757938 \nL 82.270739 99.836006 \nL 82.293569 99.913938 \nL 82.339228 99.772941 \nL 82.384887 99.632418 \nL 82.453376 99.717742 \nL 82.704501 100.27075 \nL 82.818649 99.922885 \nL 82.887137 100.006158 \nL 83.115433 100.472939 \nL 83.183922 100.410221 \nL 83.206751 100.485146 \nL 83.27524 100.709194 \nL 83.320899 100.571825 \nL 83.343729 100.503304 \nL 83.389388 100.652039 \nL 83.503535 100.87963 \nL 83.526365 100.811309 \nL 83.731831 100.483306 \nL 83.891638 100.714441 \nL 83.914467 100.64716 \nL 83.960127 100.792719 \nL 84.097104 101.087403 \nL 84.119933 101.020311 \nL 84.188422 101.097265 \nL 84.256911 100.896926 \nL 84.348229 101.045356 \nL 84.371059 100.978874 \nL 84.530865 100.653595 \nL 84.553695 100.724892 \nL 84.599354 100.867171 \nL 84.645013 100.735722 \nL 84.896138 100.290968 \nL 84.964627 100.232415 \nL 85.078775 100.584274 \nL 85.192923 100.53103 \nL 85.261411 100.74018 \nL 85.30707 100.611822 \nL 85.444048 100.362076 \nL 85.466877 100.43145 \nL 85.512536 100.569891 \nL 85.558195 100.442836 \nL 85.718002 100.133002 \nL 85.740832 100.201923 \nL 85.809321 100.408076 \nL 85.877809 100.351005 \nL 85.946298 100.163325 \nL 85.991957 100.3 \nL 86.060446 100.243507 \nL 86.128934 100.447431 \nL 86.151764 100.385218 \nL 86.197423 100.520663 \nL 86.220253 100.458534 \nL 86.243082 100.526099 \nL 86.288741 100.402094 \nL 86.608355 99.800394 \nL 86.950798 100.545004 \nL 87.133435 100.314005 \nL 87.247583 100.641777 \nL 87.316071 100.586766 \nL 87.36173 100.466809 \nL 87.407389 100.597049 \nL 87.475878 100.542406 \nL 87.544367 100.736784 \nL 87.612855 100.557936 \nL 87.681344 100.627582 \nL 87.841151 100.953335 \nL 87.863981 100.894024 \nL 87.932469 100.716586 \nL 88.000958 100.785233 \nL 88.252083 101.237389 \nL 88.457549 100.953335 \nL 88.480379 101.016021 \nL 88.526038 100.899671 \nL 88.548867 100.962272 \nL 88.571697 100.904213 \nL 88.617356 101.029143 \nL 88.708674 101.157922 \nL 88.731504 101.099999 \nL 88.799992 100.926724 \nL 88.845651 101.050781 \nL 88.93697 101.178624 \nL 88.959799 101.12108 \nL 89.165265 100.84364 \nL 89.256583 100.970842 \nL 89.279413 100.91398 \nL 89.347902 100.743849 \nL 89.393561 100.866162 \nL 89.530538 100.996749 \nL 89.599027 101.061643 \nL 89.713175 100.780607 \nL 89.872981 101.086582 \nL 89.895811 101.030647 \nL 89.918641 100.974795 \nL 89.9643 101.094805 \nL 90.009959 101.214499 \nL 90.055618 101.102985 \nL 90.261084 100.834314 \nL 90.375232 101.016883 \nL 90.398061 100.961799 \nL 90.649186 100.474053 \nL 90.672016 100.533185 \nL 90.740505 100.596891 \nL 90.763334 100.542638 \nL 90.923141 100.390118 \nL 91.060118 100.62916 \nL 91.082948 100.575369 \nL 91.174266 100.360899 \nL 91.219925 100.477502 \nL 91.265584 100.593811 \nL 91.311243 100.486965 \nL 91.334073 100.433636 \nL 91.379732 100.54963 \nL 91.402562 100.607521 \nL 91.448221 100.501054 \nL 91.608028 100.351583 \nL 91.745005 100.476177 \nL 91.859153 100.323174 \nL 91.881982 100.380445 \nL 92.01896 100.504019 \nL 92.133107 100.352056 \nL 92.155937 100.408886 \nL 92.338573 100.752681 \nL 92.361403 100.700667 \nL 92.52121 100.446159 \nL 92.544039 100.502347 \nL 92.681017 100.623282 \nL 92.863653 100.427023 \nL 92.909312 100.538327 \nL 92.954971 100.436191 \nL 93.091949 100.343655 \nL 93.320244 100.789124 \nL 93.343074 100.738424 \nL 93.52571 100.545004 \nL 93.731176 100.825682 \nL 93.754006 100.775508 \nL 93.799665 100.883826 \nL 93.822495 100.833704 \nL 93.845324 100.887768 \nL 93.890983 100.787694 \nL 93.913813 100.841684 \nL 94.142108 100.551459 \nL 94.210597 100.609477 \nL 94.233427 100.560039 \nL 94.256256 100.510653 \nL 94.301915 100.617899 \nL 94.461722 100.786295 \nL 94.530211 100.638791 \nL 94.57587 100.745142 \nL 94.735677 100.911867 \nL 94.941143 100.675801 \nL 95.032461 100.784949 \nL 95.055291 100.736426 \nL 95.123779 100.792804 \nL 95.169438 100.69603 \nL 95.237927 100.852819 \nL 95.283586 100.756256 \nL 95.534711 100.4286 \nL 95.694518 100.592623 \nL 95.808666 100.45416 \nL 95.831495 100.505796 \nL 95.854325 100.557379 \nL 95.899984 100.462603 \nL 95.922814 100.415289 \nL 95.968473 100.518266 \nL 95.991302 100.569659 \nL 96.036961 100.475199 \nL 96.10545 100.530652 \nL 96.151109 100.436486 \nL 96.310916 100.695915 \nL 96.333746 100.648947 \nL 96.356575 100.602043 \nL 96.402234 100.703716 \nL 96.562041 100.863239 \nL 96.63053 100.820225 \nL 96.653359 100.87063 \nL 96.699019 100.971294 \nL 96.744678 100.87799 \nL 96.813166 100.738424 \nL 96.858825 100.838835 \nL 97.018632 100.996107 \nL 97.109951 100.907094 \nL 97.13278 100.956889 \nL 97.246928 101.109314 \nL 97.269757 101.063167 \nL 97.383905 100.928595 \nL 97.406735 100.978054 \nL 97.429564 101.02745 \nL 97.475223 100.935703 \nL 97.543712 100.893488 \nL 97.566542 100.942779 \nL 97.612201 101.041192 \nL 97.680689 100.998946 \nL 97.703519 100.953335 \nL 97.749178 101.051423 \nL 97.908985 101.298844 \nL 97.931815 101.253318 \nL 97.954644 101.207833 \nL 98.000303 101.305079 \nL 98.023133 101.259637 \nL 98.18294 101.504714 \nL 98.205769 101.459366 \nL 98.411235 101.146503 \nL 98.434065 101.194669 \nL 98.616701 101.392779 \nL 98.68519 101.4435 \nL 98.730849 101.35396 \nL 98.913485 101.642124 \nL 98.936315 101.59746 \nL 99.21027 101.247997 \nL 99.347247 101.348377 \nL 99.415736 101.39833 \nL 99.461395 101.310305 \nL 99.598372 101.409928 \nL 99.73535 101.3282 \nL 99.849497 101.380656 \nL 99.963645 101.342931 \nL 100.123452 101.487544 \nL 100.169111 101.400822 \nL 100.21477 101.493085 \nL 100.306088 101.587829 \nL 100.328918 101.544573 \nL 100.351748 101.501349 \nL 100.397407 101.593149 \nL 100.420236 101.63897 \nL 100.465895 101.552659 \nL 100.488725 101.598438 \nL 100.625702 101.517741 \nL 100.71702 101.61158 \nL 100.73985 101.568693 \nL 100.808339 101.528549 \nL 100.831168 101.574003 \nL 100.922486 101.667306 \nL 100.945316 101.624587 \nL 101.082293 101.544615 \nL 101.150782 101.504808 \nL 101.26493 101.729961 \nL 101.356248 101.647686 \nL 101.379078 101.69253 \nL 101.607373 101.965133 \nL 101.74435 101.798818 \nL 101.76718 101.84322 \nL 101.812839 101.931897 \nL 101.881328 101.892143 \nL 102.018305 101.812981 \nL 102.063964 101.901206 \nL 102.109623 101.81767 \nL 102.29226 101.570585 \nL 102.315089 101.614577 \nL 102.566214 101.925778 \nL 102.589044 101.884415 \nL 102.634703 101.971515 \nL 102.77168 102.147198 \nL 102.79451 102.105908 \nL 102.862999 102.066722 \nL 102.885828 102.109956 \nL 102.908658 102.153138 \nL 102.954317 102.070833 \nL 103.159783 101.786317 \nL 103.182612 101.829415 \nL 103.251101 101.8747 \nL 103.273931 101.833957 \nL 103.31959 101.752577 \nL 103.388078 101.797841 \nL 103.547885 101.930709 \nL 103.753351 101.733157 \nL 103.981647 102.074818 \nL 104.004476 102.03459 \nL 104.187113 101.796242 \nL 104.209942 101.838436 \nL 104.369749 101.96896 \nL 104.552386 101.81418 \nL 104.643704 101.900018 \nL 104.666534 101.860411 \nL 104.689363 101.820825 \nL 104.735022 101.904297 \nL 104.757852 101.864753 \nL 104.82634 101.908556 \nL 104.84917 101.869085 \nL 104.872 101.829646 \nL 104.917659 101.912793 \nL 104.940488 101.873396 \nL 105.123125 102.043222 \nL 105.191613 101.925431 \nL 105.260102 101.968771 \nL 105.282932 102.009976 \nL 105.328591 101.931698 \nL 105.465568 101.857856 \nL 105.671034 102.066837 \nL 105.762352 101.991124 \nL 105.785182 102.031909 \nL 105.922159 102.117169 \nL 105.990648 102.08038 \nL 106.013477 102.120944 \nL 106.036307 102.161476 \nL 106.081966 102.084217 \nL 106.173284 102.009083 \nL 106.196114 102.049531 \nL 106.218943 102.089948 \nL 106.264602 102.013025 \nL 106.287432 101.974627 \nL 106.333091 102.055345 \nL 106.447239 102.099432 \nL 106.561387 101.986593 \nL 106.584216 102.026747 \nL 106.652705 102.068783 \nL 106.675534 102.030637 \nL 106.766853 101.956459 \nL 106.789682 101.996465 \nL 106.881 102.000398 \nL 106.90383 101.962452 \nL 106.949489 102.042224 \nL 107.063637 102.085816 \nL 107.154955 102.01209 \nL 107.177785 102.051781 \nL 107.474569 102.41057 \nL 107.543058 102.297594 \nL 107.588717 102.376093 \nL 107.748524 102.496597 \nL 107.817012 102.384095 \nL 107.862671 102.46211 \nL 107.976819 102.504052 \nL 108.113796 102.432418 \nL 108.250774 102.588776 \nL 108.273603 102.551555 \nL 108.387751 102.5173 \nL 108.570388 102.749371 \nL 108.593217 102.712308 \nL 108.684535 102.639623 \nL 108.707365 102.677916 \nL 108.867172 102.795002 \nL 108.95849 102.797421 \nL 109.163956 102.989306 \nL 109.255274 102.991377 \nL 109.323763 103.030122 \nL 109.346592 102.993449 \nL 109.392252 102.920206 \nL 109.437911 102.99552 \nL 109.529229 102.99757 \nL 109.552058 102.961054 \nL 109.597718 103.036105 \nL 109.689036 103.111955 \nL 109.711865 103.075502 \nL 109.826013 102.967373 \nL 109.848843 103.00472 \nL 110.031479 103.228989 \nL 110.054309 103.192715 \nL 110.191286 103.122069 \nL 110.282604 103.123899 \nL 110.48807 102.945956 \nL 110.5109 102.982871 \nL 110.556559 102.911174 \nL 110.670707 102.805023 \nL 110.693536 102.841875 \nL 111.01315 103.210347 \nL 111.104468 103.139996 \nL 111.127298 103.176428 \nL 111.309934 103.323291 \nL 111.355593 103.252341 \nL 111.401252 103.324753 \nL 111.424082 103.360911 \nL 111.469741 103.290077 \nL 111.629548 103.185712 \nL 111.812184 103.331251 \nL 111.926332 103.226592 \nL 111.949162 103.262456 \nL 112.154628 103.513274 \nL 112.177457 103.47823 \nL 112.200287 103.443217 \nL 112.245946 103.514399 \nL 112.360094 103.621434 \nL 112.382923 103.586484 \nL 112.451412 103.552082 \nL 112.474242 103.587494 \nL 112.56556 103.658665 \nL 112.588389 103.62382 \nL 112.748196 103.52056 \nL 112.885174 103.591994 \nL 113.09064 103.420391 \nL 113.181958 103.421652 \nL 113.204787 103.387271 \nL 113.250446 103.457264 \nL 113.273276 103.492224 \nL 113.318935 103.423534 \nL 113.478742 103.253046 \nL 113.501572 103.287942 \nL 113.59289 103.358335 \nL 113.615719 103.324217 \nL 113.752697 103.257567 \nL 113.935333 103.397627 \nL 114.140799 103.229757 \nL 114.437583 103.540495 \nL 114.483242 103.47312 \nL 114.528902 103.541536 \nL 114.551731 103.575707 \nL 114.59739 103.508437 \nL 114.711538 103.475979 \nL 114.734368 103.510077 \nL 114.780027 103.443059 \nL 114.871345 103.376788 \nL 114.894174 103.410823 \nL 115.031152 103.479954 \nL 115.053981 103.446613 \nL 115.09964 103.514399 \nL 115.190959 103.515471 \nL 115.305106 103.483329 \nL 115.442084 103.551819 \nL 115.601891 103.453626 \nL 115.761698 103.555341 \nL 115.875845 103.457085 \nL 115.898675 103.490531 \nL 116.104141 103.658213 \nL 116.263948 103.494884 \nL 116.286777 103.528109 \nL 116.355266 103.561786 \nL 116.378096 103.52914 \nL 116.492243 103.497586 \nL 116.515073 103.530685 \nL 116.560732 103.465591 \nL 116.766198 103.30466 \nL 116.903175 103.37192 \nL 117.017323 103.275809 \nL 117.040153 103.308708 \nL 117.131471 103.375053 \nL 117.1543 103.342869 \nL 117.336937 103.215888 \nL 117.405426 103.31406 \nL 117.473914 103.218096 \nL 117.610892 103.284788 \nL 117.633721 103.252898 \nL 117.70221 103.157345 \nL 117.747869 103.222481 \nL 117.884846 103.288878 \nL 117.907676 103.257115 \nL 117.930505 103.225383 \nL 117.976164 103.290224 \nL 118.18163 103.516954 \nL 118.20446 103.485264 \nL 118.295778 103.422535 \nL 118.318608 103.454709 \nL 118.455585 103.520003 \nL 118.478415 103.488449 \nL 118.615392 103.363077 \nL 118.638222 103.395104 \nL 118.683881 103.459104 \nL 118.752369 103.364917 \nL 118.866517 103.271614 \nL 118.889347 103.303556 \nL 119.094813 103.527005 \nL 119.140472 103.46454 \nL 119.186131 103.402169 \nL 119.23179 103.465612 \nL 119.460086 103.593581 \nL 119.665552 103.439474 \nL 119.939506 103.69148 \nL 119.962336 103.660589 \nL 120.190631 103.538676 \nL 120.350438 103.447675 \nL 120.373268 103.478818 \nL 120.555904 103.604075 \nL 120.578734 103.57351 \nL 120.624393 103.512432 \nL 120.692882 103.605368 \nL 120.875518 103.668369 \nL 121.012495 103.608354 \nL 121.035325 103.639129 \nL 121.28645 103.793615 \nL 121.491916 103.703855 \nL 121.628893 103.704917 \nL 121.7887 103.675929 \nL 121.857189 103.767077 \nL 121.925678 103.677044 \nL 122.382269 103.201389 \nL 122.633394 103.354414 \nL 122.884519 103.208938 \nL 123.089985 103.300938 \nL 123.226962 103.302789 \nL 123.36394 103.363687 \nL 123.386769 103.334458 \nL 123.478087 103.276682 \nL 123.523747 103.336234 \nL 123.84336 103.574919 \nL 124.140145 103.373329 \nL 124.436929 103.580449 \nL 124.551077 103.552481 \nL 124.573906 103.581711 \nL 124.779372 103.728227 \nL 124.802202 103.699471 \nL 124.939179 103.700501 \nL 125.098986 103.730477 \nL 125.235963 103.673963 \nL 125.258793 103.702867 \nL 125.4186 103.732706 \nL 125.783873 103.450072 \nL 125.943679 103.480259 \nL 126.080657 103.424891 \nL 126.103486 103.453542 \nL 126.126316 103.482162 \nL 126.194805 103.397816 \nL 126.377441 103.343374 \nL 126.468759 103.457464 \nL 126.537248 103.37355 \nL 126.697055 103.347285 \nL 126.993839 103.603213 \nL 127.016669 103.575381 \nL 127.176475 103.548854 \nL 127.290623 103.577831 \nL 127.313453 103.550126 \nL 127.47326 103.523756 \nL 127.678726 103.609048 \nL 127.907021 103.444857 \nL 127.929851 103.472773 \nL 128.066828 103.529423 \nL 128.089658 103.502034 \nL 128.295124 103.421431 \nL 128.47776 103.478366 \nL 128.683226 103.398258 \nL 128.934351 103.537551 \nL 129.00284 103.510908 \nL 129.048499 103.565855 \nL 129.208306 103.594465 \nL 129.299624 103.486588 \nL 129.368113 103.568673 \nL 129.52792 103.597156 \nL 129.642067 103.516996 \nL 129.687727 103.57147 \nL 129.870363 103.626964 \nL 130.121488 103.387166 \nL 130.167147 103.441367 \nL 130.372613 103.52383 \nL 130.53242 103.445141 \nL 130.55525 103.472089 \nL 130.737886 103.527194 \nL 130.852034 103.501624 \nL 130.874863 103.528446 \nL 131.171648 103.716609 \nL 131.308625 103.611729 \nL 131.354284 103.664952 \nL 131.468432 103.639392 \nL 131.58258 103.5085 \nL 131.651068 103.588125 \nL 131.788046 103.64181 \nL 131.810875 103.615714 \nL 131.993512 103.512306 \nL 132.016341 103.538718 \nL 132.107659 103.539528 \nL 132.130489 103.513568 \nL 132.221807 103.514399 \nL 132.244637 103.540737 \nL 132.427273 103.594465 \nL 132.541421 103.621413 \nL 132.815376 103.779127 \nL 132.975183 103.754155 \nL 133.134989 103.832592 \nL 133.157819 103.806884 \nL 133.271967 103.833275 \nL 133.477433 103.911428 \nL 133.568751 103.860423 \nL 133.61441 103.911964 \nL 133.751387 103.9125 \nL 133.774217 103.886971 \nL 133.842706 103.964051 \nL 133.865535 103.989717 \nL 133.934024 103.913215 \nL 134.093831 103.888328 \nL 134.230808 103.888895 \nL 134.253638 103.863535 \nL 134.322126 103.940163 \nL 134.344956 103.965671 \nL 134.413445 103.889663 \nL 134.459104 103.839058 \nL 134.527592 103.915507 \nL 134.618911 104.017243 \nL 134.687399 103.941446 \nL 134.984183 103.765879 \nL 135.098331 103.791723 \nL 135.121161 103.766657 \nL 135.14399 103.741612 \nL 135.212479 103.817493 \nL 135.417945 103.94398 \nL 135.440775 103.918977 \nL 135.623411 103.869602 \nL 135.806047 103.920344 \nL 135.920195 103.945704 \nL 136.080002 103.971127 \nL 136.239809 103.946776 \nL 136.513764 104.096226 \nL 136.650741 104.047009 \nL 136.673571 104.071759 \nL 136.924696 104.195365 \nL 136.947525 104.170751 \nL 137.016014 104.244603 \nL 137.175821 104.318219 \nL 137.19865 104.293642 \nL 137.289969 104.244519 \nL 137.335628 104.293521 \nL 137.541094 104.366674 \nL 137.678071 104.366432 \nL 137.837878 104.439222 \nL 137.860707 104.414808 \nL 138.066173 104.341455 \nL 138.317299 104.462175 \nL 138.385787 104.389385 \nL 138.454276 104.461775 \nL 138.659742 104.533535 \nL 138.682571 104.509337 \nL 138.75106 104.581375 \nL 139.002185 104.748431 \nL 139.025015 104.724274 \nL 139.116333 104.675751 \nL 139.161992 104.723454 \nL 139.298969 104.7705 \nL 139.321799 104.746423 \nL 139.344629 104.722361 \nL 139.413117 104.793658 \nL 139.435947 104.817399 \nL 139.504436 104.745282 \nL 139.732731 104.648619 \nL 139.869708 104.647925 \nL 140.166493 104.480596 \nL 140.30347 104.527484 \nL 140.3263 104.503754 \nL 140.417618 104.456208 \nL 140.463277 104.503296 \nL 140.645913 104.64404 \nL 140.691572 104.596721 \nL 140.82855 104.549107 \nL 140.851379 104.572517 \nL 141.056845 104.642011 \nL 141.285141 104.547361 \nL 141.422118 104.59353 \nL 141.444948 104.570093 \nL 141.581925 104.476327 \nL 141.627584 104.522774 \nL 141.810221 104.6151 \nL 141.83305 104.591758 \nL 141.924368 104.591369 \nL 141.947198 104.614474 \nL 142.289641 104.820942 \nL 142.449448 104.750628 \nL 142.472278 104.773555 \nL 142.86038 105.06962 \nL 142.88321 105.046447 \nL 142.928869 105.000127 \nL 142.997358 105.068296 \nL 143.134335 105.066976 \nL 143.271312 105.019946 \nL 143.294142 105.042588 \nL 143.476778 105.086496 \nL 143.590926 105.10815 \nL 143.682244 105.061735 \nL 143.842051 105.03751 \nL 143.933369 104.991295 \nL 144.024688 105.035828 \nL 144.230154 105.101773 \nL 144.38996 105.077627 \nL 144.595426 105.143205 \nL 144.755233 105.119085 \nL 144.91504 105.139919 \nL 145.052018 105.138515 \nL 145.280313 105.225573 \nL 145.44012 105.201485 \nL 145.577097 105.200003 \nL 145.805393 105.108665 \nL 145.9652 105.129278 \nL 146.079348 105.150286 \nL 146.44462 105.367174 \nL 146.604427 105.343144 \nL 146.718575 105.319749 \nL 146.832723 105.340347 \nL 146.9697 105.338675 \nL 147.129507 105.314834 \nL 147.312144 105.356371 \nL 147.49478 105.310502 \nL 147.677416 105.351886 \nL 147.882882 105.284222 \nL 148.111178 105.368268 \nL 148.248155 105.36658 \nL 148.476451 105.450095 \nL 148.681917 105.382793 \nL 149.001531 105.550511 \nL 149.138508 105.548571 \nL 149.275485 105.546637 \nL 149.480951 105.479692 \nL 149.617929 105.477868 \nL 149.846224 105.389759 \nL 150.143008 105.534519 \nL 150.234327 105.575619 \nL 150.325645 105.531996 \nL 150.57677 105.423015 \nL 150.850725 105.545843 \nL 150.964872 105.565284 \nL 151.07902 105.542683 \nL 151.215998 105.540801 \nL 151.444293 105.62133 \nL 151.558441 105.640561 \nL 151.718248 105.659066 \nL 151.878055 105.635866 \nL 152.060691 105.674758 \nL 152.152009 105.714917 \nL 152.494453 105.895863 \nL 152.63143 105.893507 \nL 152.768407 105.891157 \nL 152.882555 105.909815 \nL 153.019532 105.907449 \nL 153.13368 105.926038 \nL 153.384805 106.024184 \nL 153.498953 106.042568 \nL 153.795737 106.18 \nL 154.001203 106.114801 \nL 154.252328 106.211611 \nL 154.434965 106.167378 \nL 154.617601 106.204298 \nL 154.777408 106.180899 \nL 154.960045 106.217667 \nL 155.21117 106.112015 \nL 155.393806 106.148746 \nL 155.530784 106.146112 \nL 155.71342 106.182671 \nL 155.987375 106.057498 \nL 156.078693 106.01593 \nL 156.261329 105.972848 \nL 156.421136 105.989965 \nL 156.535284 106.007839 \nL 156.695091 106.024857 \nL 156.854898 106.00222 \nL 157.014705 106.019195 \nL 157.174512 105.996636 \nL 157.379978 106.052162 \nL 157.585444 105.989503 \nL 157.813739 106.064038 \nL 158.019205 106.00162 \nL 158.179012 106.018406 \nL 158.29316 106.035939 \nL 158.544285 106.128922 \nL 158.704092 106.106526 \nL 158.81824 106.085025 \nL 158.978046 106.062755 \nL 159.252001 106.17398 \nL 159.434638 106.131934 \nL 159.799911 106.31771 \nL 159.914058 106.334649 \nL 160.142354 106.406777 \nL 160.302161 106.384297 \nL 160.507627 106.437426 \nL 160.804411 106.29776 \nL 161.032707 106.369362 \nL 161.169684 106.366586 \nL 161.329491 106.382321 \nL 161.466468 106.379534 \nL 161.763252 106.505758 \nL 161.968718 106.444796 \nL 162.151355 106.478642 \nL 162.288332 106.475755 \nL 162.470969 106.509448 \nL 162.585116 106.525761 \nL 162.790582 106.577486 \nL 162.950389 106.555312 \nL 163.110196 106.57051 \nL 163.247173 106.567529 \nL 163.40698 106.582664 \nL 163.566787 106.560606 \nL 163.772253 106.611799 \nL 164.000549 106.532774 \nL 164.183185 106.565842 \nL 164.365822 106.525041 \nL 164.502799 106.52215 \nL 164.639776 106.519269 \nL 164.845242 106.570042 \nL 165.073538 106.491874 \nL 165.187686 106.471213 \nL 165.301833 106.487163 \nL 165.507299 106.53769 \nL 165.667106 106.516114 \nL 165.826913 106.530997 \nL 165.98672 106.509496 \nL 166.146527 106.524342 \nL 166.374823 106.447183 \nL 166.580289 106.497294 \nL 166.808584 106.420493 \nL 166.922732 106.400226 \nL 167.151027 106.323851 \nL 167.310834 106.338813 \nL 167.447812 106.336226 \nL 167.53913 106.298669 \nL 167.653278 106.314461 \nL 167.904403 106.399101 \nL 168.018551 106.414741 \nL 168.109869 106.377305 \nL 168.338164 106.301781 \nL 168.56646 106.36862 \nL 168.771926 106.31156 \nL 168.863244 106.27446 \nL 169.114369 106.216915 \nL 169.365494 106.300688 \nL 169.57096 106.279349 \nL 169.776426 106.328367 \nL 170.050381 106.253226 \nL 170.164529 106.233696 \nL 170.438483 106.15904 \nL 170.666779 106.224943 \nL 170.849415 106.221778 \nL 170.986393 106.219407 \nL 171.283177 106.127592 \nL 171.397325 106.108393 \nL 171.534302 106.140776 \nL 171.671279 106.138521 \nL 171.945234 106.065042 \nL 172.287677 106.214387 \nL 172.515973 106.176188 \nL 172.67578 106.15639 \nL 172.858416 106.153383 \nL 173.086712 106.183796 \nL 173.292178 106.16333 \nL 173.474814 106.160333 \nL 173.817258 106.035934 \nL 173.931405 105.98332 \nL 174.20536 105.911597 \nL 174.342337 105.875864 \nL 174.524974 105.87333 \nL 174.753269 105.903848 \nL 174.981565 105.867027 \nL 175.141372 105.848049 \nL 175.552304 105.675226 \nL 175.73494 105.673018 \nL 176.054554 105.569237 \nL 176.328509 105.632664 \nL 176.533975 105.613681 \nL 176.716611 105.611583 \nL 176.944907 105.575903 \nL 177.104714 105.557614 \nL 177.28735 105.555616 \nL 177.652623 105.683149 \nL 177.766771 105.731062 \nL 177.926578 105.712694 \nL 178.086385 105.72713 \nL 178.291851 105.740972 \nL 178.542976 105.68891 \nL 178.679953 105.654676 \nL 178.931078 105.602956 \nL 179.136544 105.616903 \nL 179.36484 105.581912 \nL 179.593135 105.611778 \nL 179.775772 105.609738 \nL 179.935579 105.591822 \nL 180.095386 105.606184 \nL 180.278022 105.60416 \nL 180.574806 105.520603 \nL 180.803102 105.55029 \nL 180.962909 105.564611 \nL 181.214034 105.609859 \nL 181.533648 105.51073 \nL 181.670625 105.4775 \nL 182.035898 105.346903 \nL 182.172875 105.313977 \nL 182.355512 105.312405 \nL 182.606637 105.357659 \nL 182.857762 105.30811 \nL 183.017569 105.290998 \nL 183.200205 105.289474 \nL 183.45133 105.334469 \nL 183.725285 105.269439 \nL 183.99924 105.329728 \nL 184.250365 105.280773 \nL 184.455831 105.294662 \nL 184.706956 105.245945 \nL 184.935251 105.275174 \nL 185.232036 105.195355 \nL 185.369013 105.163397 \nL 185.52882 105.177686 \nL 185.734286 105.191602 \nL 185.985411 105.143562 \nL 186.122388 105.111841 \nL 186.327854 105.095091 \nL 186.55615 105.124221 \nL 186.830104 105.061167 \nL 187.03557 105.075125 \nL 187.263866 105.043161 \nL 187.537821 105.102304 \nL 187.834605 105.024441 \nL 188.131389 105.098366 \nL 188.336855 105.081891 \nL 188.473832 105.050795 \nL 188.656469 105.049654 \nL 189.11306 105.227229 \nL 189.272867 105.24104 \nL 189.478333 105.254472 \nL 189.660969 105.253068 \nL 189.843606 105.251664 \nL 190.049072 105.235168 \nL 190.300197 105.277982 \nL 190.460004 105.291619 \nL 190.66547 105.304851 \nL 190.848106 105.303395 \nL 191.007913 105.287292 \nL 191.16772 105.300845 \nL 191.510163 105.401514 \nL 191.66997 105.414882 \nL 191.806948 105.384212 \nL 192.103732 105.308163 \nL 192.263539 105.292207 \nL 192.400516 105.32048 \nL 192.628812 105.347954 \nL 192.788618 105.361276 \nL 193.039744 105.403012 \nL 193.22238 105.401445 \nL 193.656142 105.557687 \nL 193.838778 105.555926 \nL 194.135562 105.62552 \nL 194.295369 105.638379 \nL 194.478006 105.636518 \nL 194.660642 105.634662 \nL 194.957426 105.703683 \nL 195.185722 105.672503 \nL 195.391188 105.684736 \nL 195.687972 105.60999 \nL 195.893438 105.622271 \nL 196.053245 105.634972 \nL 196.190222 105.605043 \nL 196.487006 105.530886 \nL 196.715302 105.557225 \nL 196.920768 105.54108 \nL 197.217552 105.609202 \nL 197.491507 105.549933 \nL 197.765462 105.603861 \nL 198.130734 105.487646 \nL 198.313371 105.486027 \nL 198.564496 105.441683 \nL 198.724303 105.426296 \nL 198.975428 105.382183 \nL 199.135235 105.366906 \nL 199.317871 105.365455 \nL 199.523337 105.377772 \nL 199.683144 105.390426 \nL 199.979929 105.457555 \nL 200.208224 105.427841 \nL 200.505008 105.494649 \nL 200.733304 105.464983 \nL 200.961599 105.490653 \nL 201.144236 105.489066 \nL 201.304043 105.473899 \nL 201.509509 105.45838 \nL 201.714975 105.470382 \nL 201.874782 105.482747 \nL 202.034589 105.467659 \nL 202.262884 105.438345 \nL 202.742305 105.611767 \nL 202.947771 105.596211 \nL 203.176066 105.621293 \nL 203.51851 105.523048 \nL 203.769635 105.561499 \nL 203.99793 105.532379 \nL 204.180567 105.530771 \nL 204.454521 105.474414 \nL 204.659987 105.486159 \nL 204.842624 105.484613 \nL 205.002431 105.469825 \nL 205.185067 105.468305 \nL 205.367704 105.466786 \nL 205.57317 105.451693 \nL 205.824295 105.489739 \nL 206.029761 105.474661 \nL 206.440693 105.604365 \nL 206.623329 105.602693 \nL 206.942943 105.679384 \nL 207.148409 105.664165 \nL 207.331045 105.66243 \nL 207.559341 105.633842 \nL 207.696318 105.606168 \nL 207.856125 105.617908 \nL 208.084421 105.642153 \nL 208.312716 105.613739 \nL 208.518182 105.625005 \nL 208.677989 105.636655 \nL 208.883455 105.647863 \nL 209.043262 105.659465 \nL 209.385705 105.747669 \nL 209.614001 105.719333 \nL 209.728149 105.679143 \nL 209.956444 105.650975 \nL 210.116251 105.636502 \nL 210.367376 105.595286 \nL 210.527183 105.580913 \nL 210.732649 105.566172 \nL 211.006604 105.615489 \nL 211.21207 105.600748 \nL 211.440365 105.6245 \nL 211.623002 105.62286 \nL 211.874127 105.65916 \nL 212.148082 105.605338 \nL 212.353548 105.616341 \nL 212.536184 105.614722 \nL 212.673161 105.587937 \nL 212.878627 105.598924 \nL 213.129753 105.634972 \nL 213.26673 105.684694 \nL 213.495025 105.708015 \nL 213.860298 105.628459 \nL 214.157083 105.689157 \nL 214.408208 105.674196 \nL 214.682162 105.696943 \nL 214.887628 105.707652 \nL 215.184413 105.742643 \nL 215.458367 105.714917 \nL 215.777981 105.76209 \nL 216.006277 105.759903 \nL 216.234572 105.757716 \nL 216.8738 105.527495 \nL 217.239073 105.599098 \nL 217.490198 105.584556 \nL 217.832641 105.643578 \nL 218.015277 105.666715 \nL 218.334891 105.71324 \nL 218.608846 105.686098 \nL 219.042607 105.792807 \nL 219.293733 105.778129 \nL 219.681835 105.860135 \nL 220.024278 105.795656 \nL 220.275404 105.805456 \nL 220.686336 105.704193 \nL 220.937461 105.714092 \nL 221.120097 105.736713 \nL 221.416881 105.770343 \nL 221.645177 105.768219 \nL 221.827813 105.742354 \nL 222.124598 105.703467 \nL 222.398552 105.725121 \nL 222.695336 105.686392 \nL 222.923632 105.6844 \nL 223.357394 105.57287 \nL 223.631348 105.594576 \nL 223.905303 105.56848 \nL 224.156428 105.57839 \nL 224.54453 105.492057 \nL 224.818485 105.513743 \nL 225.09244 105.487957 \nL 225.343565 105.497919 \nL 225.59469 105.484219 \nL 225.754497 105.447624 \nL 226.028452 105.422085 \nL 226.370895 105.478489 \nL 226.530702 105.512565 \nL 226.873145 105.568622 \nL 227.12427 105.554943 \nL 227.443884 105.599218 \nL 227.763498 105.550001 \nL 228.037452 105.571187 \nL 228.357066 105.522186 \nL 228.585362 105.520472 \nL 228.882146 105.483478 \nL 229.110442 105.481822 \nL 229.270248 105.515357 \nL 229.498544 105.513664 \nL 229.68118 105.535386 \nL 230.000794 105.579047 \nL 230.20626 105.588957 \nL 230.594363 105.666278 \nL 230.959636 105.594545 \nL 231.279249 105.637785 \nL 231.461886 105.65916 \nL 231.804329 105.713372 \nL 232.146772 105.653593 \nL 232.352238 105.640566 \nL 232.603364 105.627207 \nL 232.945807 105.68113 \nL 233.242591 105.644772 \nL 233.493716 105.654056 \nL 233.676353 105.675147 \nL 233.973137 105.706516 \nL 234.406898 105.60181 \nL 234.635194 105.600054 \nL 234.909149 105.575546 \nL 235.091785 105.551783 \nL 235.34291 105.538751 \nL 235.479888 105.493082 \nL 235.753842 105.468852 \nL 236.004967 105.478252 \nL 236.324581 105.431569 \nL 236.621365 105.46288 \nL 236.940979 105.416381 \nL 237.260593 105.458517 \nL 237.534548 105.43457 \nL 237.876991 105.487399 \nL 238.128116 105.474656 \nL 238.379241 105.483924 \nL 238.767344 105.404484 \nL 239.018469 105.413815 \nL 239.292423 105.390169 \nL 239.543549 105.399495 \nL 239.749015 105.409089 \nL 240.137117 105.482799 \nL 240.365413 105.481243 \nL 240.525219 105.447566 \nL 240.776345 105.435054 \nL 241.00464 105.433561 \nL 241.255765 105.421102 \nL 241.552549 105.451604 \nL 241.963481 105.362653 \nL 242.100459 105.31873 \nL 242.260266 105.350078 \nL 242.465732 105.338086 \nL 242.922323 105.228123 \nL 243.310425 105.30096 \nL 243.493062 105.321295 \nL 243.721357 105.319965 \nL 244.018141 105.286246 \nL 244.246437 105.284958 \nL 244.680199 105.186897 \nL 244.885665 105.175236 \nL 245.11396 105.174085 \nL 245.456403 105.225279 \nL 245.798847 105.170657 \nL 246.004313 105.159081 \nL 246.278267 105.136665 \nL 246.575052 105.166804 \nL 246.757688 105.186923 \nL 247.077302 105.227282 \nL 247.305597 105.226083 \nL 247.579552 105.245582 \nL 247.807848 105.244367 \nL 248.081802 105.263787 \nL 248.332927 105.252006 \nL 248.561223 105.250786 \nL 248.789519 105.249572 \nL 249.177621 105.320165 \nL 249.337428 105.350372 \nL 249.702701 105.410351 \nL 250.067974 105.346135 \nL 250.456076 105.416071 \nL 250.707201 105.404237 \nL 250.912667 105.392708 \nL 251.118133 105.401755 \nL 251.369258 105.410503 \nL 251.620383 105.398733 \nL 251.894338 105.417564 \nL 252.076975 105.436905 \nL 252.419418 105.485833 \nL 252.739032 105.443019 \nL 253.012986 105.461681 \nL 253.446748 105.367563 \nL 253.720703 105.386263 \nL 254.040316 105.364141 \nL 254.268612 105.362826 \nL 254.748033 105.269281 \nL 255.067646 105.287749 \nL 255.432919 105.245582 \nL 255.752533 105.264024 \nL 255.957999 105.293043 \nL 256.323272 105.331136 \nL 256.574397 105.339748 \nL 256.985329 105.397329 \nL 257.259284 105.395736 \nL 257.510409 105.384323 \nL 257.761534 105.392818 \nL 258.309443 105.508607 \nL 258.583398 105.506866 \nL 259.176966 105.641307 \nL 259.702046 105.529367 \nL 260.067319 105.56634 \nL 260.318444 105.574505 \nL 260.569569 105.563049 \nL 260.912013 105.531449 \nL 261.185967 105.529709 \nL 261.437092 105.537873 \nL 261.665388 105.516913 \nL 261.916513 105.525077 \nL 262.167638 105.513769 \nL 262.487252 105.492346 \nL 262.715548 105.471544 \nL 262.989502 105.469893 \nL 263.491752 105.563538 \nL 263.879855 105.512802 \nL 264.290787 105.568033 \nL 264.564742 105.566272 \nL 264.815867 105.555053 \nL 265.112651 105.543577 \nL 265.477924 105.579573 \nL 265.774708 105.568096 \nL 266.117151 105.594545 \nL 266.573742 105.515378 \nL 266.893356 105.532442 \nL 267.144481 105.540386 \nL 267.464095 105.557372 \nL 267.897857 105.488382 \nL 268.331618 105.551925 \nL 268.76538 105.48323 \nL 269.153482 105.52799 \nL 269.564414 105.469131 \nL 269.906858 105.495269 \nL 270.249301 105.465156 \nL 270.477596 105.445132 \nL 270.774381 105.434103 \nL 271.093994 105.450957 \nL 271.276631 105.487189 \nL 271.527756 105.476412 \nL 271.938688 105.418294 \nL 272.166984 105.398475 \nL 272.577916 105.340678 \nL 272.988848 105.394027 \nL 273.308461 105.373845 \nL 273.513927 105.345094 \nL 273.787882 105.343685 \nL 274.016178 105.324108 \nL 274.244473 105.341341 \nL 274.449939 105.312742 \nL 274.769553 105.292812 \nL 275.111996 105.318609 \nL 275.385951 105.317242 \nL 275.545758 105.270764 \nL 275.979519 105.204865 \nL 276.276304 105.212646 \nL 276.550258 105.211421 \nL 277.006849 105.281993 \nL 277.257974 105.289863 \nL 277.600418 105.31537 \nL 277.874372 105.314024 \nL 278.216816 105.339427 \nL 278.445111 105.356318 \nL 278.764725 105.372705 \nL 278.993021 105.389522 \nL 279.358294 105.423546 \nL 279.792055 105.358468 \nL 280.088839 105.365918 \nL 280.317135 105.382646 \nL 280.59109 105.381232 \nL 280.887874 105.370786 \nL 281.207488 105.386972 \nL 281.549931 105.358526 \nL 281.869545 105.374681 \nL 282.166329 105.364304 \nL 282.554431 105.406629 \nL 282.896875 105.378314 \nL 283.148 105.36821 \nL 283.376295 105.384707 \nL 283.467614 105.384239 \nL 283.467614 105.384239 \n\" clip-path=\"url(#p61d241fb96)\" style=\"fill: none; stroke: #ff7f0e; stroke-width: 1.5; stroke-linecap: square\"/>\n   </g>\n   <g id=\"line2d_15\">\n    <path d=\"M 43.78125 104.22 \nL 294.88125 104.22 \n\" clip-path=\"url(#p61d241fb96)\" style=\"fill: none; stroke-dasharray: 5.55,2.4; stroke-dashoffset: 0; stroke: #000000; stroke-width: 1.5\"/>\n   </g>\n   <g id=\"patch_3\">\n    <path d=\"M 43.78125 201.24 \nL 43.78125 7.2 \n\" style=\"fill: none; stroke: #000000; stroke-width: 0.8; stroke-linejoin: miter; stroke-linecap: square\"/>\n   </g>\n   <g id=\"patch_4\">\n    <path d=\"M 294.88125 201.24 \nL 294.88125 7.2 \n\" style=\"fill: none; stroke: #000000; stroke-width: 0.8; stroke-linejoin: miter; stroke-linecap: square\"/>\n   </g>\n   <g id=\"patch_5\">\n    <path d=\"M 43.78125 201.24 \nL 294.88125 201.24 \n\" style=\"fill: none; stroke: #000000; stroke-width: 0.8; stroke-linejoin: miter; stroke-linecap: square\"/>\n   </g>\n   <g id=\"patch_6\">\n    <path d=\"M 43.78125 7.2 \nL 294.88125 7.2 \n\" style=\"fill: none; stroke: #000000; stroke-width: 0.8; stroke-linejoin: miter; stroke-linecap: square\"/>\n   </g>\n   <g id=\"legend_1\">\n    <g id=\"patch_7\">\n     <path d=\"M 182.759375 44.55625 \nL 287.88125 44.55625 \nQ 289.88125 44.55625 289.88125 42.55625 \nL 289.88125 14.2 \nQ 289.88125 12.2 287.88125 12.2 \nL 182.759375 12.2 \nQ 180.759375 12.2 180.759375 14.2 \nL 180.759375 42.55625 \nQ 180.759375 44.55625 182.759375 44.55625 \nz\n\" style=\"fill: #ffffff; opacity: 0.8; stroke: #cccccc; stroke-linejoin: miter\"/>\n    </g>\n    <g id=\"line2d_16\">\n     <path d=\"M 184.759375 20.298438 \nL 194.759375 20.298438 \nL 204.759375 20.298438 \n\" style=\"fill: none; stroke: #1f77b4; stroke-width: 1.5; stroke-linecap: square\"/>\n    </g>\n    <g id=\"text_15\">\n     <!-- P(coin=heads) -->\n     <g transform=\"translate(212.759375 23.798438) scale(0.1 -0.1)\">\n      <defs>\n       <path id=\"DejaVuSans-50\" d=\"M 1259 4147 \nL 1259 2394 \nL 2053 2394 \nQ 2494 2394 2734 2622 \nQ 2975 2850 2975 3272 \nQ 2975 3691 2734 3919 \nQ 2494 4147 2053 4147 \nL 1259 4147 \nz\nM 628 4666 \nL 2053 4666 \nQ 2838 4666 3239 4311 \nQ 3641 3956 3641 3272 \nQ 3641 2581 3239 2228 \nQ 2838 1875 2053 1875 \nL 1259 1875 \nL 1259 0 \nL 628 0 \nL 628 4666 \nz\n\" transform=\"scale(0.015625)\"/>\n       <path id=\"DejaVuSans-28\" d=\"M 1984 4856 \nQ 1566 4138 1362 3434 \nQ 1159 2731 1159 2009 \nQ 1159 1288 1364 580 \nQ 1569 -128 1984 -844 \nL 1484 -844 \nQ 1016 -109 783 600 \nQ 550 1309 550 2009 \nQ 550 2706 781 3412 \nQ 1013 4119 1484 4856 \nL 1984 4856 \nz\n\" transform=\"scale(0.015625)\"/>\n       <path id=\"DejaVuSans-63\" d=\"M 3122 3366 \nL 3122 2828 \nQ 2878 2963 2633 3030 \nQ 2388 3097 2138 3097 \nQ 1578 3097 1268 2742 \nQ 959 2388 959 1747 \nQ 959 1106 1268 751 \nQ 1578 397 2138 397 \nQ 2388 397 2633 464 \nQ 2878 531 3122 666 \nL 3122 134 \nQ 2881 22 2623 -34 \nQ 2366 -91 2075 -91 \nQ 1284 -91 818 406 \nQ 353 903 353 1747 \nQ 353 2603 823 3093 \nQ 1294 3584 2113 3584 \nQ 2378 3584 2631 3529 \nQ 2884 3475 3122 3366 \nz\n\" transform=\"scale(0.015625)\"/>\n       <path id=\"DejaVuSans-6e\" d=\"M 3513 2113 \nL 3513 0 \nL 2938 0 \nL 2938 2094 \nQ 2938 2591 2744 2837 \nQ 2550 3084 2163 3084 \nQ 1697 3084 1428 2787 \nQ 1159 2491 1159 1978 \nL 1159 0 \nL 581 0 \nL 581 3500 \nL 1159 3500 \nL 1159 2956 \nQ 1366 3272 1645 3428 \nQ 1925 3584 2291 3584 \nQ 2894 3584 3203 3211 \nQ 3513 2838 3513 2113 \nz\n\" transform=\"scale(0.015625)\"/>\n       <path id=\"DejaVuSans-3d\" d=\"M 678 2906 \nL 4684 2906 \nL 4684 2381 \nL 678 2381 \nL 678 2906 \nz\nM 678 1631 \nL 4684 1631 \nL 4684 1100 \nL 678 1100 \nL 678 1631 \nz\n\" transform=\"scale(0.015625)\"/>\n       <path id=\"DejaVuSans-68\" d=\"M 3513 2113 \nL 3513 0 \nL 2938 0 \nL 2938 2094 \nQ 2938 2591 2744 2837 \nQ 2550 3084 2163 3084 \nQ 1697 3084 1428 2787 \nQ 1159 2491 1159 1978 \nL 1159 0 \nL 581 0 \nL 581 4863 \nL 1159 4863 \nL 1159 2956 \nQ 1366 3272 1645 3428 \nQ 1925 3584 2291 3584 \nQ 2894 3584 3203 3211 \nQ 3513 2838 3513 2113 \nz\n\" transform=\"scale(0.015625)\"/>\n       <path id=\"DejaVuSans-29\" d=\"M 513 4856 \nL 1013 4856 \nQ 1481 4119 1714 3412 \nQ 1947 2706 1947 2009 \nQ 1947 1309 1714 600 \nQ 1481 -109 1013 -844 \nL 513 -844 \nQ 928 -128 1133 580 \nQ 1338 1288 1338 2009 \nQ 1338 2731 1133 3434 \nQ 928 4138 513 4856 \nz\n\" transform=\"scale(0.015625)\"/>\n      </defs>\n      <use xlink:href=\"#DejaVuSans-50\"/>\n      <use xlink:href=\"#DejaVuSans-28\" x=\"60.302734\"/>\n      <use xlink:href=\"#DejaVuSans-63\" x=\"99.316406\"/>\n      <use xlink:href=\"#DejaVuSans-6f\" x=\"154.296875\"/>\n      <use xlink:href=\"#DejaVuSans-69\" x=\"215.478516\"/>\n      <use xlink:href=\"#DejaVuSans-6e\" x=\"243.261719\"/>\n      <use xlink:href=\"#DejaVuSans-3d\" x=\"306.640625\"/>\n      <use xlink:href=\"#DejaVuSans-68\" x=\"390.429688\"/>\n      <use xlink:href=\"#DejaVuSans-65\" x=\"453.808594\"/>\n      <use xlink:href=\"#DejaVuSans-61\" x=\"515.332031\"/>\n      <use xlink:href=\"#DejaVuSans-64\" x=\"576.611328\"/>\n      <use xlink:href=\"#DejaVuSans-73\" x=\"640.087891\"/>\n      <use xlink:href=\"#DejaVuSans-29\" x=\"692.1875\"/>\n     </g>\n    </g>\n    <g id=\"line2d_17\">\n     <path d=\"M 184.759375 34.976562 \nL 194.759375 34.976562 \nL 204.759375 34.976562 \n\" style=\"fill: none; stroke: #ff7f0e; stroke-width: 1.5; stroke-linecap: square\"/>\n    </g>\n    <g id=\"text_16\">\n     <!-- P(coin=tails) -->\n     <g transform=\"translate(212.759375 38.476562) scale(0.1 -0.1)\">\n      <use xlink:href=\"#DejaVuSans-50\"/>\n      <use xlink:href=\"#DejaVuSans-28\" x=\"60.302734\"/>\n      <use xlink:href=\"#DejaVuSans-63\" x=\"99.316406\"/>\n      <use xlink:href=\"#DejaVuSans-6f\" x=\"154.296875\"/>\n      <use xlink:href=\"#DejaVuSans-69\" x=\"215.478516\"/>\n      <use xlink:href=\"#DejaVuSans-6e\" x=\"243.261719\"/>\n      <use xlink:href=\"#DejaVuSans-3d\" x=\"306.640625\"/>\n      <use xlink:href=\"#DejaVuSans-74\" x=\"390.429688\"/>\n      <use xlink:href=\"#DejaVuSans-61\" x=\"429.638672\"/>\n      <use xlink:href=\"#DejaVuSans-69\" x=\"490.917969\"/>\n      <use xlink:href=\"#DejaVuSans-6c\" x=\"518.701172\"/>\n      <use xlink:href=\"#DejaVuSans-73\" x=\"546.484375\"/>\n      <use xlink:href=\"#DejaVuSans-29\" x=\"598.583984\"/>\n     </g>\n    </g>\n   </g>\n  </g>\n </g>\n <defs>\n  <clipPath id=\"p61d241fb96\">\n   <rect x=\"43.78125\" y=\"7.2\" width=\"251.1\" height=\"194.04\"/>\n  </clipPath>\n </defs>\n</svg>\n"
          },
          "metadata": {}
        }
      ]
    }
  ]
}