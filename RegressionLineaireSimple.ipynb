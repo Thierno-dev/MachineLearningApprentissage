{
  "nbformat": 4,
  "nbformat_minor": 0,
  "metadata": {
    "colab": {
      "provenance": [],
      "authorship_tag": "ABX9TyNP4lLyFLC0BAHL3HmSOhpS",
      "include_colab_link": true
    },
    "kernelspec": {
      "name": "python3",
      "display_name": "Python 3"
    },
    "language_info": {
      "name": "python"
    }
  },
  "cells": [
    {
      "cell_type": "markdown",
      "metadata": {
        "id": "view-in-github",
        "colab_type": "text"
      },
      "source": [
        "<a href=\"https://colab.research.google.com/github/Thierno-dev/MachineLearningApprentissage/blob/main/RegressionLineaireSimple.ipynb\" target=\"_parent\"><img src=\"https://colab.research.google.com/assets/colab-badge.svg\" alt=\"Open In Colab\"/></a>"
      ]
    },
    {
      "cell_type": "markdown",
      "source": [
        "Exercice de regression lineaire en predisant le salire de quelqun"
      ],
      "metadata": {
        "id": "1vQa2gxjVIrY"
      }
    },
    {
      "cell_type": "code",
      "execution_count": 56,
      "metadata": {
        "id": "1y6VW_gZQCLb"
      },
      "outputs": [],
      "source": [
        "import pandas as pd\n",
        "import numpy as np\n",
        "import matplotlib.pyplot as plt\n"
      ]
    },
    {
      "cell_type": "markdown",
      "source": [
        "REcuperation des données"
      ],
      "metadata": {
        "id": "1Wc4VRi2VRUe"
      }
    },
    {
      "cell_type": "code",
      "source": [
        "data = pd.read_csv(\"Salary.csv\")\n",
        "\n",
        "#Recuperer les infos de la données charge\n",
        "\n",
        "data.info()# Recupere les données et verifi s'il n'ya pas de valeur null\n"
      ],
      "metadata": {
        "colab": {
          "base_uri": "https://localhost:8080/"
        },
        "id": "D0kAxP-KVVS1",
        "outputId": "f5cbbbfd-e860-496c-a0b2-9009fe41ef06"
      },
      "execution_count": 57,
      "outputs": [
        {
          "output_type": "stream",
          "name": "stdout",
          "text": [
            "<class 'pandas.core.frame.DataFrame'>\n",
            "RangeIndex: 35 entries, 0 to 34\n",
            "Data columns (total 2 columns):\n",
            " #   Column           Non-Null Count  Dtype  \n",
            "---  ------           --------------  -----  \n",
            " 0   YearsExperience  35 non-null     float64\n",
            " 1   Salary           35 non-null     int64  \n",
            "dtypes: float64(1), int64(1)\n",
            "memory usage: 688.0 bytes\n"
          ]
        }
      ]
    },
    {
      "cell_type": "markdown",
      "source": [
        "Preparation des données en divisant les données selon les categoriees cible et features"
      ],
      "metadata": {
        "id": "9QLkpPZ-WSVJ"
      }
    },
    {
      "cell_type": "code",
      "source": [
        "X = data[['YearsExperience']]\n",
        "\n",
        "y = data['Salary']\n",
        "\n",
        "\n",
        "plt.scatter(X,y)#visualisation de l'experience et de la disparite"
      ],
      "metadata": {
        "colab": {
          "base_uri": "https://localhost:8080/",
          "height": 447
        },
        "id": "WnK0uKmGWbib",
        "outputId": "a5f91a33-3d4f-437a-e84b-38b850aeac7d"
      },
      "execution_count": 58,
      "outputs": [
        {
          "output_type": "execute_result",
          "data": {
            "text/plain": [
              "<matplotlib.collections.PathCollection at 0x7d124cc8ed70>"
            ]
          },
          "metadata": {},
          "execution_count": 58
        },
        {
          "output_type": "display_data",
          "data": {
            "text/plain": [
              "<Figure size 640x480 with 1 Axes>"
            ],
            "image/png": "[encoded data removed]"
          },
          "metadata": {}
        }
      ]
    },
    {
      "cell_type": "markdown",
      "source": [
        "# Separation des dataset en entrainement et test avec l'appel de la bibliotheque sklearn"
      ],
      "metadata": {
        "id": "Semt8QTjXEQg"
      }
    },
    {
      "cell_type": "code",
      "source": [
        "#Separer les données en train et test\n",
        "\n",
        "from sklearn.model_selection import train_test_split#importation de la bibliotheque de test\n",
        "\n",
        "\n",
        "X_train,X_test,y_train,y_test = train_test_split(X,y,test_size=0.33,random_state=0)\n",
        "\n",
        "X_test,y_test"
      ],
      "metadata": {
        "colab": {
          "base_uri": "https://localhost:8080/"
        },
        "id": "JwrqUhq6XQ00",
        "outputId": "136205fc-221b-4022-f190-11883d427b6f"
      },
      "execution_count": 59,
      "outputs": [
        {
          "output_type": "execute_result",
          "data": {
            "text/plain": [
              "(    YearsExperience\n",
              " 29             10.5\n",
              " 20              6.8\n",
              " 16              5.1\n",
              " 28             10.3\n",
              " 22              7.9\n",
              " 15              4.9\n",
              " 10              3.9\n",
              " 2               1.5\n",
              " 11              4.0\n",
              " 27              9.6\n",
              " 25              9.0\n",
              " 34             13.5,\n",
              " 29    121872\n",
              " 20     91738\n",
              " 16     66029\n",
              " 28    122391\n",
              " 22    101302\n",
              " 15     67938\n",
              " 10     63218\n",
              " 2      37731\n",
              " 11     55794\n",
              " 27    112635\n",
              " 25    105582\n",
              " 34    139465\n",
              " Name: Salary, dtype: int64)"
            ]
          },
          "metadata": {},
          "execution_count": 59
        }
      ]
    },
    {
      "cell_type": "markdown",
      "source": [
        "# Importation du modele de regression lineaire dans sklearn"
      ],
      "metadata": {
        "id": "uItW0cA1ZDUp"
      }
    },
    {
      "cell_type": "code",
      "source": [
        "from sklearn.linear_model import LinearRegression\n",
        "\n",
        "regression = LinearRegression()#creation de l'instance\n",
        "\n",
        "\n"
      ],
      "metadata": {
        "id": "-KbGYajiZMf5"
      },
      "execution_count": 60,
      "outputs": []
    },
    {
      "cell_type": "markdown",
      "source": [
        "# Faire l'entrainement du modele"
      ],
      "metadata": {
        "id": "3m0ru3UJZjaE"
      }
    },
    {
      "cell_type": "code",
      "source": [
        "regression.fit(X_train,y_train) #entrainer le modele avec les données d'entrainement X et y"
      ],
      "metadata": {
        "colab": {
          "base_uri": "https://localhost:8080/",
          "height": 74
        },
        "id": "EcuEYmCMZorS",
        "outputId": "2d9931ad-5923-4c6c-cc83-198d504490c3"
      },
      "execution_count": 61,
      "outputs": [
        {
          "output_type": "execute_result",
          "data": {
            "text/plain": [
              "LinearRegression()"
            ],
            "text/html": [
              "<style>#sk-container-id-3 {color: black;background-color: white;}#sk-container-id-3 pre{padding: 0;}#sk-container-id-3 div.sk-toggleable {background-color: white;}#sk-container-id-3 label.sk-toggleable__label {cursor: pointer;display: block;width: 100%;margin-bottom: 0;padding: 0.3em;box-sizing: border-box;text-align: center;}#sk-container-id-3 label.sk-toggleable__label-arrow:before {content: \"▸\";float: left;margin-right: 0.25em;color: #696969;}#sk-container-id-3 label.sk-toggleable__label-arrow:hover:before {color: black;}#sk-container-id-3 div.sk-estimator:hover label.sk-toggleable__label-arrow:before {color: black;}#sk-container-id-3 div.sk-toggleable__content {max-height: 0;max-width: 0;overflow: hidden;text-align: left;background-color: #f0f8ff;}#sk-container-id-3 div.sk-toggleable__content pre {margin: 0.2em;color: black;border-radius: 0.25em;background-color: #f0f8ff;}#sk-container-id-3 input.sk-toggleable__control:checked~div.sk-toggleable__content {max-height: 200px;max-width: 100%;overflow: auto;}#sk-container-id-3 input.sk-toggleable__control:checked~label.sk-toggleable__label-arrow:before {content: \"▾\";}#sk-container-id-3 div.sk-estimator input.sk-toggleable__control:checked~label.sk-toggleable__label {background-color: #d4ebff;}#sk-container-id-3 div.sk-label input.sk-toggleable__control:checked~label.sk-toggleable__label {background-color: #d4ebff;}#sk-container-id-3 input.sk-hidden--visually {border: 0;clip: rect(1px 1px 1px 1px);clip: rect(1px, 1px, 1px, 1px);height: 1px;margin: -1px;overflow: hidden;padding: 0;position: absolute;width: 1px;}#sk-container-id-3 div.sk-estimator {font-family: monospace;background-color: #f0f8ff;border: 1px dotted black;border-radius: 0.25em;box-sizing: border-box;margin-bottom: 0.5em;}#sk-container-id-3 div.sk-estimator:hover {background-color: #d4ebff;}#sk-container-id-3 div.sk-parallel-item::after {content: \"\";width: 100%;border-bottom: 1px solid gray;flex-grow: 1;}#sk-container-id-3 div.sk-label:hover label.sk-toggleable__label {background-color: #d4ebff;}#sk-container-id-3 div.sk-serial::before {content: \"\";position: absolute;border-left: 1px solid gray;box-sizing: border-box;top: 0;bottom: 0;left: 50%;z-index: 0;}#sk-container-id-3 div.sk-serial {display: flex;flex-direction: column;align-items: center;background-color: white;padding-right: 0.2em;padding-left: 0.2em;position: relative;}#sk-container-id-3 div.sk-item {position: relative;z-index: 1;}#sk-container-id-3 div.sk-parallel {display: flex;align-items: stretch;justify-content: center;background-color: white;position: relative;}#sk-container-id-3 div.sk-item::before, #sk-container-id-3 div.sk-parallel-item::before {content: \"\";position: absolute;border-left: 1px solid gray;box-sizing: border-box;top: 0;bottom: 0;left: 50%;z-index: -1;}#sk-container-id-3 div.sk-parallel-item {display: flex;flex-direction: column;z-index: 1;position: relative;background-color: white;}#sk-container-id-3 div.sk-parallel-item:first-child::after {align-self: flex-end;width: 50%;}#sk-container-id-3 div.sk-parallel-item:last-child::after {align-self: flex-start;width: 50%;}#sk-container-id-3 div.sk-parallel-item:only-child::after {width: 0;}#sk-container-id-3 div.sk-dashed-wrapped {border: 1px dashed gray;margin: 0 0.4em 0.5em 0.4em;box-sizing: border-box;padding-bottom: 0.4em;background-color: white;}#sk-container-id-3 div.sk-label label {font-family: monospace;font-weight: bold;display: inline-block;line-height: 1.2em;}#sk-container-id-3 div.sk-label-container {text-align: center;}#sk-container-id-3 div.sk-container {/* jupyter's `normalize.less` sets `[hidden] { display: none; }` but bootstrap.min.css set `[hidden] { display: none !important; }` so we also need the `!important` here to be able to override the default hidden behavior on the sphinx rendered scikit-learn.org. See: https://github.com/scikit-learn/scikit-learn/issues/21755 */display: inline-block !important;position: relative;}#sk-container-id-3 div.sk-text-repr-fallback {display: none;}</style><div id=\"sk-container-id-3\" class=\"sk-top-container\"><div class=\"sk-text-repr-fallback\"><pre>LinearRegression()</pre><b>In a Jupyter environment, please rerun this cell to show the HTML representation or trust the notebook. <br />On GitHub, the HTML representation is unable to render, please try loading this page with nbviewer.org.</b></div><div class=\"sk-container\" hidden><div class=\"sk-item\"><div class=\"sk-estimator sk-toggleable\"><input class=\"sk-toggleable__control sk-hidden--visually\" id=\"sk-estimator-id-3\" type=\"checkbox\" checked><label for=\"sk-estimator-id-3\" class=\"sk-toggleable__label sk-toggleable__label-arrow\">LinearRegression</label><div class=\"sk-toggleable__content\"><pre>LinearRegression()</pre></div></div></div></div></div>"
            ]
          },
          "metadata": {},
          "execution_count": 61
        }
      ]
    },
    {
      "cell_type": "markdown",
      "source": [
        "Trouver les coeficient a et b de la fonction ax + b"
      ],
      "metadata": {
        "id": "8Ouhlug3Z9DB"
      }
    },
    {
      "cell_type": "code",
      "source": [
        "print(regression.coef_)# coefficient a apres entrainement\n",
        "\n",
        "print(regression.intercept_)#coefficient b apres entrainement"
      ],
      "metadata": {
        "colab": {
          "base_uri": "https://localhost:8080/"
        },
        "id": "17GDpQRBaLNP",
        "outputId": "367cae7c-30e3-4cbf-d9a6-d4b87d69eb5c"
      },
      "execution_count": 62,
      "outputs": [
        {
          "output_type": "stream",
          "name": "stdout",
          "text": [
            "[8692.01316868]\n",
            "29974.33208826927\n"
          ]
        }
      ]
    },
    {
      "cell_type": "markdown",
      "source": [
        "Dessiner la droite dans le graphique de depart"
      ],
      "metadata": {
        "id": "_b-cra90auzp"
      }
    },
    {
      "cell_type": "code",
      "source": [
        "# Ajouter la droite dans le graphique\n",
        "\n",
        "abscisse = np.linspace(0,15,1000)\n",
        "\n",
        "plt.scatter(X,y)\n",
        "\n",
        "plt.plot(abscisse,regression.coef_*abscisse+regression.intercept_,color='r')\n",
        "\n",
        "plt.xlabel(\"Annee experience\")\n",
        "\n",
        "plt.ylabel(\"Salaire\")"
      ],
      "metadata": {
        "colab": {
          "base_uri": "https://localhost:8080/",
          "height": 466
        },
        "id": "t3AZPB8pazuN",
        "outputId": "b44e547d-e0f3-46d5-b824-5604543f8665"
      },
      "execution_count": 63,
      "outputs": [
        {
          "output_type": "execute_result",
          "data": {
            "text/plain": [
              "Text(0, 0.5, 'Salaire')"
            ]
          },
          "metadata": {},
          "execution_count": 63
        },
        {
          "output_type": "display_data",
          "data": {
            "text/plain": [
              "<Figure size 640x480 with 1 Axes>"
            ],
            "image/png": "[encoded data removed]"
          },
          "metadata": {}
        }
      ]
    },
    {
      "cell_type": "markdown",
      "source": [
        "# Evaluation du modele"
      ],
      "metadata": {
        "id": "mU9ta6FXeUP6"
      }
    },
    {
      "cell_type": "code",
      "source": [
        "#Creation de la valeur de prediction\n",
        "\n",
        "y_predict = regression.predict(X_test)"
      ],
      "metadata": {
        "id": "vid_FmMLf6v5"
      },
      "execution_count": 64,
      "outputs": []
    },
    {
      "cell_type": "code",
      "source": [
        "from sklearn import metrics\n",
        "\n",
        "print(\"MAE:\",metrics.mean_absolute_error(y_test,y_predict))\n",
        "\n",
        "print(\"MSE:\",metrics.mean_squared_error(y_test,y_predict))\n",
        "\n",
        "print(\"RMSE:\",np.sqrt(metrics.mean_squared_error(y_test,y_predict)))\n",
        "\n",
        "print(\"R²:\",metrics.r2_score(y_test,y_predict))\n",
        "\n"
      ],
      "metadata": {
        "colab": {
          "base_uri": "https://localhost:8080/"
        },
        "id": "zba5zxpqef4I",
        "outputId": "3a5ea7b5-009e-437b-c64b-ce06254d0f43"
      },
      "execution_count": 65,
      "outputs": [
        {
          "output_type": "stream",
          "name": "stdout",
          "text": [
            "MAE: 3990.0449210006386\n",
            "MSE: 24190855.78256977\n",
            "RMSE: 4918.420049423368\n",
            "R²: 0.9737903397670056\n"
          ]
        }
      ]
    },
    {
      "cell_type": "markdown",
      "source": [
        "# Creation de nouvelle donnees en predisant le salaire , en fonctionn des annees d'experience"
      ],
      "metadata": {
        "id": "x5n4dcv5hnHh"
      }
    },
    {
      "cell_type": "code",
      "source": [
        "New_data = [1,4]\n",
        "\n",
        "\n",
        "\n",
        "New_Test = pd.DataFrame(New_data,columns=['YearsExperience'])\n",
        "\n",
        "y_new = regression.predict(New_Test)\n",
        "\n",
        "y_new"
      ],
      "metadata": {
        "colab": {
          "base_uri": "https://localhost:8080/"
        },
        "id": "hN1FA746hyaj",
        "outputId": "e5f11869-0547-42ec-a898-ee26c5d104f0"
      },
      "execution_count": 73,
      "outputs": [
        {
          "output_type": "execute_result",
          "data": {
            "text/plain": [
              "array([38666.34525695, 64742.384763  ])"
            ]
          },
          "metadata": {},
          "execution_count": 73
        }
      ]
    }
  ]
}